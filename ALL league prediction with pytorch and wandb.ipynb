{
 "cells": [
  {
   "cell_type": "code",
   "execution_count": 1,
   "id": "29d6cc2b-e6e8-41ff-bafa-f64fbf014c32",
   "metadata": {},
   "outputs": [],
   "source": [
    "import pandas as pd\n",
    "import mysql.connector\n",
    "import numpy as np\n",
    "import torch\n",
    "import torch.nn as nn\n",
    "import torch.optim as optim\n",
    "from sklearn.model_selection import train_test_split\n",
    "from sklearn.preprocessing import StandardScaler\n",
    "from sklearn.metrics import classification_report, accuracy_score\n",
    "import wandb"
   ]
  },
  {
   "cell_type": "code",
   "execution_count": 2,
   "id": "94e13dab-9207-4cd1-9e73-25688e9f9ded",
   "metadata": {},
   "outputs": [
    {
     "name": "stderr",
     "output_type": "stream",
     "text": [
      "C:\\Users\\USER\\AppData\\Local\\Temp\\ipykernel_8592\\28585634.py:7: UserWarning: pandas only supports SQLAlchemy connectable (engine/connection) or database string URI or sqlite3 DBAPI2 connection. Other DBAPI2 objects are not tested. Please consider using SQLAlchemy.\n",
      "  df = pd.read_sql(query, conn)\n"
     ]
    }
   ],
   "source": [
    "# Connect to MySQL and load data\n",
    "#using my sql credentials \n",
    "from config import get_db_connection\n",
    "conn = get_db_connection()\n",
    "\n",
    "query = \"SELECT * FROM Matches_data;\"\n",
    "df = pd.read_sql(query, conn)\n",
    "conn.close()"
   ]
  },
  {
   "cell_type": "code",
   "execution_count": 3,
   "id": "adffe2cd-a318-4f26-9283-25e31742ef27",
   "metadata": {},
   "outputs": [],
   "source": [
    "# Prepare data\n",
    "data = df.copy()\n",
    "X = data.drop(['id','home_score', 'away_score', 'Result', 'matchday', 'date', \n",
    "               'home_points', 'away_points','GG', 'Cumulative_Home_Matches',\n",
    "               'Cumulative_Away_Matches', 'home_wins', 'home_draws', 'home_losses', \n",
    "               'away_wins', 'away_draws','away_losses'], axis=1)\n",
    "y = data['Result']\n",
    "\n",
    "# Scale features\n",
    "sc = StandardScaler()\n",
    "X = sc.fit_transform(X)"
   ]
  },
  {
   "cell_type": "code",
   "execution_count": 4,
   "id": "a01cb59f-af4c-42db-b76b-ae15ce1182aa",
   "metadata": {},
   "outputs": [],
   "source": [
    "X_train, X_test, y_train, y_test = train_test_split(X, y, test_size=0.1, random_state=42)\n",
    "\n",
    "# Convert to tensors\n",
    "X_train_tensor = torch.FloatTensor(X_train)\n",
    "y_train_tensor = torch.LongTensor(y_train.to_numpy())\n",
    "X_test_tensor = torch.FloatTensor(X_test)\n",
    "y_test_tensor = torch.LongTensor(y_test.to_numpy())"
   ]
  },
  {
   "cell_type": "code",
   "execution_count": 5,
   "id": "0147a6e0-2d73-47ff-bd11-c87e63bc3df3",
   "metadata": {},
   "outputs": [
    {
     "name": "stdout",
     "output_type": "stream",
     "text": [
      "Create sweep with ID: hi0ndynh\n",
      "Sweep URL: https://wandb.ai/adey004azeez-hiipower-academy/football-ml-prediction/sweeps/hi0ndynh\n"
     ]
    },
    {
     "name": "stderr",
     "output_type": "stream",
     "text": [
      "wandb: Agent Starting Run: ndpochbt with config:\n",
      "wandb: \tdropout_prob: 0.34696541105753886\n",
      "wandb: \thidden_size: 56\n",
      "wandb: \tlearning_rate: 0.017534629764001542\n",
      "wandb: \tnum_epochs: 666\n",
      "wandb: Currently logged in as: adey004azeez (adey004azeez-hiipower-academy) to https://api.wandb.ai. Use `wandb login --relogin` to force relogin\n"
     ]
    },
    {
     "data": {
      "text/html": [],
      "text/plain": [
       "<IPython.core.display.HTML object>"
      ]
     },
     "metadata": {},
     "output_type": "display_data"
    },
    {
     "data": {
      "text/html": [
       "Tracking run with wandb version 0.22.0"
      ],
      "text/plain": [
       "<IPython.core.display.HTML object>"
      ]
     },
     "metadata": {},
     "output_type": "display_data"
    },
    {
     "data": {
      "text/html": [
       "Run data is saved locally in <code>C:\\Users\\USER\\wandb\\run-20251006_003250-ndpochbt</code>"
      ],
      "text/plain": [
       "<IPython.core.display.HTML object>"
      ]
     },
     "metadata": {},
     "output_type": "display_data"
    },
    {
     "data": {
      "text/html": [
       "Syncing run <strong><a href='https://wandb.ai/adey004azeez-hiipower-academy/football-ml-prediction/runs/ndpochbt' target=\"_blank\">divine-sweep-1</a></strong> to <a href='https://wandb.ai/adey004azeez-hiipower-academy/football-ml-prediction' target=\"_blank\">Weights & Biases</a> (<a href='https://wandb.me/developer-guide' target=\"_blank\">docs</a>)<br>Sweep page: <a href='https://wandb.ai/adey004azeez-hiipower-academy/football-ml-prediction/sweeps/hi0ndynh' target=\"_blank\">https://wandb.ai/adey004azeez-hiipower-academy/football-ml-prediction/sweeps/hi0ndynh</a>"
      ],
      "text/plain": [
       "<IPython.core.display.HTML object>"
      ]
     },
     "metadata": {},
     "output_type": "display_data"
    },
    {
     "data": {
      "text/html": [
       " View project at <a href='https://wandb.ai/adey004azeez-hiipower-academy/football-ml-prediction' target=\"_blank\">https://wandb.ai/adey004azeez-hiipower-academy/football-ml-prediction</a>"
      ],
      "text/plain": [
       "<IPython.core.display.HTML object>"
      ]
     },
     "metadata": {},
     "output_type": "display_data"
    },
    {
     "data": {
      "text/html": [
       " View sweep at <a href='https://wandb.ai/adey004azeez-hiipower-academy/football-ml-prediction/sweeps/hi0ndynh' target=\"_blank\">https://wandb.ai/adey004azeez-hiipower-academy/football-ml-prediction/sweeps/hi0ndynh</a>"
      ],
      "text/plain": [
       "<IPython.core.display.HTML object>"
      ]
     },
     "metadata": {},
     "output_type": "display_data"
    },
    {
     "data": {
      "text/html": [
       " View run at <a href='https://wandb.ai/adey004azeez-hiipower-academy/football-ml-prediction/runs/ndpochbt' target=\"_blank\">https://wandb.ai/adey004azeez-hiipower-academy/football-ml-prediction/runs/ndpochbt</a>"
      ],
      "text/plain": [
       "<IPython.core.display.HTML object>"
      ]
     },
     "metadata": {},
     "output_type": "display_data"
    },
    {
     "name": "stdout",
     "output_type": "stream",
     "text": [
      "Epoch[40/666], Train Loss: 0.7449, Val Acc: 0.6610\n",
      "Epoch[80/666], Train Loss: 0.7052, Val Acc: 0.6723\n",
      "Epoch[120/666], Train Loss: 0.6824, Val Acc: 0.6596\n",
      "Epoch[160/666], Train Loss: 0.6724, Val Acc: 0.6723\n",
      "Epoch[200/666], Train Loss: 0.6608, Val Acc: 0.6835\n",
      "Epoch[240/666], Train Loss: 0.6593, Val Acc: 0.6765\n",
      "Epoch[280/666], Train Loss: 0.6574, Val Acc: 0.6934\n",
      "Epoch[320/666], Train Loss: 0.6478, Val Acc: 0.6920\n",
      "Epoch[360/666], Train Loss: 0.6470, Val Acc: 0.6906\n",
      "Epoch[400/666], Train Loss: 0.6459, Val Acc: 0.6990\n",
      "Epoch[440/666], Train Loss: 0.6401, Val Acc: 0.6906\n",
      "Epoch[480/666], Train Loss: 0.6358, Val Acc: 0.6878\n",
      "Epoch[520/666], Train Loss: 0.6330, Val Acc: 0.6864\n",
      "Epoch[560/666], Train Loss: 0.6330, Val Acc: 0.6906\n",
      "Epoch[600/666], Train Loss: 0.6293, Val Acc: 0.6906\n",
      "Epoch[640/666], Train Loss: 0.6329, Val Acc: 0.6962\n",
      "\n",
      "Final Test Accuracy: 0.6948\n",
      "\n",
      "Classification Report:\n",
      "              precision    recall  f1-score   support\n",
      "\n",
      "           0       0.66      0.76      0.71       208\n",
      "           1       0.65      0.41      0.50       187\n",
      "           2       0.73      0.82      0.77       316\n",
      "\n",
      "    accuracy                           0.69       711\n",
      "   macro avg       0.68      0.66      0.66       711\n",
      "weighted avg       0.69      0.69      0.68       711\n",
      "\n"
     ]
    },
    {
     "data": {
      "text/html": [],
      "text/plain": [
       "<IPython.core.display.HTML object>"
      ]
     },
     "metadata": {},
     "output_type": "display_data"
    },
    {
     "data": {
      "text/html": [
       "<br>    <style><br>        .wandb-row {<br>            display: flex;<br>            flex-direction: row;<br>            flex-wrap: wrap;<br>            justify-content: flex-start;<br>            width: 100%;<br>        }<br>        .wandb-col {<br>            display: flex;<br>            flex-direction: column;<br>            flex-basis: 100%;<br>            flex: 1;<br>            padding: 10px;<br>        }<br>    </style><br><div class=\"wandb-row\"><div class=\"wandb-col\"><h3>Run history:</h3><br/><table class=\"wandb\"><tr><td>epoch</td><td>▁▁▁▁▂▂▂▂▂▂▂▃▃▃▃▄▄▄▄▄▄▄▅▅▅▅▆▆▆▆▇▇▇▇▇█████</td></tr><tr><td>train_accuracy</td><td>▁▂▂▃▃▅▅▅▅▅▅▆▇▇▆▆▆▆▇▇▇▇▇▇▆▇▇▇▇▇▇▇▇▇██▇▇██</td></tr><tr><td>train_loss</td><td>█▃▃▃▃▂▂▂▂▂▂▂▂▂▂▂▂▁▁▁▁▁▁▁▁▁▁▁▁▁▁▁▁▁▁▁▁▁▁▁</td></tr><tr><td>val_accuracy</td><td>▁▆▆▆▆▆▆▆▇▇▇▇▇▇▇▇██▇▇▇▇█▇▇█▇▇▇▇███▇▇▇████</td></tr><tr><td>val_loss</td><td>█▄▃▃▂▂▂▂▂▂▂▁▁▁▁▁▁▁▁▁▁▂▂▂▂▂▂▂▂▂▂▂▂▂▂▂▂▂▂▂</td></tr></table><br/></div><div class=\"wandb-col\"><h3>Run summary:</h3><br/><table class=\"wandb\"><tr><td>epoch</td><td>665</td></tr><tr><td>train_accuracy</td><td>0.72277</td></tr><tr><td>train_loss</td><td>0.62538</td></tr><tr><td>val_accuracy</td><td>0.6948</td></tr><tr><td>val_loss</td><td>0.75481</td></tr></table><br/></div></div>"
      ],
      "text/plain": [
       "<IPython.core.display.HTML object>"
      ]
     },
     "metadata": {},
     "output_type": "display_data"
    },
    {
     "data": {
      "text/html": [
       " View run <strong style=\"color:#cdcd00\">divine-sweep-1</strong> at: <a href='https://wandb.ai/adey004azeez-hiipower-academy/football-ml-prediction/runs/ndpochbt' target=\"_blank\">https://wandb.ai/adey004azeez-hiipower-academy/football-ml-prediction/runs/ndpochbt</a><br> View project at: <a href='https://wandb.ai/adey004azeez-hiipower-academy/football-ml-prediction' target=\"_blank\">https://wandb.ai/adey004azeez-hiipower-academy/football-ml-prediction</a><br>Synced 5 W&B file(s), 0 media file(s), 0 artifact file(s) and 0 other file(s)"
      ],
      "text/plain": [
       "<IPython.core.display.HTML object>"
      ]
     },
     "metadata": {},
     "output_type": "display_data"
    },
    {
     "data": {
      "text/html": [
       "Find logs at: <code>.\\wandb\\run-20251006_003250-ndpochbt\\logs</code>"
      ],
      "text/plain": [
       "<IPython.core.display.HTML object>"
      ]
     },
     "metadata": {},
     "output_type": "display_data"
    },
    {
     "name": "stderr",
     "output_type": "stream",
     "text": [
      "wandb: Sweep Agent: Waiting for job.\n",
      "wandb: Job received.\n",
      "wandb: Agent Starting Run: f72y0wbl with config:\n",
      "wandb: \tdropout_prob: 0.27691721943286096\n",
      "wandb: \thidden_size: 28\n",
      "wandb: \tlearning_rate: 0.01843606376389802\n",
      "wandb: \tnum_epochs: 814\n"
     ]
    },
    {
     "data": {
      "text/html": [],
      "text/plain": [
       "<IPython.core.display.HTML object>"
      ]
     },
     "metadata": {},
     "output_type": "display_data"
    },
    {
     "data": {
      "text/html": [
       "Tracking run with wandb version 0.22.0"
      ],
      "text/plain": [
       "<IPython.core.display.HTML object>"
      ]
     },
     "metadata": {},
     "output_type": "display_data"
    },
    {
     "data": {
      "text/html": [
       "Run data is saved locally in <code>C:\\Users\\USER\\wandb\\run-20251006_003322-f72y0wbl</code>"
      ],
      "text/plain": [
       "<IPython.core.display.HTML object>"
      ]
     },
     "metadata": {},
     "output_type": "display_data"
    },
    {
     "data": {
      "text/html": [
       "Syncing run <strong><a href='https://wandb.ai/adey004azeez-hiipower-academy/football-ml-prediction/runs/f72y0wbl' target=\"_blank\">super-sweep-2</a></strong> to <a href='https://wandb.ai/adey004azeez-hiipower-academy/football-ml-prediction' target=\"_blank\">Weights & Biases</a> (<a href='https://wandb.me/developer-guide' target=\"_blank\">docs</a>)<br>Sweep page: <a href='https://wandb.ai/adey004azeez-hiipower-academy/football-ml-prediction/sweeps/hi0ndynh' target=\"_blank\">https://wandb.ai/adey004azeez-hiipower-academy/football-ml-prediction/sweeps/hi0ndynh</a>"
      ],
      "text/plain": [
       "<IPython.core.display.HTML object>"
      ]
     },
     "metadata": {},
     "output_type": "display_data"
    },
    {
     "data": {
      "text/html": [
       " View project at <a href='https://wandb.ai/adey004azeez-hiipower-academy/football-ml-prediction' target=\"_blank\">https://wandb.ai/adey004azeez-hiipower-academy/football-ml-prediction</a>"
      ],
      "text/plain": [
       "<IPython.core.display.HTML object>"
      ]
     },
     "metadata": {},
     "output_type": "display_data"
    },
    {
     "data": {
      "text/html": [
       " View sweep at <a href='https://wandb.ai/adey004azeez-hiipower-academy/football-ml-prediction/sweeps/hi0ndynh' target=\"_blank\">https://wandb.ai/adey004azeez-hiipower-academy/football-ml-prediction/sweeps/hi0ndynh</a>"
      ],
      "text/plain": [
       "<IPython.core.display.HTML object>"
      ]
     },
     "metadata": {},
     "output_type": "display_data"
    },
    {
     "data": {
      "text/html": [
       " View run at <a href='https://wandb.ai/adey004azeez-hiipower-academy/football-ml-prediction/runs/f72y0wbl' target=\"_blank\">https://wandb.ai/adey004azeez-hiipower-academy/football-ml-prediction/runs/f72y0wbl</a>"
      ],
      "text/plain": [
       "<IPython.core.display.HTML object>"
      ]
     },
     "metadata": {},
     "output_type": "display_data"
    },
    {
     "name": "stdout",
     "output_type": "stream",
     "text": [
      "Epoch[40/814], Train Loss: 0.7640, Val Acc: 0.6526\n",
      "Epoch[80/814], Train Loss: 0.7221, Val Acc: 0.6568\n",
      "Epoch[120/814], Train Loss: 0.7007, Val Acc: 0.6568\n",
      "Epoch[160/814], Train Loss: 0.6895, Val Acc: 0.6554\n",
      "Epoch[200/814], Train Loss: 0.6768, Val Acc: 0.6596\n",
      "Epoch[240/814], Train Loss: 0.6788, Val Acc: 0.6596\n",
      "Epoch[280/814], Train Loss: 0.6751, Val Acc: 0.6639\n",
      "Epoch[320/814], Train Loss: 0.6697, Val Acc: 0.6709\n",
      "Epoch[360/814], Train Loss: 0.6707, Val Acc: 0.6653\n",
      "Epoch[400/814], Train Loss: 0.6696, Val Acc: 0.6737\n",
      "Epoch[440/814], Train Loss: 0.6675, Val Acc: 0.6779\n",
      "Epoch[480/814], Train Loss: 0.6655, Val Acc: 0.6765\n",
      "Epoch[520/814], Train Loss: 0.6584, Val Acc: 0.6751\n",
      "Epoch[560/814], Train Loss: 0.6558, Val Acc: 0.6737\n",
      "Epoch[600/814], Train Loss: 0.6625, Val Acc: 0.6737\n",
      "Epoch[640/814], Train Loss: 0.6591, Val Acc: 0.6709\n",
      "Epoch[680/814], Train Loss: 0.6518, Val Acc: 0.6681\n",
      "Epoch[720/814], Train Loss: 0.6535, Val Acc: 0.6695\n",
      "Epoch[760/814], Train Loss: 0.6597, Val Acc: 0.6667\n",
      "Epoch[800/814], Train Loss: 0.6516, Val Acc: 0.6681\n",
      "\n",
      "Final Test Accuracy: 0.6709\n",
      "\n",
      "Classification Report:\n",
      "              precision    recall  f1-score   support\n",
      "\n",
      "           0       0.66      0.75      0.70       208\n",
      "           1       0.61      0.32      0.42       187\n",
      "           2       0.69      0.83      0.75       316\n",
      "\n",
      "    accuracy                           0.67       711\n",
      "   macro avg       0.65      0.63      0.63       711\n",
      "weighted avg       0.66      0.67      0.65       711\n",
      "\n"
     ]
    },
    {
     "data": {
      "text/html": [],
      "text/plain": [
       "<IPython.core.display.HTML object>"
      ]
     },
     "metadata": {},
     "output_type": "display_data"
    },
    {
     "data": {
      "text/html": [
       "<br>    <style><br>        .wandb-row {<br>            display: flex;<br>            flex-direction: row;<br>            flex-wrap: wrap;<br>            justify-content: flex-start;<br>            width: 100%;<br>        }<br>        .wandb-col {<br>            display: flex;<br>            flex-direction: column;<br>            flex-basis: 100%;<br>            flex: 1;<br>            padding: 10px;<br>        }<br>    </style><br><div class=\"wandb-row\"><div class=\"wandb-col\"><h3>Run history:</h3><br/><table class=\"wandb\"><tr><td>epoch</td><td>▁▁▁▁▂▂▂▂▂▂▃▃▃▃▃▄▄▅▅▅▅▅▅▆▆▆▆▆▇▇▇▇████████</td></tr><tr><td>train_accuracy</td><td>▁▂▃▄▄▆▆▅▆▆▆▆▆▆▇▆▇▇▆▆▇█▆▇▆▇▇▇▇▇▇▇▇█▇▇█▇▇▇</td></tr><tr><td>train_loss</td><td>█▆▆▄▄▃▃▃▃▂▂▂▂▂▂▂▂▂▂▂▂▂▁▂▁▂▁▂▁▂▁▁▁▁▁▁▁▁▁▁</td></tr><tr><td>val_accuracy</td><td>▁▆▇▇▇▇▇▇██▇████████████████▇██▇█▇▇█▇▇▇▇▇</td></tr><tr><td>val_loss</td><td>█▆▅▄▃▃▃▃▃▃▂▂▂▁▁▁▁▁▁▁▁▂▁▂▂▁▁▁▂▂▁▂▂▂▂▂▂▂▂▂</td></tr></table><br/></div><div class=\"wandb-col\"><h3>Run summary:</h3><br/><table class=\"wandb\"><tr><td>epoch</td><td>813</td></tr><tr><td>train_accuracy</td><td>0.71058</td></tr><tr><td>train_loss</td><td>0.65362</td></tr><tr><td>val_accuracy</td><td>0.67089</td></tr><tr><td>val_loss</td><td>0.7432</td></tr></table><br/></div></div>"
      ],
      "text/plain": [
       "<IPython.core.display.HTML object>"
      ]
     },
     "metadata": {},
     "output_type": "display_data"
    },
    {
     "data": {
      "text/html": [
       " View run <strong style=\"color:#cdcd00\">super-sweep-2</strong> at: <a href='https://wandb.ai/adey004azeez-hiipower-academy/football-ml-prediction/runs/f72y0wbl' target=\"_blank\">https://wandb.ai/adey004azeez-hiipower-academy/football-ml-prediction/runs/f72y0wbl</a><br> View project at: <a href='https://wandb.ai/adey004azeez-hiipower-academy/football-ml-prediction' target=\"_blank\">https://wandb.ai/adey004azeez-hiipower-academy/football-ml-prediction</a><br>Synced 5 W&B file(s), 0 media file(s), 0 artifact file(s) and 0 other file(s)"
      ],
      "text/plain": [
       "<IPython.core.display.HTML object>"
      ]
     },
     "metadata": {},
     "output_type": "display_data"
    },
    {
     "data": {
      "text/html": [
       "Find logs at: <code>.\\wandb\\run-20251006_003322-f72y0wbl\\logs</code>"
      ],
      "text/plain": [
       "<IPython.core.display.HTML object>"
      ]
     },
     "metadata": {},
     "output_type": "display_data"
    },
    {
     "name": "stderr",
     "output_type": "stream",
     "text": [
      "wandb: Agent Starting Run: dhug1jf9 with config:\n",
      "wandb: \tdropout_prob: 0.3738210912237854\n",
      "wandb: \thidden_size: 42\n",
      "wandb: \tlearning_rate: 0.015520051878064172\n",
      "wandb: \tnum_epochs: 687\n"
     ]
    },
    {
     "data": {
      "text/html": [],
      "text/plain": [
       "<IPython.core.display.HTML object>"
      ]
     },
     "metadata": {},
     "output_type": "display_data"
    },
    {
     "data": {
      "text/html": [
       "Tracking run with wandb version 0.22.0"
      ],
      "text/plain": [
       "<IPython.core.display.HTML object>"
      ]
     },
     "metadata": {},
     "output_type": "display_data"
    },
    {
     "data": {
      "text/html": [
       "Run data is saved locally in <code>C:\\Users\\USER\\wandb\\run-20251006_003338-dhug1jf9</code>"
      ],
      "text/plain": [
       "<IPython.core.display.HTML object>"
      ]
     },
     "metadata": {},
     "output_type": "display_data"
    },
    {
     "data": {
      "text/html": [
       "Syncing run <strong><a href='https://wandb.ai/adey004azeez-hiipower-academy/football-ml-prediction/runs/dhug1jf9' target=\"_blank\">silver-sweep-3</a></strong> to <a href='https://wandb.ai/adey004azeez-hiipower-academy/football-ml-prediction' target=\"_blank\">Weights & Biases</a> (<a href='https://wandb.me/developer-guide' target=\"_blank\">docs</a>)<br>Sweep page: <a href='https://wandb.ai/adey004azeez-hiipower-academy/football-ml-prediction/sweeps/hi0ndynh' target=\"_blank\">https://wandb.ai/adey004azeez-hiipower-academy/football-ml-prediction/sweeps/hi0ndynh</a>"
      ],
      "text/plain": [
       "<IPython.core.display.HTML object>"
      ]
     },
     "metadata": {},
     "output_type": "display_data"
    },
    {
     "data": {
      "text/html": [
       " View project at <a href='https://wandb.ai/adey004azeez-hiipower-academy/football-ml-prediction' target=\"_blank\">https://wandb.ai/adey004azeez-hiipower-academy/football-ml-prediction</a>"
      ],
      "text/plain": [
       "<IPython.core.display.HTML object>"
      ]
     },
     "metadata": {},
     "output_type": "display_data"
    },
    {
     "data": {
      "text/html": [
       " View sweep at <a href='https://wandb.ai/adey004azeez-hiipower-academy/football-ml-prediction/sweeps/hi0ndynh' target=\"_blank\">https://wandb.ai/adey004azeez-hiipower-academy/football-ml-prediction/sweeps/hi0ndynh</a>"
      ],
      "text/plain": [
       "<IPython.core.display.HTML object>"
      ]
     },
     "metadata": {},
     "output_type": "display_data"
    },
    {
     "data": {
      "text/html": [
       " View run at <a href='https://wandb.ai/adey004azeez-hiipower-academy/football-ml-prediction/runs/dhug1jf9' target=\"_blank\">https://wandb.ai/adey004azeez-hiipower-academy/football-ml-prediction/runs/dhug1jf9</a>"
      ],
      "text/plain": [
       "<IPython.core.display.HTML object>"
      ]
     },
     "metadata": {},
     "output_type": "display_data"
    },
    {
     "name": "stdout",
     "output_type": "stream",
     "text": [
      "Epoch[40/687], Train Loss: 0.7577, Val Acc: 0.6624\n",
      "Epoch[80/687], Train Loss: 0.7237, Val Acc: 0.6624\n",
      "Epoch[120/687], Train Loss: 0.7059, Val Acc: 0.6568\n",
      "Epoch[160/687], Train Loss: 0.6926, Val Acc: 0.6568\n",
      "Epoch[200/687], Train Loss: 0.6840, Val Acc: 0.6653\n",
      "Epoch[240/687], Train Loss: 0.6794, Val Acc: 0.6709\n",
      "Epoch[280/687], Train Loss: 0.6730, Val Acc: 0.6709\n",
      "Epoch[320/687], Train Loss: 0.6667, Val Acc: 0.6695\n",
      "Epoch[360/687], Train Loss: 0.6658, Val Acc: 0.6751\n",
      "Epoch[400/687], Train Loss: 0.6605, Val Acc: 0.6653\n",
      "Epoch[440/687], Train Loss: 0.6583, Val Acc: 0.6596\n",
      "Epoch[480/687], Train Loss: 0.6591, Val Acc: 0.6653\n",
      "Epoch[520/687], Train Loss: 0.6570, Val Acc: 0.6765\n",
      "Epoch[560/687], Train Loss: 0.6495, Val Acc: 0.6751\n",
      "Epoch[600/687], Train Loss: 0.6564, Val Acc: 0.6681\n",
      "Epoch[640/687], Train Loss: 0.6607, Val Acc: 0.6737\n",
      "Epoch[680/687], Train Loss: 0.6476, Val Acc: 0.6821\n",
      "\n",
      "Final Test Accuracy: 0.6723\n",
      "\n",
      "Classification Report:\n",
      "              precision    recall  f1-score   support\n",
      "\n",
      "           0       0.65      0.75      0.70       208\n",
      "           1       0.63      0.34      0.44       187\n",
      "           2       0.70      0.82      0.75       316\n",
      "\n",
      "    accuracy                           0.67       711\n",
      "   macro avg       0.66      0.64      0.63       711\n",
      "weighted avg       0.67      0.67      0.65       711\n",
      "\n"
     ]
    },
    {
     "data": {
      "text/html": [],
      "text/plain": [
       "<IPython.core.display.HTML object>"
      ]
     },
     "metadata": {},
     "output_type": "display_data"
    },
    {
     "data": {
      "text/html": [
       "<br>    <style><br>        .wandb-row {<br>            display: flex;<br>            flex-direction: row;<br>            flex-wrap: wrap;<br>            justify-content: flex-start;<br>            width: 100%;<br>        }<br>        .wandb-col {<br>            display: flex;<br>            flex-direction: column;<br>            flex-basis: 100%;<br>            flex: 1;<br>            padding: 10px;<br>        }<br>    </style><br><div class=\"wandb-row\"><div class=\"wandb-col\"><h3>Run history:</h3><br/><table class=\"wandb\"><tr><td>epoch</td><td>▁▁▁▂▂▂▂▂▂▂▂▃▃▃▄▄▄▄▄▄▅▅▅▅▆▆▆▆▆▆▆▆▆▇▇▇▇███</td></tr><tr><td>train_accuracy</td><td>▁▄▆▆▆▇▇▇▇█▇████▇█████████▇██████████████</td></tr><tr><td>train_loss</td><td>█▇▆▆▅▄▄▃▃▃▃▃▃▂▂▂▂▂▂▂▂▂▂▂▂▂▂▂▁▁▂▁▁▁▁▁▁▂▁▁</td></tr><tr><td>val_accuracy</td><td>▁▅▆▆▆▅▅▅▅▅█▇▇▇▆▇▇▇▆█▇▆▆▇▆▇▇▇▇█▇████▇▇▇▇█</td></tr><tr><td>val_loss</td><td>█▅▃▂▂▂▂▂▁▁▁▁▁▁▁▁▁▁▁▁▁▁▁▁▁▁▁▁▁▁▁▁▁▁▁▁▂▁▁▁</td></tr></table><br/></div><div class=\"wandb-col\"><h3>Run summary:</h3><br/><table class=\"wandb\"><tr><td>epoch</td><td>686</td></tr><tr><td>train_accuracy</td><td>0.71089</td></tr><tr><td>train_loss</td><td>0.65165</td></tr><tr><td>val_accuracy</td><td>0.67229</td></tr><tr><td>val_loss</td><td>0.73887</td></tr></table><br/></div></div>"
      ],
      "text/plain": [
       "<IPython.core.display.HTML object>"
      ]
     },
     "metadata": {},
     "output_type": "display_data"
    },
    {
     "data": {
      "text/html": [
       " View run <strong style=\"color:#cdcd00\">silver-sweep-3</strong> at: <a href='https://wandb.ai/adey004azeez-hiipower-academy/football-ml-prediction/runs/dhug1jf9' target=\"_blank\">https://wandb.ai/adey004azeez-hiipower-academy/football-ml-prediction/runs/dhug1jf9</a><br> View project at: <a href='https://wandb.ai/adey004azeez-hiipower-academy/football-ml-prediction' target=\"_blank\">https://wandb.ai/adey004azeez-hiipower-academy/football-ml-prediction</a><br>Synced 5 W&B file(s), 0 media file(s), 0 artifact file(s) and 0 other file(s)"
      ],
      "text/plain": [
       "<IPython.core.display.HTML object>"
      ]
     },
     "metadata": {},
     "output_type": "display_data"
    },
    {
     "data": {
      "text/html": [
       "Find logs at: <code>.\\wandb\\run-20251006_003338-dhug1jf9\\logs</code>"
      ],
      "text/plain": [
       "<IPython.core.display.HTML object>"
      ]
     },
     "metadata": {},
     "output_type": "display_data"
    },
    {
     "name": "stderr",
     "output_type": "stream",
     "text": [
      "wandb: Sweep Agent: Waiting for job.\n",
      "wandb: Job received.\n",
      "wandb: Agent Starting Run: zgwekno3 with config:\n",
      "wandb: \tdropout_prob: 0.3546054624050199\n",
      "wandb: \thidden_size: 42\n",
      "wandb: \tlearning_rate: 0.016271491289991998\n",
      "wandb: \tnum_epochs: 677\n"
     ]
    },
    {
     "data": {
      "text/html": [],
      "text/plain": [
       "<IPython.core.display.HTML object>"
      ]
     },
     "metadata": {},
     "output_type": "display_data"
    },
    {
     "data": {
      "text/html": [
       "Tracking run with wandb version 0.22.0"
      ],
      "text/plain": [
       "<IPython.core.display.HTML object>"
      ]
     },
     "metadata": {},
     "output_type": "display_data"
    },
    {
     "data": {
      "text/html": [
       "Run data is saved locally in <code>C:\\Users\\USER\\wandb\\run-20251006_003404-zgwekno3</code>"
      ],
      "text/plain": [
       "<IPython.core.display.HTML object>"
      ]
     },
     "metadata": {},
     "output_type": "display_data"
    },
    {
     "data": {
      "text/html": [
       "Syncing run <strong><a href='https://wandb.ai/adey004azeez-hiipower-academy/football-ml-prediction/runs/zgwekno3' target=\"_blank\">balmy-sweep-4</a></strong> to <a href='https://wandb.ai/adey004azeez-hiipower-academy/football-ml-prediction' target=\"_blank\">Weights & Biases</a> (<a href='https://wandb.me/developer-guide' target=\"_blank\">docs</a>)<br>Sweep page: <a href='https://wandb.ai/adey004azeez-hiipower-academy/football-ml-prediction/sweeps/hi0ndynh' target=\"_blank\">https://wandb.ai/adey004azeez-hiipower-academy/football-ml-prediction/sweeps/hi0ndynh</a>"
      ],
      "text/plain": [
       "<IPython.core.display.HTML object>"
      ]
     },
     "metadata": {},
     "output_type": "display_data"
    },
    {
     "data": {
      "text/html": [
       " View project at <a href='https://wandb.ai/adey004azeez-hiipower-academy/football-ml-prediction' target=\"_blank\">https://wandb.ai/adey004azeez-hiipower-academy/football-ml-prediction</a>"
      ],
      "text/plain": [
       "<IPython.core.display.HTML object>"
      ]
     },
     "metadata": {},
     "output_type": "display_data"
    },
    {
     "data": {
      "text/html": [
       " View sweep at <a href='https://wandb.ai/adey004azeez-hiipower-academy/football-ml-prediction/sweeps/hi0ndynh' target=\"_blank\">https://wandb.ai/adey004azeez-hiipower-academy/football-ml-prediction/sweeps/hi0ndynh</a>"
      ],
      "text/plain": [
       "<IPython.core.display.HTML object>"
      ]
     },
     "metadata": {},
     "output_type": "display_data"
    },
    {
     "data": {
      "text/html": [
       " View run at <a href='https://wandb.ai/adey004azeez-hiipower-academy/football-ml-prediction/runs/zgwekno3' target=\"_blank\">https://wandb.ai/adey004azeez-hiipower-academy/football-ml-prediction/runs/zgwekno3</a>"
      ],
      "text/plain": [
       "<IPython.core.display.HTML object>"
      ]
     },
     "metadata": {},
     "output_type": "display_data"
    },
    {
     "name": "stdout",
     "output_type": "stream",
     "text": [
      "Epoch[40/677], Train Loss: 0.7574, Val Acc: 0.6442\n",
      "Epoch[80/677], Train Loss: 0.7209, Val Acc: 0.6624\n",
      "Epoch[120/677], Train Loss: 0.6981, Val Acc: 0.6639\n",
      "Epoch[160/677], Train Loss: 0.6874, Val Acc: 0.6624\n",
      "Epoch[200/677], Train Loss: 0.6785, Val Acc: 0.6695\n",
      "Epoch[240/677], Train Loss: 0.6703, Val Acc: 0.6821\n",
      "Epoch[280/677], Train Loss: 0.6658, Val Acc: 0.6793\n",
      "Epoch[320/677], Train Loss: 0.6648, Val Acc: 0.6807\n",
      "Epoch[360/677], Train Loss: 0.6631, Val Acc: 0.6779\n",
      "Epoch[400/677], Train Loss: 0.6644, Val Acc: 0.6779\n",
      "Epoch[440/677], Train Loss: 0.6501, Val Acc: 0.6779\n",
      "Epoch[480/677], Train Loss: 0.6525, Val Acc: 0.6765\n",
      "Epoch[520/677], Train Loss: 0.6549, Val Acc: 0.6807\n",
      "Epoch[560/677], Train Loss: 0.6550, Val Acc: 0.6765\n",
      "Epoch[600/677], Train Loss: 0.6502, Val Acc: 0.6779\n",
      "Epoch[640/677], Train Loss: 0.6515, Val Acc: 0.6765\n",
      "\n",
      "Final Test Accuracy: 0.6751\n",
      "\n",
      "Classification Report:\n",
      "              precision    recall  f1-score   support\n",
      "\n",
      "           0       0.66      0.75      0.70       208\n",
      "           1       0.62      0.36      0.46       187\n",
      "           2       0.70      0.81      0.75       316\n",
      "\n",
      "    accuracy                           0.68       711\n",
      "   macro avg       0.66      0.64      0.64       711\n",
      "weighted avg       0.67      0.68      0.66       711\n",
      "\n"
     ]
    },
    {
     "data": {
      "text/html": [],
      "text/plain": [
       "<IPython.core.display.HTML object>"
      ]
     },
     "metadata": {},
     "output_type": "display_data"
    },
    {
     "data": {
      "text/html": [
       "<br>    <style><br>        .wandb-row {<br>            display: flex;<br>            flex-direction: row;<br>            flex-wrap: wrap;<br>            justify-content: flex-start;<br>            width: 100%;<br>        }<br>        .wandb-col {<br>            display: flex;<br>            flex-direction: column;<br>            flex-basis: 100%;<br>            flex: 1;<br>            padding: 10px;<br>        }<br>    </style><br><div class=\"wandb-row\"><div class=\"wandb-col\"><h3>Run history:</h3><br/><table class=\"wandb\"><tr><td>epoch</td><td>▁▁▁▂▂▂▂▂▂▂▃▃▃▄▄▄▄▅▅▅▅▅▅▅▅▆▆▆▆▆▇▇▇▇▇▇▇▇▇█</td></tr><tr><td>train_accuracy</td><td>▁▃▃▄▆▆▇▇▇▇▇▇▇▇▇▇▇▇▇▇▇█▇▇██▇██▇██████████</td></tr><tr><td>train_loss</td><td>█▅▄▄▄▃▂▂▃▂▂▂▂▂▂▂▂▂▂▂▂▂▁▁▂▂▁▁▁▁▁▁▁▁▁▁▁▁▁▁</td></tr><tr><td>val_accuracy</td><td>▁▆▅▅▆▆▆▆▆▆▇▇▇▇▇▇▇███▇▇██▇▇▇▇▇█▇▇▇█▇▇▇▇▇▇</td></tr><tr><td>val_loss</td><td>█▇▆▆▅▃▃▃▃▂▂▂▂▂▂▁▁▁▁▁▁▁▁▁▁▁▁▁▂▁▁▁▁▁▁▁▂▁▁▂</td></tr></table><br/></div><div class=\"wandb-col\"><h3>Run summary:</h3><br/><table class=\"wandb\"><tr><td>epoch</td><td>676</td></tr><tr><td>train_accuracy</td><td>0.71417</td></tr><tr><td>train_loss</td><td>0.64502</td></tr><tr><td>val_accuracy</td><td>0.67511</td></tr><tr><td>val_loss</td><td>0.72561</td></tr></table><br/></div></div>"
      ],
      "text/plain": [
       "<IPython.core.display.HTML object>"
      ]
     },
     "metadata": {},
     "output_type": "display_data"
    },
    {
     "data": {
      "text/html": [
       " View run <strong style=\"color:#cdcd00\">balmy-sweep-4</strong> at: <a href='https://wandb.ai/adey004azeez-hiipower-academy/football-ml-prediction/runs/zgwekno3' target=\"_blank\">https://wandb.ai/adey004azeez-hiipower-academy/football-ml-prediction/runs/zgwekno3</a><br> View project at: <a href='https://wandb.ai/adey004azeez-hiipower-academy/football-ml-prediction' target=\"_blank\">https://wandb.ai/adey004azeez-hiipower-academy/football-ml-prediction</a><br>Synced 5 W&B file(s), 0 media file(s), 0 artifact file(s) and 0 other file(s)"
      ],
      "text/plain": [
       "<IPython.core.display.HTML object>"
      ]
     },
     "metadata": {},
     "output_type": "display_data"
    },
    {
     "data": {
      "text/html": [
       "Find logs at: <code>.\\wandb\\run-20251006_003404-zgwekno3\\logs</code>"
      ],
      "text/plain": [
       "<IPython.core.display.HTML object>"
      ]
     },
     "metadata": {},
     "output_type": "display_data"
    },
    {
     "name": "stderr",
     "output_type": "stream",
     "text": [
      "wandb: Agent Starting Run: h02zo1wg with config:\n",
      "wandb: \tdropout_prob: 0.34590806545699304\n",
      "wandb: \thidden_size: 56\n",
      "wandb: \tlearning_rate: 0.018401165858480895\n",
      "wandb: \tnum_epochs: 679\n"
     ]
    },
    {
     "data": {
      "text/html": [],
      "text/plain": [
       "<IPython.core.display.HTML object>"
      ]
     },
     "metadata": {},
     "output_type": "display_data"
    },
    {
     "data": {
      "text/html": [
       "Tracking run with wandb version 0.22.0"
      ],
      "text/plain": [
       "<IPython.core.display.HTML object>"
      ]
     },
     "metadata": {},
     "output_type": "display_data"
    },
    {
     "data": {
      "text/html": [
       "Run data is saved locally in <code>C:\\Users\\USER\\wandb\\run-20251006_003421-h02zo1wg</code>"
      ],
      "text/plain": [
       "<IPython.core.display.HTML object>"
      ]
     },
     "metadata": {},
     "output_type": "display_data"
    },
    {
     "data": {
      "text/html": [
       "Syncing run <strong><a href='https://wandb.ai/adey004azeez-hiipower-academy/football-ml-prediction/runs/h02zo1wg' target=\"_blank\">decent-sweep-5</a></strong> to <a href='https://wandb.ai/adey004azeez-hiipower-academy/football-ml-prediction' target=\"_blank\">Weights & Biases</a> (<a href='https://wandb.me/developer-guide' target=\"_blank\">docs</a>)<br>Sweep page: <a href='https://wandb.ai/adey004azeez-hiipower-academy/football-ml-prediction/sweeps/hi0ndynh' target=\"_blank\">https://wandb.ai/adey004azeez-hiipower-academy/football-ml-prediction/sweeps/hi0ndynh</a>"
      ],
      "text/plain": [
       "<IPython.core.display.HTML object>"
      ]
     },
     "metadata": {},
     "output_type": "display_data"
    },
    {
     "data": {
      "text/html": [
       " View project at <a href='https://wandb.ai/adey004azeez-hiipower-academy/football-ml-prediction' target=\"_blank\">https://wandb.ai/adey004azeez-hiipower-academy/football-ml-prediction</a>"
      ],
      "text/plain": [
       "<IPython.core.display.HTML object>"
      ]
     },
     "metadata": {},
     "output_type": "display_data"
    },
    {
     "data": {
      "text/html": [
       " View sweep at <a href='https://wandb.ai/adey004azeez-hiipower-academy/football-ml-prediction/sweeps/hi0ndynh' target=\"_blank\">https://wandb.ai/adey004azeez-hiipower-academy/football-ml-prediction/sweeps/hi0ndynh</a>"
      ],
      "text/plain": [
       "<IPython.core.display.HTML object>"
      ]
     },
     "metadata": {},
     "output_type": "display_data"
    },
    {
     "data": {
      "text/html": [
       " View run at <a href='https://wandb.ai/adey004azeez-hiipower-academy/football-ml-prediction/runs/h02zo1wg' target=\"_blank\">https://wandb.ai/adey004azeez-hiipower-academy/football-ml-prediction/runs/h02zo1wg</a>"
      ],
      "text/plain": [
       "<IPython.core.display.HTML object>"
      ]
     },
     "metadata": {},
     "output_type": "display_data"
    },
    {
     "name": "stdout",
     "output_type": "stream",
     "text": [
      "Epoch[40/679], Train Loss: 0.7477, Val Acc: 0.6484\n",
      "Epoch[80/679], Train Loss: 0.7145, Val Acc: 0.6653\n",
      "Epoch[120/679], Train Loss: 0.6881, Val Acc: 0.6624\n",
      "Epoch[160/679], Train Loss: 0.6759, Val Acc: 0.6624\n",
      "Epoch[200/679], Train Loss: 0.6660, Val Acc: 0.6765\n",
      "Epoch[240/679], Train Loss: 0.6578, Val Acc: 0.6835\n",
      "Epoch[280/679], Train Loss: 0.6470, Val Acc: 0.6737\n",
      "Epoch[320/679], Train Loss: 0.6444, Val Acc: 0.6821\n",
      "Epoch[360/679], Train Loss: 0.6460, Val Acc: 0.6737\n",
      "Epoch[400/679], Train Loss: 0.6418, Val Acc: 0.6807\n",
      "Epoch[440/679], Train Loss: 0.6376, Val Acc: 0.6723\n",
      "Epoch[480/679], Train Loss: 0.6323, Val Acc: 0.6681\n",
      "Epoch[520/679], Train Loss: 0.6375, Val Acc: 0.6709\n",
      "Epoch[560/679], Train Loss: 0.6329, Val Acc: 0.6765\n",
      "Epoch[600/679], Train Loss: 0.6309, Val Acc: 0.6765\n",
      "Epoch[640/679], Train Loss: 0.6301, Val Acc: 0.6610\n",
      "\n",
      "Final Test Accuracy: 0.6695\n",
      "\n",
      "Classification Report:\n",
      "              precision    recall  f1-score   support\n",
      "\n",
      "           0       0.64      0.75      0.69       208\n",
      "           1       0.62      0.36      0.46       187\n",
      "           2       0.70      0.80      0.75       316\n",
      "\n",
      "    accuracy                           0.67       711\n",
      "   macro avg       0.65      0.64      0.63       711\n",
      "weighted avg       0.66      0.67      0.66       711\n",
      "\n"
     ]
    },
    {
     "data": {
      "text/html": [],
      "text/plain": [
       "<IPython.core.display.HTML object>"
      ]
     },
     "metadata": {},
     "output_type": "display_data"
    },
    {
     "data": {
      "text/html": [
       "<br>    <style><br>        .wandb-row {<br>            display: flex;<br>            flex-direction: row;<br>            flex-wrap: wrap;<br>            justify-content: flex-start;<br>            width: 100%;<br>        }<br>        .wandb-col {<br>            display: flex;<br>            flex-direction: column;<br>            flex-basis: 100%;<br>            flex: 1;<br>            padding: 10px;<br>        }<br>    </style><br><div class=\"wandb-row\"><div class=\"wandb-col\"><h3>Run history:</h3><br/><table class=\"wandb\"><tr><td>epoch</td><td>▁▁▁▁▂▂▂▂▂▂▃▃▃▃▃▃▃▄▄▄▄▄▄▅▅▅▆▆▆▆▆▆▆▆▆▇▇▇██</td></tr><tr><td>train_accuracy</td><td>▁▂▃▄▄▅▆▆▅▆▇▇▇▇▆▇▆▇█▇▇███▇▇▇▇▇▇▇▇▇█▇▇▇███</td></tr><tr><td>train_loss</td><td>█▄▃▃▂▂▂▂▂▂▂▂▂▂▂▁▁▁▁▁▁▁▁▁▁▁▁▁▁▁▁▁▁▁▁▁▁▁▁▁</td></tr><tr><td>val_accuracy</td><td>▁▄▅▇▇▇▇▇▇▆▇▇▇▇▇▇▇▇▇▇███████▇█▇▇▇▇▇██▇▇▇▆</td></tr><tr><td>val_loss</td><td>█▃▂▂▂▂▂▂▂▂▂▂▁▁▁▁▁▁▁▁▁▁▁▁▂▁▂▂▁▁▂▂▂▂▂▂▂▂▂▂</td></tr></table><br/></div><div class=\"wandb-col\"><h3>Run summary:</h3><br/><table class=\"wandb\"><tr><td>epoch</td><td>678</td></tr><tr><td>train_accuracy</td><td>0.71949</td></tr><tr><td>train_loss</td><td>0.62492</td></tr><tr><td>val_accuracy</td><td>0.66948</td></tr><tr><td>val_loss</td><td>0.74635</td></tr></table><br/></div></div>"
      ],
      "text/plain": [
       "<IPython.core.display.HTML object>"
      ]
     },
     "metadata": {},
     "output_type": "display_data"
    },
    {
     "data": {
      "text/html": [
       " View run <strong style=\"color:#cdcd00\">decent-sweep-5</strong> at: <a href='https://wandb.ai/adey004azeez-hiipower-academy/football-ml-prediction/runs/h02zo1wg' target=\"_blank\">https://wandb.ai/adey004azeez-hiipower-academy/football-ml-prediction/runs/h02zo1wg</a><br> View project at: <a href='https://wandb.ai/adey004azeez-hiipower-academy/football-ml-prediction' target=\"_blank\">https://wandb.ai/adey004azeez-hiipower-academy/football-ml-prediction</a><br>Synced 5 W&B file(s), 0 media file(s), 0 artifact file(s) and 0 other file(s)"
      ],
      "text/plain": [
       "<IPython.core.display.HTML object>"
      ]
     },
     "metadata": {},
     "output_type": "display_data"
    },
    {
     "data": {
      "text/html": [
       "Find logs at: <code>.\\wandb\\run-20251006_003421-h02zo1wg\\logs</code>"
      ],
      "text/plain": [
       "<IPython.core.display.HTML object>"
      ]
     },
     "metadata": {},
     "output_type": "display_data"
    },
    {
     "name": "stderr",
     "output_type": "stream",
     "text": [
      "wandb: Sweep Agent: Waiting for job.\n",
      "wandb: Job received.\n",
      "wandb: Agent Starting Run: d9g15pdx with config:\n",
      "wandb: \tdropout_prob: 0.32327737745999513\n",
      "wandb: \thidden_size: 42\n",
      "wandb: \tlearning_rate: 0.01318916806251266\n",
      "wandb: \tnum_epochs: 832\n"
     ]
    },
    {
     "data": {
      "text/html": [],
      "text/plain": [
       "<IPython.core.display.HTML object>"
      ]
     },
     "metadata": {},
     "output_type": "display_data"
    },
    {
     "data": {
      "text/html": [
       "Tracking run with wandb version 0.22.0"
      ],
      "text/plain": [
       "<IPython.core.display.HTML object>"
      ]
     },
     "metadata": {},
     "output_type": "display_data"
    },
    {
     "data": {
      "text/html": [
       "Run data is saved locally in <code>C:\\Users\\USER\\wandb\\run-20251006_003500-d9g15pdx</code>"
      ],
      "text/plain": [
       "<IPython.core.display.HTML object>"
      ]
     },
     "metadata": {},
     "output_type": "display_data"
    },
    {
     "data": {
      "text/html": [
       "Syncing run <strong><a href='https://wandb.ai/adey004azeez-hiipower-academy/football-ml-prediction/runs/d9g15pdx' target=\"_blank\">giddy-sweep-6</a></strong> to <a href='https://wandb.ai/adey004azeez-hiipower-academy/football-ml-prediction' target=\"_blank\">Weights & Biases</a> (<a href='https://wandb.me/developer-guide' target=\"_blank\">docs</a>)<br>Sweep page: <a href='https://wandb.ai/adey004azeez-hiipower-academy/football-ml-prediction/sweeps/hi0ndynh' target=\"_blank\">https://wandb.ai/adey004azeez-hiipower-academy/football-ml-prediction/sweeps/hi0ndynh</a>"
      ],
      "text/plain": [
       "<IPython.core.display.HTML object>"
      ]
     },
     "metadata": {},
     "output_type": "display_data"
    },
    {
     "data": {
      "text/html": [
       " View project at <a href='https://wandb.ai/adey004azeez-hiipower-academy/football-ml-prediction' target=\"_blank\">https://wandb.ai/adey004azeez-hiipower-academy/football-ml-prediction</a>"
      ],
      "text/plain": [
       "<IPython.core.display.HTML object>"
      ]
     },
     "metadata": {},
     "output_type": "display_data"
    },
    {
     "data": {
      "text/html": [
       " View sweep at <a href='https://wandb.ai/adey004azeez-hiipower-academy/football-ml-prediction/sweeps/hi0ndynh' target=\"_blank\">https://wandb.ai/adey004azeez-hiipower-academy/football-ml-prediction/sweeps/hi0ndynh</a>"
      ],
      "text/plain": [
       "<IPython.core.display.HTML object>"
      ]
     },
     "metadata": {},
     "output_type": "display_data"
    },
    {
     "data": {
      "text/html": [
       " View run at <a href='https://wandb.ai/adey004azeez-hiipower-academy/football-ml-prediction/runs/d9g15pdx' target=\"_blank\">https://wandb.ai/adey004azeez-hiipower-academy/football-ml-prediction/runs/d9g15pdx</a>"
      ],
      "text/plain": [
       "<IPython.core.display.HTML object>"
      ]
     },
     "metadata": {},
     "output_type": "display_data"
    },
    {
     "name": "stdout",
     "output_type": "stream",
     "text": [
      "Epoch[40/832], Train Loss: 0.7641, Val Acc: 0.6610\n",
      "Epoch[80/832], Train Loss: 0.7200, Val Acc: 0.6582\n",
      "Epoch[120/832], Train Loss: 0.7039, Val Acc: 0.6554\n",
      "Epoch[160/832], Train Loss: 0.6896, Val Acc: 0.6610\n",
      "Epoch[200/832], Train Loss: 0.6818, Val Acc: 0.6596\n",
      "Epoch[240/832], Train Loss: 0.6763, Val Acc: 0.6568\n",
      "Epoch[280/832], Train Loss: 0.6676, Val Acc: 0.6639\n",
      "Epoch[320/832], Train Loss: 0.6682, Val Acc: 0.6653\n",
      "Epoch[360/832], Train Loss: 0.6657, Val Acc: 0.6723\n",
      "Epoch[400/832], Train Loss: 0.6570, Val Acc: 0.6765\n",
      "Epoch[440/832], Train Loss: 0.6540, Val Acc: 0.6695\n",
      "Epoch[480/832], Train Loss: 0.6578, Val Acc: 0.6807\n",
      "Epoch[520/832], Train Loss: 0.6536, Val Acc: 0.6793\n",
      "Epoch[560/832], Train Loss: 0.6498, Val Acc: 0.6765\n",
      "Epoch[600/832], Train Loss: 0.6510, Val Acc: 0.6821\n",
      "Epoch[640/832], Train Loss: 0.6442, Val Acc: 0.6807\n",
      "Epoch[680/832], Train Loss: 0.6435, Val Acc: 0.6737\n",
      "Epoch[720/832], Train Loss: 0.6449, Val Acc: 0.6723\n",
      "Epoch[760/832], Train Loss: 0.6451, Val Acc: 0.6765\n",
      "Epoch[800/832], Train Loss: 0.6429, Val Acc: 0.6807\n",
      "\n",
      "Final Test Accuracy: 0.6793\n",
      "\n",
      "Classification Report:\n",
      "              precision    recall  f1-score   support\n",
      "\n",
      "           0       0.65      0.75      0.69       208\n",
      "           1       0.64      0.36      0.46       187\n",
      "           2       0.71      0.82      0.76       316\n",
      "\n",
      "    accuracy                           0.68       711\n",
      "   macro avg       0.67      0.64      0.64       711\n",
      "weighted avg       0.67      0.68      0.66       711\n",
      "\n"
     ]
    },
    {
     "data": {
      "text/html": [],
      "text/plain": [
       "<IPython.core.display.HTML object>"
      ]
     },
     "metadata": {},
     "output_type": "display_data"
    },
    {
     "data": {
      "text/html": [
       "<br>    <style><br>        .wandb-row {<br>            display: flex;<br>            flex-direction: row;<br>            flex-wrap: wrap;<br>            justify-content: flex-start;<br>            width: 100%;<br>        }<br>        .wandb-col {<br>            display: flex;<br>            flex-direction: column;<br>            flex-basis: 100%;<br>            flex: 1;<br>            padding: 10px;<br>        }<br>    </style><br><div class=\"wandb-row\"><div class=\"wandb-col\"><h3>Run history:</h3><br/><table class=\"wandb\"><tr><td>epoch</td><td>▁▁▁▁▁▂▂▂▂▂▃▃▃▃▃▄▄▄▄▄▄▄▅▅▅▆▆▆▆▆▆▆▆▇▇▇▇███</td></tr><tr><td>train_accuracy</td><td>▁▁▂▃▂▃▄▄▅▆▆▆▅▆▆▇▇▇▇▇▇▇▇▇▇▇▇█▇▇▇▇█▇▇███▇▇</td></tr><tr><td>train_loss</td><td>█▇▆▅▅▅▄▄▃▃▃▃▃▃▂▂▂▂▂▂▂▂▂▂▂▁▂▁▂▁▁▁▁▁▂▁▁▁▁▁</td></tr><tr><td>val_accuracy</td><td>▁▂▅▅▆▆▆▆▆▆▇▇▆▇▆▆▇▇▆▇▇▇▇█████▇█▇▇▇▇▇█▇▇▇▇</td></tr><tr><td>val_loss</td><td>█▆▅▄▃▃▃▂▂▂▂▂▂▂▂▁▁▁▁▁▁▁▁▁▁▁▁▁▁▁▁▁▁▁▁▁▁▁▁▁</td></tr></table><br/></div><div class=\"wandb-col\"><h3>Run summary:</h3><br/><table class=\"wandb\"><tr><td>epoch</td><td>831</td></tr><tr><td>train_accuracy</td><td>0.71527</td></tr><tr><td>train_loss</td><td>0.63921</td></tr><tr><td>val_accuracy</td><td>0.67932</td></tr><tr><td>val_loss</td><td>0.72933</td></tr></table><br/></div></div>"
      ],
      "text/plain": [
       "<IPython.core.display.HTML object>"
      ]
     },
     "metadata": {},
     "output_type": "display_data"
    },
    {
     "data": {
      "text/html": [
       " View run <strong style=\"color:#cdcd00\">giddy-sweep-6</strong> at: <a href='https://wandb.ai/adey004azeez-hiipower-academy/football-ml-prediction/runs/d9g15pdx' target=\"_blank\">https://wandb.ai/adey004azeez-hiipower-academy/football-ml-prediction/runs/d9g15pdx</a><br> View project at: <a href='https://wandb.ai/adey004azeez-hiipower-academy/football-ml-prediction' target=\"_blank\">https://wandb.ai/adey004azeez-hiipower-academy/football-ml-prediction</a><br>Synced 5 W&B file(s), 0 media file(s), 0 artifact file(s) and 0 other file(s)"
      ],
      "text/plain": [
       "<IPython.core.display.HTML object>"
      ]
     },
     "metadata": {},
     "output_type": "display_data"
    },
    {
     "data": {
      "text/html": [
       "Find logs at: <code>.\\wandb\\run-20251006_003500-d9g15pdx\\logs</code>"
      ],
      "text/plain": [
       "<IPython.core.display.HTML object>"
      ]
     },
     "metadata": {},
     "output_type": "display_data"
    },
    {
     "name": "stderr",
     "output_type": "stream",
     "text": [
      "wandb: Agent Starting Run: twshit1t with config:\n",
      "wandb: \tdropout_prob: 0.26477265024678126\n",
      "wandb: \thidden_size: 56\n",
      "wandb: \tlearning_rate: 0.018147056597745508\n",
      "wandb: \tnum_epochs: 865\n"
     ]
    },
    {
     "data": {
      "text/html": [],
      "text/plain": [
       "<IPython.core.display.HTML object>"
      ]
     },
     "metadata": {},
     "output_type": "display_data"
    },
    {
     "data": {
      "text/html": [
       "Tracking run with wandb version 0.22.0"
      ],
      "text/plain": [
       "<IPython.core.display.HTML object>"
      ]
     },
     "metadata": {},
     "output_type": "display_data"
    },
    {
     "data": {
      "text/html": [
       "Run data is saved locally in <code>C:\\Users\\USER\\wandb\\run-20251006_003521-twshit1t</code>"
      ],
      "text/plain": [
       "<IPython.core.display.HTML object>"
      ]
     },
     "metadata": {},
     "output_type": "display_data"
    },
    {
     "data": {
      "text/html": [
       "Syncing run <strong><a href='https://wandb.ai/adey004azeez-hiipower-academy/football-ml-prediction/runs/twshit1t' target=\"_blank\">sweet-sweep-7</a></strong> to <a href='https://wandb.ai/adey004azeez-hiipower-academy/football-ml-prediction' target=\"_blank\">Weights & Biases</a> (<a href='https://wandb.me/developer-guide' target=\"_blank\">docs</a>)<br>Sweep page: <a href='https://wandb.ai/adey004azeez-hiipower-academy/football-ml-prediction/sweeps/hi0ndynh' target=\"_blank\">https://wandb.ai/adey004azeez-hiipower-academy/football-ml-prediction/sweeps/hi0ndynh</a>"
      ],
      "text/plain": [
       "<IPython.core.display.HTML object>"
      ]
     },
     "metadata": {},
     "output_type": "display_data"
    },
    {
     "data": {
      "text/html": [
       " View project at <a href='https://wandb.ai/adey004azeez-hiipower-academy/football-ml-prediction' target=\"_blank\">https://wandb.ai/adey004azeez-hiipower-academy/football-ml-prediction</a>"
      ],
      "text/plain": [
       "<IPython.core.display.HTML object>"
      ]
     },
     "metadata": {},
     "output_type": "display_data"
    },
    {
     "data": {
      "text/html": [
       " View sweep at <a href='https://wandb.ai/adey004azeez-hiipower-academy/football-ml-prediction/sweeps/hi0ndynh' target=\"_blank\">https://wandb.ai/adey004azeez-hiipower-academy/football-ml-prediction/sweeps/hi0ndynh</a>"
      ],
      "text/plain": [
       "<IPython.core.display.HTML object>"
      ]
     },
     "metadata": {},
     "output_type": "display_data"
    },
    {
     "data": {
      "text/html": [
       " View run at <a href='https://wandb.ai/adey004azeez-hiipower-academy/football-ml-prediction/runs/twshit1t' target=\"_blank\">https://wandb.ai/adey004azeez-hiipower-academy/football-ml-prediction/runs/twshit1t</a>"
      ],
      "text/plain": [
       "<IPython.core.display.HTML object>"
      ]
     },
     "metadata": {},
     "output_type": "display_data"
    },
    {
     "name": "stdout",
     "output_type": "stream",
     "text": [
      "Epoch[40/865], Train Loss: 0.7379, Val Acc: 0.6568\n",
      "Epoch[80/865], Train Loss: 0.6931, Val Acc: 0.6751\n",
      "Epoch[120/865], Train Loss: 0.6767, Val Acc: 0.6667\n",
      "Epoch[160/865], Train Loss: 0.6607, Val Acc: 0.6695\n",
      "Epoch[200/865], Train Loss: 0.6460, Val Acc: 0.6835\n",
      "Epoch[240/865], Train Loss: 0.6389, Val Acc: 0.6751\n",
      "Epoch[280/865], Train Loss: 0.6367, Val Acc: 0.6751\n",
      "Epoch[320/865], Train Loss: 0.6328, Val Acc: 0.6751\n",
      "Epoch[360/865], Train Loss: 0.6256, Val Acc: 0.6695\n",
      "Epoch[400/865], Train Loss: 0.6276, Val Acc: 0.6737\n",
      "Epoch[440/865], Train Loss: 0.6196, Val Acc: 0.6793\n",
      "Epoch[480/865], Train Loss: 0.6207, Val Acc: 0.6723\n",
      "Epoch[520/865], Train Loss: 0.6107, Val Acc: 0.6765\n",
      "Epoch[560/865], Train Loss: 0.6120, Val Acc: 0.6751\n",
      "Epoch[600/865], Train Loss: 0.6093, Val Acc: 0.6723\n",
      "Epoch[640/865], Train Loss: 0.6069, Val Acc: 0.6723\n",
      "Epoch[680/865], Train Loss: 0.6076, Val Acc: 0.6793\n",
      "Epoch[720/865], Train Loss: 0.6086, Val Acc: 0.6807\n",
      "Epoch[760/865], Train Loss: 0.6054, Val Acc: 0.6751\n",
      "Epoch[800/865], Train Loss: 0.6059, Val Acc: 0.6779\n",
      "Epoch[840/865], Train Loss: 0.6031, Val Acc: 0.6793\n",
      "\n",
      "Final Test Accuracy: 0.6723\n",
      "\n",
      "Classification Report:\n",
      "              precision    recall  f1-score   support\n",
      "\n",
      "           0       0.65      0.74      0.69       208\n",
      "           1       0.63      0.36      0.46       187\n",
      "           2       0.70      0.81      0.75       316\n",
      "\n",
      "    accuracy                           0.67       711\n",
      "   macro avg       0.66      0.64      0.63       711\n",
      "weighted avg       0.67      0.67      0.66       711\n",
      "\n"
     ]
    },
    {
     "data": {
      "text/html": [],
      "text/plain": [
       "<IPython.core.display.HTML object>"
      ]
     },
     "metadata": {},
     "output_type": "display_data"
    },
    {
     "data": {
      "text/html": [
       "<br>    <style><br>        .wandb-row {<br>            display: flex;<br>            flex-direction: row;<br>            flex-wrap: wrap;<br>            justify-content: flex-start;<br>            width: 100%;<br>        }<br>        .wandb-col {<br>            display: flex;<br>            flex-direction: column;<br>            flex-basis: 100%;<br>            flex: 1;<br>            padding: 10px;<br>        }<br>    </style><br><div class=\"wandb-row\"><div class=\"wandb-col\"><h3>Run history:</h3><br/><table class=\"wandb\"><tr><td>epoch</td><td>▁▁▁▂▂▂▂▂▂▂▂▂▂▂▃▃▃▃▄▄▄▅▅▅▅▅▅▆▆▆▆▇▇▇▇▇▇███</td></tr><tr><td>train_accuracy</td><td>▁▂▄▅▆▆▆▆▆▆▆▆▇▆▇▇▇▇▇▇▇▇▇▇█▇▇▇▇█▇▇▇▇▇▇▇▇██</td></tr><tr><td>train_loss</td><td>█▇▄▄▃▂▂▂▂▂▂▂▂▂▂▂▂▂▂▂▂▁▂▁▁▁▁▁▁▁▁▁▁▁▁▁▁▁▁▁</td></tr><tr><td>val_accuracy</td><td>▁▆▆▆▇▇▆▆▇▆▇▇███▇▇██▇▇█▇▇▇▇▇▇▇▇▇▇▇█▇█▇▇█▇</td></tr><tr><td>val_loss</td><td>█▆▄▃▃▂▂▂▂▁▁▁▁▂▁▁▁▁▃▃▃▂▂▃▂▂▃▃▃▃▃▃▃▄▄▄▃▃▄▄</td></tr></table><br/></div><div class=\"wandb-col\"><h3>Run summary:</h3><br/><table class=\"wandb\"><tr><td>epoch</td><td>864</td></tr><tr><td>train_accuracy</td><td>0.72808</td></tr><tr><td>train_loss</td><td>0.60628</td></tr><tr><td>val_accuracy</td><td>0.67229</td></tr><tr><td>val_loss</td><td>0.76304</td></tr></table><br/></div></div>"
      ],
      "text/plain": [
       "<IPython.core.display.HTML object>"
      ]
     },
     "metadata": {},
     "output_type": "display_data"
    },
    {
     "data": {
      "text/html": [
       " View run <strong style=\"color:#cdcd00\">sweet-sweep-7</strong> at: <a href='https://wandb.ai/adey004azeez-hiipower-academy/football-ml-prediction/runs/twshit1t' target=\"_blank\">https://wandb.ai/adey004azeez-hiipower-academy/football-ml-prediction/runs/twshit1t</a><br> View project at: <a href='https://wandb.ai/adey004azeez-hiipower-academy/football-ml-prediction' target=\"_blank\">https://wandb.ai/adey004azeez-hiipower-academy/football-ml-prediction</a><br>Synced 5 W&B file(s), 0 media file(s), 0 artifact file(s) and 0 other file(s)"
      ],
      "text/plain": [
       "<IPython.core.display.HTML object>"
      ]
     },
     "metadata": {},
     "output_type": "display_data"
    },
    {
     "data": {
      "text/html": [
       "Find logs at: <code>.\\wandb\\run-20251006_003521-twshit1t\\logs</code>"
      ],
      "text/plain": [
       "<IPython.core.display.HTML object>"
      ]
     },
     "metadata": {},
     "output_type": "display_data"
    },
    {
     "name": "stderr",
     "output_type": "stream",
     "text": [
      "wandb: Agent Starting Run: hw438cmi with config:\n",
      "wandb: \tdropout_prob: 0.22876733160529183\n",
      "wandb: \thidden_size: 56\n",
      "wandb: \tlearning_rate: 0.014728686027993296\n",
      "wandb: \tnum_epochs: 842\n"
     ]
    },
    {
     "data": {
      "text/html": [],
      "text/plain": [
       "<IPython.core.display.HTML object>"
      ]
     },
     "metadata": {},
     "output_type": "display_data"
    },
    {
     "data": {
      "text/html": [
       "Tracking run with wandb version 0.22.0"
      ],
      "text/plain": [
       "<IPython.core.display.HTML object>"
      ]
     },
     "metadata": {},
     "output_type": "display_data"
    },
    {
     "data": {
      "text/html": [
       "Run data is saved locally in <code>C:\\Users\\USER\\wandb\\run-20251006_003543-hw438cmi</code>"
      ],
      "text/plain": [
       "<IPython.core.display.HTML object>"
      ]
     },
     "metadata": {},
     "output_type": "display_data"
    },
    {
     "data": {
      "text/html": [
       "Syncing run <strong><a href='https://wandb.ai/adey004azeez-hiipower-academy/football-ml-prediction/runs/hw438cmi' target=\"_blank\">unique-sweep-8</a></strong> to <a href='https://wandb.ai/adey004azeez-hiipower-academy/football-ml-prediction' target=\"_blank\">Weights & Biases</a> (<a href='https://wandb.me/developer-guide' target=\"_blank\">docs</a>)<br>Sweep page: <a href='https://wandb.ai/adey004azeez-hiipower-academy/football-ml-prediction/sweeps/hi0ndynh' target=\"_blank\">https://wandb.ai/adey004azeez-hiipower-academy/football-ml-prediction/sweeps/hi0ndynh</a>"
      ],
      "text/plain": [
       "<IPython.core.display.HTML object>"
      ]
     },
     "metadata": {},
     "output_type": "display_data"
    },
    {
     "data": {
      "text/html": [
       " View project at <a href='https://wandb.ai/adey004azeez-hiipower-academy/football-ml-prediction' target=\"_blank\">https://wandb.ai/adey004azeez-hiipower-academy/football-ml-prediction</a>"
      ],
      "text/plain": [
       "<IPython.core.display.HTML object>"
      ]
     },
     "metadata": {},
     "output_type": "display_data"
    },
    {
     "data": {
      "text/html": [
       " View sweep at <a href='https://wandb.ai/adey004azeez-hiipower-academy/football-ml-prediction/sweeps/hi0ndynh' target=\"_blank\">https://wandb.ai/adey004azeez-hiipower-academy/football-ml-prediction/sweeps/hi0ndynh</a>"
      ],
      "text/plain": [
       "<IPython.core.display.HTML object>"
      ]
     },
     "metadata": {},
     "output_type": "display_data"
    },
    {
     "data": {
      "text/html": [
       " View run at <a href='https://wandb.ai/adey004azeez-hiipower-academy/football-ml-prediction/runs/hw438cmi' target=\"_blank\">https://wandb.ai/adey004azeez-hiipower-academy/football-ml-prediction/runs/hw438cmi</a>"
      ],
      "text/plain": [
       "<IPython.core.display.HTML object>"
      ]
     },
     "metadata": {},
     "output_type": "display_data"
    },
    {
     "name": "stdout",
     "output_type": "stream",
     "text": [
      "Epoch[40/842], Train Loss: 0.7496, Val Acc: 0.6512\n",
      "Epoch[80/842], Train Loss: 0.7027, Val Acc: 0.6568\n",
      "Epoch[120/842], Train Loss: 0.6767, Val Acc: 0.6653\n",
      "Epoch[160/842], Train Loss: 0.6648, Val Acc: 0.6695\n",
      "Epoch[200/842], Train Loss: 0.6509, Val Acc: 0.6653\n",
      "Epoch[240/842], Train Loss: 0.6495, Val Acc: 0.6695\n",
      "Epoch[280/842], Train Loss: 0.6393, Val Acc: 0.6709\n",
      "Epoch[320/842], Train Loss: 0.6385, Val Acc: 0.6653\n",
      "Epoch[360/842], Train Loss: 0.6295, Val Acc: 0.6624\n",
      "Epoch[400/842], Train Loss: 0.6265, Val Acc: 0.6624\n",
      "Epoch[440/842], Train Loss: 0.6238, Val Acc: 0.6540\n",
      "Epoch[480/842], Train Loss: 0.6203, Val Acc: 0.6681\n",
      "Epoch[520/842], Train Loss: 0.6194, Val Acc: 0.6709\n",
      "Epoch[560/842], Train Loss: 0.6144, Val Acc: 0.6568\n",
      "Epoch[600/842], Train Loss: 0.6130, Val Acc: 0.6639\n",
      "Epoch[640/842], Train Loss: 0.6139, Val Acc: 0.6596\n",
      "Epoch[680/842], Train Loss: 0.6140, Val Acc: 0.6624\n",
      "Epoch[720/842], Train Loss: 0.6131, Val Acc: 0.6596\n",
      "Epoch[760/842], Train Loss: 0.6103, Val Acc: 0.6582\n",
      "Epoch[800/842], Train Loss: 0.6123, Val Acc: 0.6582\n",
      "Epoch[840/842], Train Loss: 0.6123, Val Acc: 0.6639\n",
      "\n",
      "Final Test Accuracy: 0.6568\n",
      "\n",
      "Classification Report:\n",
      "              precision    recall  f1-score   support\n",
      "\n",
      "           0       0.65      0.75      0.70       208\n",
      "           1       0.56      0.33      0.42       187\n",
      "           2       0.69      0.79      0.74       316\n",
      "\n",
      "    accuracy                           0.66       711\n",
      "   macro avg       0.63      0.62      0.62       711\n",
      "weighted avg       0.64      0.66      0.64       711\n",
      "\n"
     ]
    },
    {
     "data": {
      "text/html": [],
      "text/plain": [
       "<IPython.core.display.HTML object>"
      ]
     },
     "metadata": {},
     "output_type": "display_data"
    },
    {
     "data": {
      "text/html": [
       "<br>    <style><br>        .wandb-row {<br>            display: flex;<br>            flex-direction: row;<br>            flex-wrap: wrap;<br>            justify-content: flex-start;<br>            width: 100%;<br>        }<br>        .wandb-col {<br>            display: flex;<br>            flex-direction: column;<br>            flex-basis: 100%;<br>            flex: 1;<br>            padding: 10px;<br>        }<br>    </style><br><div class=\"wandb-row\"><div class=\"wandb-col\"><h3>Run history:</h3><br/><table class=\"wandb\"><tr><td>epoch</td><td>▁▁▁▁▁▂▂▂▃▃▃▃▃▄▄▄▄▄▅▅▅▅▅▅▅▅▅▅▅▆▆▆▆▆▇▇▇███</td></tr><tr><td>train_accuracy</td><td>▁▃▆▆▆▇▇▇▇▇▇▇▇▇▇▇▇███▇██▇█████▇██████▇▇██</td></tr><tr><td>train_loss</td><td>█▇▄▃▃▃▃▂▂▃▂▂▂▂▂▂▂▂▂▂▁▁▁▁▁▁▁▁▁▁▁▁▁▁▁▁▁▁▁▁</td></tr><tr><td>val_accuracy</td><td>▁▂▃▂▂▅▆▅▄▆▆▇█▇▅▆▆▆▄▄▃▄▆▇▅▄▅▅▂▃▆▆▄▃▃▂▆▄▄▅</td></tr><tr><td>val_loss</td><td>█▆▅▄▄▂▂▂▂▂▂▁▁▁▁▁▁▁▁▁▁▁▁▁▁▁▁▁▂▂▂▂▂▂▂▂▂▂▂▃</td></tr></table><br/></div><div class=\"wandb-col\"><h3>Run summary:</h3><br/><table class=\"wandb\"><tr><td>epoch</td><td>841</td></tr><tr><td>train_accuracy</td><td>0.72714</td></tr><tr><td>train_loss</td><td>0.60549</td></tr><tr><td>val_accuracy</td><td>0.65682</td></tr><tr><td>val_loss</td><td>0.76063</td></tr></table><br/></div></div>"
      ],
      "text/plain": [
       "<IPython.core.display.HTML object>"
      ]
     },
     "metadata": {},
     "output_type": "display_data"
    },
    {
     "data": {
      "text/html": [
       " View run <strong style=\"color:#cdcd00\">unique-sweep-8</strong> at: <a href='https://wandb.ai/adey004azeez-hiipower-academy/football-ml-prediction/runs/hw438cmi' target=\"_blank\">https://wandb.ai/adey004azeez-hiipower-academy/football-ml-prediction/runs/hw438cmi</a><br> View project at: <a href='https://wandb.ai/adey004azeez-hiipower-academy/football-ml-prediction' target=\"_blank\">https://wandb.ai/adey004azeez-hiipower-academy/football-ml-prediction</a><br>Synced 5 W&B file(s), 0 media file(s), 0 artifact file(s) and 0 other file(s)"
      ],
      "text/plain": [
       "<IPython.core.display.HTML object>"
      ]
     },
     "metadata": {},
     "output_type": "display_data"
    },
    {
     "data": {
      "text/html": [
       "Find logs at: <code>.\\wandb\\run-20251006_003543-hw438cmi\\logs</code>"
      ],
      "text/plain": [
       "<IPython.core.display.HTML object>"
      ]
     },
     "metadata": {},
     "output_type": "display_data"
    },
    {
     "name": "stderr",
     "output_type": "stream",
     "text": [
      "wandb: Agent Starting Run: vyirg8tb with config:\n",
      "wandb: \tdropout_prob: 0.24087287626908857\n",
      "wandb: \thidden_size: 28\n",
      "wandb: \tlearning_rate: 0.017231995031006375\n",
      "wandb: \tnum_epochs: 576\n"
     ]
    },
    {
     "data": {
      "text/html": [],
      "text/plain": [
       "<IPython.core.display.HTML object>"
      ]
     },
     "metadata": {},
     "output_type": "display_data"
    },
    {
     "data": {
      "text/html": [
       "Tracking run with wandb version 0.22.0"
      ],
      "text/plain": [
       "<IPython.core.display.HTML object>"
      ]
     },
     "metadata": {},
     "output_type": "display_data"
    },
    {
     "data": {
      "text/html": [
       "Run data is saved locally in <code>C:\\Users\\USER\\wandb\\run-20251006_003609-vyirg8tb</code>"
      ],
      "text/plain": [
       "<IPython.core.display.HTML object>"
      ]
     },
     "metadata": {},
     "output_type": "display_data"
    },
    {
     "data": {
      "text/html": [
       "Syncing run <strong><a href='https://wandb.ai/adey004azeez-hiipower-academy/football-ml-prediction/runs/vyirg8tb' target=\"_blank\">light-sweep-9</a></strong> to <a href='https://wandb.ai/adey004azeez-hiipower-academy/football-ml-prediction' target=\"_blank\">Weights & Biases</a> (<a href='https://wandb.me/developer-guide' target=\"_blank\">docs</a>)<br>Sweep page: <a href='https://wandb.ai/adey004azeez-hiipower-academy/football-ml-prediction/sweeps/hi0ndynh' target=\"_blank\">https://wandb.ai/adey004azeez-hiipower-academy/football-ml-prediction/sweeps/hi0ndynh</a>"
      ],
      "text/plain": [
       "<IPython.core.display.HTML object>"
      ]
     },
     "metadata": {},
     "output_type": "display_data"
    },
    {
     "data": {
      "text/html": [
       " View project at <a href='https://wandb.ai/adey004azeez-hiipower-academy/football-ml-prediction' target=\"_blank\">https://wandb.ai/adey004azeez-hiipower-academy/football-ml-prediction</a>"
      ],
      "text/plain": [
       "<IPython.core.display.HTML object>"
      ]
     },
     "metadata": {},
     "output_type": "display_data"
    },
    {
     "data": {
      "text/html": [
       " View sweep at <a href='https://wandb.ai/adey004azeez-hiipower-academy/football-ml-prediction/sweeps/hi0ndynh' target=\"_blank\">https://wandb.ai/adey004azeez-hiipower-academy/football-ml-prediction/sweeps/hi0ndynh</a>"
      ],
      "text/plain": [
       "<IPython.core.display.HTML object>"
      ]
     },
     "metadata": {},
     "output_type": "display_data"
    },
    {
     "data": {
      "text/html": [
       " View run at <a href='https://wandb.ai/adey004azeez-hiipower-academy/football-ml-prediction/runs/vyirg8tb' target=\"_blank\">https://wandb.ai/adey004azeez-hiipower-academy/football-ml-prediction/runs/vyirg8tb</a>"
      ],
      "text/plain": [
       "<IPython.core.display.HTML object>"
      ]
     },
     "metadata": {},
     "output_type": "display_data"
    },
    {
     "name": "stdout",
     "output_type": "stream",
     "text": [
      "Epoch[40/576], Train Loss: 0.7753, Val Acc: 0.6610\n",
      "Epoch[80/576], Train Loss: 0.7299, Val Acc: 0.6554\n",
      "Epoch[120/576], Train Loss: 0.7082, Val Acc: 0.6526\n",
      "Epoch[160/576], Train Loss: 0.6952, Val Acc: 0.6709\n",
      "Epoch[200/576], Train Loss: 0.6847, Val Acc: 0.6723\n",
      "Epoch[240/576], Train Loss: 0.6782, Val Acc: 0.6681\n",
      "Epoch[280/576], Train Loss: 0.6706, Val Acc: 0.6695\n",
      "Epoch[320/576], Train Loss: 0.6696, Val Acc: 0.6653\n",
      "Epoch[360/576], Train Loss: 0.6672, Val Acc: 0.6709\n",
      "Epoch[400/576], Train Loss: 0.6657, Val Acc: 0.6681\n",
      "Epoch[440/576], Train Loss: 0.6599, Val Acc: 0.6639\n",
      "Epoch[480/576], Train Loss: 0.6583, Val Acc: 0.6723\n",
      "Epoch[520/576], Train Loss: 0.6591, Val Acc: 0.6737\n",
      "Epoch[560/576], Train Loss: 0.6541, Val Acc: 0.6723\n",
      "\n",
      "Final Test Accuracy: 0.6709\n",
      "\n",
      "Classification Report:\n",
      "              precision    recall  f1-score   support\n",
      "\n",
      "           0       0.66      0.73      0.69       208\n",
      "           1       0.63      0.36      0.46       187\n",
      "           2       0.69      0.82      0.75       316\n",
      "\n",
      "    accuracy                           0.67       711\n",
      "   macro avg       0.66      0.64      0.63       711\n",
      "weighted avg       0.66      0.67      0.66       711\n",
      "\n"
     ]
    },
    {
     "data": {
      "text/html": [],
      "text/plain": [
       "<IPython.core.display.HTML object>"
      ]
     },
     "metadata": {},
     "output_type": "display_data"
    },
    {
     "data": {
      "text/html": [
       "<br>    <style><br>        .wandb-row {<br>            display: flex;<br>            flex-direction: row;<br>            flex-wrap: wrap;<br>            justify-content: flex-start;<br>            width: 100%;<br>        }<br>        .wandb-col {<br>            display: flex;<br>            flex-direction: column;<br>            flex-basis: 100%;<br>            flex: 1;<br>            padding: 10px;<br>        }<br>    </style><br><div class=\"wandb-row\"><div class=\"wandb-col\"><h3>Run history:</h3><br/><table class=\"wandb\"><tr><td>epoch</td><td>▁▁▁▁▁▂▂▂▂▂▂▂▃▃▃▃▃▄▄▄▄▄▅▅▅▆▆▆▆▆▇▇▇▇▇█████</td></tr><tr><td>train_accuracy</td><td>▁▁▂▃▃▄▅▅▅▆▅▆▆▆▆▆▇▇▇▇▇▆▇▇█▇▇█▇▇▇▇▇▆▇▇▇▇█▇</td></tr><tr><td>train_loss</td><td>█▇▇▆▅▄▃▃▃▃▃▃▃▃▃▂▂▂▂▂▂▂▂▂▁▂▂▂▂▂▂▁▁▁▁▁▁▁▁▁</td></tr><tr><td>val_accuracy</td><td>▁▄▇▇▇▆▆▆▆▆▇▇▇▆▇▇▇▇▇▇█▇██▇▇█████▇▇▇▇██▇▇▇</td></tr><tr><td>val_loss</td><td>█▅▅▄▄▃▂▂▂▂▂▂▂▁▁▁▁▁▁▁▁▁▁▁▁▁▁▁▁▁▁▁▁▁▁▁▁▁▁▁</td></tr></table><br/></div><div class=\"wandb-col\"><h3>Run summary:</h3><br/><table class=\"wandb\"><tr><td>epoch</td><td>575</td></tr><tr><td>train_accuracy</td><td>0.70917</td></tr><tr><td>train_loss</td><td>0.65933</td></tr><tr><td>val_accuracy</td><td>0.67089</td></tr><tr><td>val_loss</td><td>0.73952</td></tr></table><br/></div></div>"
      ],
      "text/plain": [
       "<IPython.core.display.HTML object>"
      ]
     },
     "metadata": {},
     "output_type": "display_data"
    },
    {
     "data": {
      "text/html": [
       " View run <strong style=\"color:#cdcd00\">light-sweep-9</strong> at: <a href='https://wandb.ai/adey004azeez-hiipower-academy/football-ml-prediction/runs/vyirg8tb' target=\"_blank\">https://wandb.ai/adey004azeez-hiipower-academy/football-ml-prediction/runs/vyirg8tb</a><br> View project at: <a href='https://wandb.ai/adey004azeez-hiipower-academy/football-ml-prediction' target=\"_blank\">https://wandb.ai/adey004azeez-hiipower-academy/football-ml-prediction</a><br>Synced 5 W&B file(s), 0 media file(s), 0 artifact file(s) and 0 other file(s)"
      ],
      "text/plain": [
       "<IPython.core.display.HTML object>"
      ]
     },
     "metadata": {},
     "output_type": "display_data"
    },
    {
     "data": {
      "text/html": [
       "Find logs at: <code>.\\wandb\\run-20251006_003609-vyirg8tb\\logs</code>"
      ],
      "text/plain": [
       "<IPython.core.display.HTML object>"
      ]
     },
     "metadata": {},
     "output_type": "display_data"
    },
    {
     "name": "stderr",
     "output_type": "stream",
     "text": [
      "wandb: Agent Starting Run: f968zckf with config:\n",
      "wandb: \tdropout_prob: 0.2522793364971975\n",
      "wandb: \thidden_size: 56\n",
      "wandb: \tlearning_rate: 0.016439725352004563\n",
      "wandb: \tnum_epochs: 944\n"
     ]
    },
    {
     "data": {
      "text/html": [],
      "text/plain": [
       "<IPython.core.display.HTML object>"
      ]
     },
     "metadata": {},
     "output_type": "display_data"
    },
    {
     "data": {
      "text/html": [
       "Tracking run with wandb version 0.22.0"
      ],
      "text/plain": [
       "<IPython.core.display.HTML object>"
      ]
     },
     "metadata": {},
     "output_type": "display_data"
    },
    {
     "data": {
      "text/html": [
       "Run data is saved locally in <code>C:\\Users\\USER\\wandb\\run-20251006_003626-f968zckf</code>"
      ],
      "text/plain": [
       "<IPython.core.display.HTML object>"
      ]
     },
     "metadata": {},
     "output_type": "display_data"
    },
    {
     "data": {
      "text/html": [
       "Syncing run <strong><a href='https://wandb.ai/adey004azeez-hiipower-academy/football-ml-prediction/runs/f968zckf' target=\"_blank\">stellar-sweep-10</a></strong> to <a href='https://wandb.ai/adey004azeez-hiipower-academy/football-ml-prediction' target=\"_blank\">Weights & Biases</a> (<a href='https://wandb.me/developer-guide' target=\"_blank\">docs</a>)<br>Sweep page: <a href='https://wandb.ai/adey004azeez-hiipower-academy/football-ml-prediction/sweeps/hi0ndynh' target=\"_blank\">https://wandb.ai/adey004azeez-hiipower-academy/football-ml-prediction/sweeps/hi0ndynh</a>"
      ],
      "text/plain": [
       "<IPython.core.display.HTML object>"
      ]
     },
     "metadata": {},
     "output_type": "display_data"
    },
    {
     "data": {
      "text/html": [
       " View project at <a href='https://wandb.ai/adey004azeez-hiipower-academy/football-ml-prediction' target=\"_blank\">https://wandb.ai/adey004azeez-hiipower-academy/football-ml-prediction</a>"
      ],
      "text/plain": [
       "<IPython.core.display.HTML object>"
      ]
     },
     "metadata": {},
     "output_type": "display_data"
    },
    {
     "data": {
      "text/html": [
       " View sweep at <a href='https://wandb.ai/adey004azeez-hiipower-academy/football-ml-prediction/sweeps/hi0ndynh' target=\"_blank\">https://wandb.ai/adey004azeez-hiipower-academy/football-ml-prediction/sweeps/hi0ndynh</a>"
      ],
      "text/plain": [
       "<IPython.core.display.HTML object>"
      ]
     },
     "metadata": {},
     "output_type": "display_data"
    },
    {
     "data": {
      "text/html": [
       " View run at <a href='https://wandb.ai/adey004azeez-hiipower-academy/football-ml-prediction/runs/f968zckf' target=\"_blank\">https://wandb.ai/adey004azeez-hiipower-academy/football-ml-prediction/runs/f968zckf</a>"
      ],
      "text/plain": [
       "<IPython.core.display.HTML object>"
      ]
     },
     "metadata": {},
     "output_type": "display_data"
    },
    {
     "name": "stdout",
     "output_type": "stream",
     "text": [
      "Epoch[40/944], Train Loss: 0.7432, Val Acc: 0.6484\n",
      "Epoch[80/944], Train Loss: 0.6997, Val Acc: 0.6695\n",
      "Epoch[120/944], Train Loss: 0.6762, Val Acc: 0.6667\n",
      "Epoch[160/944], Train Loss: 0.6624, Val Acc: 0.6568\n",
      "Epoch[200/944], Train Loss: 0.6577, Val Acc: 0.6709\n",
      "Epoch[240/944], Train Loss: 0.6468, Val Acc: 0.6695\n",
      "Epoch[280/944], Train Loss: 0.6376, Val Acc: 0.6793\n",
      "Epoch[320/944], Train Loss: 0.6403, Val Acc: 0.6709\n",
      "Epoch[360/944], Train Loss: 0.6257, Val Acc: 0.6807\n",
      "Epoch[400/944], Train Loss: 0.6276, Val Acc: 0.6751\n",
      "Epoch[440/944], Train Loss: 0.6283, Val Acc: 0.6639\n",
      "Epoch[480/944], Train Loss: 0.6246, Val Acc: 0.6667\n",
      "Epoch[520/944], Train Loss: 0.6224, Val Acc: 0.6765\n",
      "Epoch[560/944], Train Loss: 0.6128, Val Acc: 0.6667\n",
      "Epoch[600/944], Train Loss: 0.6098, Val Acc: 0.6737\n",
      "Epoch[640/944], Train Loss: 0.6149, Val Acc: 0.6737\n",
      "Epoch[680/944], Train Loss: 0.6160, Val Acc: 0.6653\n",
      "Epoch[720/944], Train Loss: 0.6134, Val Acc: 0.6695\n",
      "Epoch[760/944], Train Loss: 0.6061, Val Acc: 0.6723\n",
      "Epoch[800/944], Train Loss: 0.6068, Val Acc: 0.6653\n",
      "Epoch[840/944], Train Loss: 0.6158, Val Acc: 0.6695\n",
      "Epoch[880/944], Train Loss: 0.6110, Val Acc: 0.6653\n",
      "Epoch[920/944], Train Loss: 0.6094, Val Acc: 0.6610\n",
      "\n",
      "Final Test Accuracy: 0.6723\n",
      "\n",
      "Classification Report:\n",
      "              precision    recall  f1-score   support\n",
      "\n",
      "           0       0.66      0.73      0.70       208\n",
      "           1       0.60      0.40      0.48       187\n",
      "           2       0.70      0.79      0.74       316\n",
      "\n",
      "    accuracy                           0.67       711\n",
      "   macro avg       0.66      0.64      0.64       711\n",
      "weighted avg       0.66      0.67      0.66       711\n",
      "\n"
     ]
    },
    {
     "data": {
      "text/html": [],
      "text/plain": [
       "<IPython.core.display.HTML object>"
      ]
     },
     "metadata": {},
     "output_type": "display_data"
    },
    {
     "data": {
      "text/html": [
       "<br>    <style><br>        .wandb-row {<br>            display: flex;<br>            flex-direction: row;<br>            flex-wrap: wrap;<br>            justify-content: flex-start;<br>            width: 100%;<br>        }<br>        .wandb-col {<br>            display: flex;<br>            flex-direction: column;<br>            flex-basis: 100%;<br>            flex: 1;<br>            padding: 10px;<br>        }<br>    </style><br><div class=\"wandb-row\"><div class=\"wandb-col\"><h3>Run history:</h3><br/><table class=\"wandb\"><tr><td>epoch</td><td>▁▁▁▁▁▂▂▂▂▂▂▂▂▃▃▃▃▃▃▄▄▄▅▅▅▅▅▅▅▆▆▆▆▇▇█████</td></tr><tr><td>train_accuracy</td><td>▁▂▃▄▄▅▆▆▆▇▇▇▇▇▇▇▇█▇▇▇████▇█████▇████▇███</td></tr><tr><td>train_loss</td><td>█▇▆▆▆▅▄▄▄▄▃▃▃▃▂▂▂▂▂▂▂▂▁▂▂▁▁▁▂▁▁▁▁▂▁▁▁▁▁▁</td></tr><tr><td>val_accuracy</td><td>▁▅▆▇▇▇▇▇▇█▇▇▇▇▇▇▇██▇▇▇▇▇▇▇▇▇▇▇▇▇▇▇▇▇▇▇▇▇</td></tr><tr><td>val_loss</td><td>▆▄▃▃▂▁▁▁▂▁▂▂▂▃▂▃▃▃▄▃▄▄▄▄▅▆▆▇▇▆█▇▆██████▇</td></tr></table><br/></div><div class=\"wandb-col\"><h3>Run summary:</h3><br/><table class=\"wandb\"><tr><td>epoch</td><td>943</td></tr><tr><td>train_accuracy</td><td>0.72902</td></tr><tr><td>train_loss</td><td>0.6037</td></tr><tr><td>val_accuracy</td><td>0.67229</td></tr><tr><td>val_loss</td><td>0.76691</td></tr></table><br/></div></div>"
      ],
      "text/plain": [
       "<IPython.core.display.HTML object>"
      ]
     },
     "metadata": {},
     "output_type": "display_data"
    },
    {
     "data": {
      "text/html": [
       " View run <strong style=\"color:#cdcd00\">stellar-sweep-10</strong> at: <a href='https://wandb.ai/adey004azeez-hiipower-academy/football-ml-prediction/runs/f968zckf' target=\"_blank\">https://wandb.ai/adey004azeez-hiipower-academy/football-ml-prediction/runs/f968zckf</a><br> View project at: <a href='https://wandb.ai/adey004azeez-hiipower-academy/football-ml-prediction' target=\"_blank\">https://wandb.ai/adey004azeez-hiipower-academy/football-ml-prediction</a><br>Synced 5 W&B file(s), 0 media file(s), 0 artifact file(s) and 0 other file(s)"
      ],
      "text/plain": [
       "<IPython.core.display.HTML object>"
      ]
     },
     "metadata": {},
     "output_type": "display_data"
    },
    {
     "data": {
      "text/html": [
       "Find logs at: <code>.\\wandb\\run-20251006_003626-f968zckf\\logs</code>"
      ],
      "text/plain": [
       "<IPython.core.display.HTML object>"
      ]
     },
     "metadata": {},
     "output_type": "display_data"
    },
    {
     "name": "stderr",
     "output_type": "stream",
     "text": [
      "wandb: Agent Starting Run: 38jk4e5o with config:\n",
      "wandb: \tdropout_prob: 0.23741484257026568\n",
      "wandb: \thidden_size: 42\n",
      "wandb: \tlearning_rate: 0.017623810726318582\n",
      "wandb: \tnum_epochs: 934\n"
     ]
    },
    {
     "data": {
      "text/html": [],
      "text/plain": [
       "<IPython.core.display.HTML object>"
      ]
     },
     "metadata": {},
     "output_type": "display_data"
    },
    {
     "data": {
      "text/html": [
       "Tracking run with wandb version 0.22.0"
      ],
      "text/plain": [
       "<IPython.core.display.HTML object>"
      ]
     },
     "metadata": {},
     "output_type": "display_data"
    },
    {
     "data": {
      "text/html": [
       "Run data is saved locally in <code>C:\\Users\\USER\\wandb\\run-20251006_003652-38jk4e5o</code>"
      ],
      "text/plain": [
       "<IPython.core.display.HTML object>"
      ]
     },
     "metadata": {},
     "output_type": "display_data"
    },
    {
     "data": {
      "text/html": [
       "Syncing run <strong><a href='https://wandb.ai/adey004azeez-hiipower-academy/football-ml-prediction/runs/38jk4e5o' target=\"_blank\">woven-sweep-11</a></strong> to <a href='https://wandb.ai/adey004azeez-hiipower-academy/football-ml-prediction' target=\"_blank\">Weights & Biases</a> (<a href='https://wandb.me/developer-guide' target=\"_blank\">docs</a>)<br>Sweep page: <a href='https://wandb.ai/adey004azeez-hiipower-academy/football-ml-prediction/sweeps/hi0ndynh' target=\"_blank\">https://wandb.ai/adey004azeez-hiipower-academy/football-ml-prediction/sweeps/hi0ndynh</a>"
      ],
      "text/plain": [
       "<IPython.core.display.HTML object>"
      ]
     },
     "metadata": {},
     "output_type": "display_data"
    },
    {
     "data": {
      "text/html": [
       " View project at <a href='https://wandb.ai/adey004azeez-hiipower-academy/football-ml-prediction' target=\"_blank\">https://wandb.ai/adey004azeez-hiipower-academy/football-ml-prediction</a>"
      ],
      "text/plain": [
       "<IPython.core.display.HTML object>"
      ]
     },
     "metadata": {},
     "output_type": "display_data"
    },
    {
     "data": {
      "text/html": [
       " View sweep at <a href='https://wandb.ai/adey004azeez-hiipower-academy/football-ml-prediction/sweeps/hi0ndynh' target=\"_blank\">https://wandb.ai/adey004azeez-hiipower-academy/football-ml-prediction/sweeps/hi0ndynh</a>"
      ],
      "text/plain": [
       "<IPython.core.display.HTML object>"
      ]
     },
     "metadata": {},
     "output_type": "display_data"
    },
    {
     "data": {
      "text/html": [
       " View run at <a href='https://wandb.ai/adey004azeez-hiipower-academy/football-ml-prediction/runs/38jk4e5o' target=\"_blank\">https://wandb.ai/adey004azeez-hiipower-academy/football-ml-prediction/runs/38jk4e5o</a>"
      ],
      "text/plain": [
       "<IPython.core.display.HTML object>"
      ]
     },
     "metadata": {},
     "output_type": "display_data"
    },
    {
     "name": "stdout",
     "output_type": "stream",
     "text": [
      "Epoch[40/934], Train Loss: 0.7441, Val Acc: 0.6456\n",
      "Epoch[80/934], Train Loss: 0.7037, Val Acc: 0.6639\n",
      "Epoch[120/934], Train Loss: 0.6825, Val Acc: 0.6709\n",
      "Epoch[160/934], Train Loss: 0.6665, Val Acc: 0.6751\n",
      "Epoch[200/934], Train Loss: 0.6632, Val Acc: 0.6864\n",
      "Epoch[240/934], Train Loss: 0.6538, Val Acc: 0.6765\n",
      "Epoch[280/934], Train Loss: 0.6533, Val Acc: 0.6835\n",
      "Epoch[320/934], Train Loss: 0.6447, Val Acc: 0.6765\n",
      "Epoch[360/934], Train Loss: 0.6424, Val Acc: 0.6821\n",
      "Epoch[400/934], Train Loss: 0.6375, Val Acc: 0.6892\n",
      "Epoch[440/934], Train Loss: 0.6351, Val Acc: 0.6835\n",
      "Epoch[480/934], Train Loss: 0.6343, Val Acc: 0.6835\n",
      "Epoch[520/934], Train Loss: 0.6345, Val Acc: 0.6850\n",
      "Epoch[560/934], Train Loss: 0.6295, Val Acc: 0.6850\n",
      "Epoch[600/934], Train Loss: 0.6297, Val Acc: 0.6793\n",
      "Epoch[640/934], Train Loss: 0.6326, Val Acc: 0.6793\n",
      "Epoch[680/934], Train Loss: 0.6261, Val Acc: 0.6765\n",
      "Epoch[720/934], Train Loss: 0.6316, Val Acc: 0.6906\n",
      "Epoch[760/934], Train Loss: 0.6288, Val Acc: 0.6835\n",
      "Epoch[800/934], Train Loss: 0.6302, Val Acc: 0.6934\n",
      "Epoch[840/934], Train Loss: 0.6237, Val Acc: 0.6906\n",
      "Epoch[880/934], Train Loss: 0.6271, Val Acc: 0.6821\n",
      "Epoch[920/934], Train Loss: 0.6262, Val Acc: 0.6892\n",
      "\n",
      "Final Test Accuracy: 0.6850\n",
      "\n",
      "Classification Report:\n",
      "              precision    recall  f1-score   support\n",
      "\n",
      "           0       0.67      0.75      0.71       208\n",
      "           1       0.63      0.37      0.47       187\n",
      "           2       0.71      0.83      0.77       316\n",
      "\n",
      "    accuracy                           0.68       711\n",
      "   macro avg       0.67      0.65      0.65       711\n",
      "weighted avg       0.68      0.68      0.67       711\n",
      "\n"
     ]
    },
    {
     "data": {
      "text/html": [],
      "text/plain": [
       "<IPython.core.display.HTML object>"
      ]
     },
     "metadata": {},
     "output_type": "display_data"
    },
    {
     "data": {
      "text/html": [
       "<br>    <style><br>        .wandb-row {<br>            display: flex;<br>            flex-direction: row;<br>            flex-wrap: wrap;<br>            justify-content: flex-start;<br>            width: 100%;<br>        }<br>        .wandb-col {<br>            display: flex;<br>            flex-direction: column;<br>            flex-basis: 100%;<br>            flex: 1;<br>            padding: 10px;<br>        }<br>    </style><br><div class=\"wandb-row\"><div class=\"wandb-col\"><h3>Run history:</h3><br/><table class=\"wandb\"><tr><td>epoch</td><td>▁▁▁▁▁▁▂▂▂▂▂▃▃▃▃▃▄▄▄▄▄▄▄▅▅▅▅▅▅▅▆▆▆▇▇▇▇▇██</td></tr><tr><td>train_accuracy</td><td>▁▅▆▆▆▆▆▇▇▇▇▇▇▇▇▇▇▇▇▇▇▇█▇█▇██████████████</td></tr><tr><td>train_loss</td><td>█▄▄▃▃▃▃▂▂▂▂▂▂▂▂▂▂▁▁▁▂▁▁▁▁▁▁▂▁▁▁▁▁▁▁▁▁▁▁▁</td></tr><tr><td>val_accuracy</td><td>▁▂▃▅▅▅▅▆▆▇▇▆▇▇▇▇▇▇██▇▇▇█▇▇▇▇▇▇▇▇███▇▇▇██</td></tr><tr><td>val_loss</td><td>█▆▄▃▃▃▃▂▁▂▂▂▂▂▁▁▂▂▁▂▂▂▃▂▂▁▁▂▂▁▂▁▂▂▁▂▃▂▁▂</td></tr></table><br/></div><div class=\"wandb-col\"><h3>Run summary:</h3><br/><table class=\"wandb\"><tr><td>epoch</td><td>933</td></tr><tr><td>train_accuracy</td><td>0.72355</td></tr><tr><td>train_loss</td><td>0.62356</td></tr><tr><td>val_accuracy</td><td>0.68495</td></tr><tr><td>val_loss</td><td>0.72716</td></tr></table><br/></div></div>"
      ],
      "text/plain": [
       "<IPython.core.display.HTML object>"
      ]
     },
     "metadata": {},
     "output_type": "display_data"
    },
    {
     "data": {
      "text/html": [
       " View run <strong style=\"color:#cdcd00\">woven-sweep-11</strong> at: <a href='https://wandb.ai/adey004azeez-hiipower-academy/football-ml-prediction/runs/38jk4e5o' target=\"_blank\">https://wandb.ai/adey004azeez-hiipower-academy/football-ml-prediction/runs/38jk4e5o</a><br> View project at: <a href='https://wandb.ai/adey004azeez-hiipower-academy/football-ml-prediction' target=\"_blank\">https://wandb.ai/adey004azeez-hiipower-academy/football-ml-prediction</a><br>Synced 5 W&B file(s), 0 media file(s), 0 artifact file(s) and 0 other file(s)"
      ],
      "text/plain": [
       "<IPython.core.display.HTML object>"
      ]
     },
     "metadata": {},
     "output_type": "display_data"
    },
    {
     "data": {
      "text/html": [
       "Find logs at: <code>.\\wandb\\run-20251006_003652-38jk4e5o\\logs</code>"
      ],
      "text/plain": [
       "<IPython.core.display.HTML object>"
      ]
     },
     "metadata": {},
     "output_type": "display_data"
    },
    {
     "name": "stderr",
     "output_type": "stream",
     "text": [
      "wandb: Agent Starting Run: vhypytwl with config:\n",
      "wandb: \tdropout_prob: 0.2663438096470876\n",
      "wandb: \thidden_size: 56\n",
      "wandb: \tlearning_rate: 0.011640459281989767\n",
      "wandb: \tnum_epochs: 504\n"
     ]
    },
    {
     "data": {
      "text/html": [],
      "text/plain": [
       "<IPython.core.display.HTML object>"
      ]
     },
     "metadata": {},
     "output_type": "display_data"
    },
    {
     "data": {
      "text/html": [
       "Tracking run with wandb version 0.22.0"
      ],
      "text/plain": [
       "<IPython.core.display.HTML object>"
      ]
     },
     "metadata": {},
     "output_type": "display_data"
    },
    {
     "data": {
      "text/html": [
       "Run data is saved locally in <code>C:\\Users\\USER\\wandb\\run-20251006_003714-vhypytwl</code>"
      ],
      "text/plain": [
       "<IPython.core.display.HTML object>"
      ]
     },
     "metadata": {},
     "output_type": "display_data"
    },
    {
     "data": {
      "text/html": [
       "Syncing run <strong><a href='https://wandb.ai/adey004azeez-hiipower-academy/football-ml-prediction/runs/vhypytwl' target=\"_blank\">brisk-sweep-12</a></strong> to <a href='https://wandb.ai/adey004azeez-hiipower-academy/football-ml-prediction' target=\"_blank\">Weights & Biases</a> (<a href='https://wandb.me/developer-guide' target=\"_blank\">docs</a>)<br>Sweep page: <a href='https://wandb.ai/adey004azeez-hiipower-academy/football-ml-prediction/sweeps/hi0ndynh' target=\"_blank\">https://wandb.ai/adey004azeez-hiipower-academy/football-ml-prediction/sweeps/hi0ndynh</a>"
      ],
      "text/plain": [
       "<IPython.core.display.HTML object>"
      ]
     },
     "metadata": {},
     "output_type": "display_data"
    },
    {
     "data": {
      "text/html": [
       " View project at <a href='https://wandb.ai/adey004azeez-hiipower-academy/football-ml-prediction' target=\"_blank\">https://wandb.ai/adey004azeez-hiipower-academy/football-ml-prediction</a>"
      ],
      "text/plain": [
       "<IPython.core.display.HTML object>"
      ]
     },
     "metadata": {},
     "output_type": "display_data"
    },
    {
     "data": {
      "text/html": [
       " View sweep at <a href='https://wandb.ai/adey004azeez-hiipower-academy/football-ml-prediction/sweeps/hi0ndynh' target=\"_blank\">https://wandb.ai/adey004azeez-hiipower-academy/football-ml-prediction/sweeps/hi0ndynh</a>"
      ],
      "text/plain": [
       "<IPython.core.display.HTML object>"
      ]
     },
     "metadata": {},
     "output_type": "display_data"
    },
    {
     "data": {
      "text/html": [
       " View run at <a href='https://wandb.ai/adey004azeez-hiipower-academy/football-ml-prediction/runs/vhypytwl' target=\"_blank\">https://wandb.ai/adey004azeez-hiipower-academy/football-ml-prediction/runs/vhypytwl</a>"
      ],
      "text/plain": [
       "<IPython.core.display.HTML object>"
      ]
     },
     "metadata": {},
     "output_type": "display_data"
    },
    {
     "name": "stdout",
     "output_type": "stream",
     "text": [
      "Epoch[40/504], Train Loss: 0.7554, Val Acc: 0.6540\n",
      "Epoch[80/504], Train Loss: 0.7143, Val Acc: 0.6582\n",
      "Epoch[120/504], Train Loss: 0.6912, Val Acc: 0.6667\n",
      "Epoch[160/504], Train Loss: 0.6728, Val Acc: 0.6639\n",
      "Epoch[200/504], Train Loss: 0.6611, Val Acc: 0.6653\n",
      "Epoch[240/504], Train Loss: 0.6485, Val Acc: 0.6695\n",
      "Epoch[280/504], Train Loss: 0.6495, Val Acc: 0.6779\n",
      "Epoch[320/504], Train Loss: 0.6431, Val Acc: 0.6737\n",
      "Epoch[360/504], Train Loss: 0.6370, Val Acc: 0.6807\n",
      "Epoch[400/504], Train Loss: 0.6364, Val Acc: 0.6793\n",
      "Epoch[440/504], Train Loss: 0.6307, Val Acc: 0.6695\n",
      "Epoch[480/504], Train Loss: 0.6296, Val Acc: 0.6765\n",
      "\n",
      "Final Test Accuracy: 0.6793\n",
      "\n",
      "Classification Report:\n",
      "              precision    recall  f1-score   support\n",
      "\n",
      "           0       0.67      0.75      0.70       208\n",
      "           1       0.62      0.39      0.47       187\n",
      "           2       0.71      0.81      0.76       316\n",
      "\n",
      "    accuracy                           0.68       711\n",
      "   macro avg       0.66      0.65      0.64       711\n",
      "weighted avg       0.67      0.68      0.67       711\n",
      "\n"
     ]
    },
    {
     "data": {
      "text/html": [],
      "text/plain": [
       "<IPython.core.display.HTML object>"
      ]
     },
     "metadata": {},
     "output_type": "display_data"
    },
    {
     "data": {
      "text/html": [
       "<br>    <style><br>        .wandb-row {<br>            display: flex;<br>            flex-direction: row;<br>            flex-wrap: wrap;<br>            justify-content: flex-start;<br>            width: 100%;<br>        }<br>        .wandb-col {<br>            display: flex;<br>            flex-direction: column;<br>            flex-basis: 100%;<br>            flex: 1;<br>            padding: 10px;<br>        }<br>    </style><br><div class=\"wandb-row\"><div class=\"wandb-col\"><h3>Run history:</h3><br/><table class=\"wandb\"><tr><td>epoch</td><td>▁▁▁▁▂▂▂▂▂▂▃▃▃▃▃▃▄▄▄▄▅▅▅▅▅▅▆▆▆▆▆▇▇▇▇▇▇███</td></tr><tr><td>train_accuracy</td><td>▁▄▄▆▆▆▆▆▇▇▇▇▇▇▇▇▇▇▇▇▇▇▇▇▇▇█▇▇█▇█████████</td></tr><tr><td>train_loss</td><td>█▇▄▄▄▃▃▃▃▃▂▂▂▂▂▂▂▂▂▂▂▂▂▂▂▁▁▁▁▁▁▁▁▁▁▁▁▁▁▁</td></tr><tr><td>val_accuracy</td><td>▁▄▇▇▇▇▇▇▇▇▇▇▇▇▇▇▇▇▇▇▇█▇▇▇▇██████████████</td></tr><tr><td>val_loss</td><td>█▇▇▄▃▂▂▂▂▂▂▂▂▂▂▂▂▁▁▁▁▁▁▁▁▁▁▁▁▁▁▁▁▁▁▁▁▁▁▁</td></tr></table><br/></div><div class=\"wandb-col\"><h3>Run summary:</h3><br/><table class=\"wandb\"><tr><td>epoch</td><td>503</td></tr><tr><td>train_accuracy</td><td>0.72371</td></tr><tr><td>train_loss</td><td>0.62504</td></tr><tr><td>val_accuracy</td><td>0.67932</td></tr><tr><td>val_loss</td><td>0.73117</td></tr></table><br/></div></div>"
      ],
      "text/plain": [
       "<IPython.core.display.HTML object>"
      ]
     },
     "metadata": {},
     "output_type": "display_data"
    },
    {
     "data": {
      "text/html": [
       " View run <strong style=\"color:#cdcd00\">brisk-sweep-12</strong> at: <a href='https://wandb.ai/adey004azeez-hiipower-academy/football-ml-prediction/runs/vhypytwl' target=\"_blank\">https://wandb.ai/adey004azeez-hiipower-academy/football-ml-prediction/runs/vhypytwl</a><br> View project at: <a href='https://wandb.ai/adey004azeez-hiipower-academy/football-ml-prediction' target=\"_blank\">https://wandb.ai/adey004azeez-hiipower-academy/football-ml-prediction</a><br>Synced 5 W&B file(s), 0 media file(s), 0 artifact file(s) and 0 other file(s)"
      ],
      "text/plain": [
       "<IPython.core.display.HTML object>"
      ]
     },
     "metadata": {},
     "output_type": "display_data"
    },
    {
     "data": {
      "text/html": [
       "Find logs at: <code>.\\wandb\\run-20251006_003714-vhypytwl\\logs</code>"
      ],
      "text/plain": [
       "<IPython.core.display.HTML object>"
      ]
     },
     "metadata": {},
     "output_type": "display_data"
    },
    {
     "name": "stderr",
     "output_type": "stream",
     "text": [
      "wandb: Agent Starting Run: joyksy7e with config:\n",
      "wandb: \tdropout_prob: 0.2097658548218589\n",
      "wandb: \thidden_size: 28\n",
      "wandb: \tlearning_rate: 0.01406683357730576\n",
      "wandb: \tnum_epochs: 793\n"
     ]
    },
    {
     "data": {
      "text/html": [],
      "text/plain": [
       "<IPython.core.display.HTML object>"
      ]
     },
     "metadata": {},
     "output_type": "display_data"
    },
    {
     "data": {
      "text/html": [
       "Tracking run with wandb version 0.22.0"
      ],
      "text/plain": [
       "<IPython.core.display.HTML object>"
      ]
     },
     "metadata": {},
     "output_type": "display_data"
    },
    {
     "data": {
      "text/html": [
       "Run data is saved locally in <code>C:\\Users\\USER\\wandb\\run-20251006_003730-joyksy7e</code>"
      ],
      "text/plain": [
       "<IPython.core.display.HTML object>"
      ]
     },
     "metadata": {},
     "output_type": "display_data"
    },
    {
     "data": {
      "text/html": [
       "Syncing run <strong><a href='https://wandb.ai/adey004azeez-hiipower-academy/football-ml-prediction/runs/joyksy7e' target=\"_blank\">wise-sweep-13</a></strong> to <a href='https://wandb.ai/adey004azeez-hiipower-academy/football-ml-prediction' target=\"_blank\">Weights & Biases</a> (<a href='https://wandb.me/developer-guide' target=\"_blank\">docs</a>)<br>Sweep page: <a href='https://wandb.ai/adey004azeez-hiipower-academy/football-ml-prediction/sweeps/hi0ndynh' target=\"_blank\">https://wandb.ai/adey004azeez-hiipower-academy/football-ml-prediction/sweeps/hi0ndynh</a>"
      ],
      "text/plain": [
       "<IPython.core.display.HTML object>"
      ]
     },
     "metadata": {},
     "output_type": "display_data"
    },
    {
     "data": {
      "text/html": [
       " View project at <a href='https://wandb.ai/adey004azeez-hiipower-academy/football-ml-prediction' target=\"_blank\">https://wandb.ai/adey004azeez-hiipower-academy/football-ml-prediction</a>"
      ],
      "text/plain": [
       "<IPython.core.display.HTML object>"
      ]
     },
     "metadata": {},
     "output_type": "display_data"
    },
    {
     "data": {
      "text/html": [
       " View sweep at <a href='https://wandb.ai/adey004azeez-hiipower-academy/football-ml-prediction/sweeps/hi0ndynh' target=\"_blank\">https://wandb.ai/adey004azeez-hiipower-academy/football-ml-prediction/sweeps/hi0ndynh</a>"
      ],
      "text/plain": [
       "<IPython.core.display.HTML object>"
      ]
     },
     "metadata": {},
     "output_type": "display_data"
    },
    {
     "data": {
      "text/html": [
       " View run at <a href='https://wandb.ai/adey004azeez-hiipower-academy/football-ml-prediction/runs/joyksy7e' target=\"_blank\">https://wandb.ai/adey004azeez-hiipower-academy/football-ml-prediction/runs/joyksy7e</a>"
      ],
      "text/plain": [
       "<IPython.core.display.HTML object>"
      ]
     },
     "metadata": {},
     "output_type": "display_data"
    },
    {
     "name": "stdout",
     "output_type": "stream",
     "text": [
      "Epoch[40/793], Train Loss: 0.7728, Val Acc: 0.6414\n",
      "Epoch[80/793], Train Loss: 0.7312, Val Acc: 0.6624\n",
      "Epoch[120/793], Train Loss: 0.7069, Val Acc: 0.6653\n",
      "Epoch[160/793], Train Loss: 0.6953, Val Acc: 0.6639\n",
      "Epoch[200/793], Train Loss: 0.6879, Val Acc: 0.6653\n",
      "Epoch[240/793], Train Loss: 0.6824, Val Acc: 0.6624\n",
      "Epoch[280/793], Train Loss: 0.6739, Val Acc: 0.6709\n",
      "Epoch[320/793], Train Loss: 0.6701, Val Acc: 0.6709\n",
      "Epoch[360/793], Train Loss: 0.6649, Val Acc: 0.6681\n",
      "Epoch[400/793], Train Loss: 0.6624, Val Acc: 0.6653\n",
      "Epoch[440/793], Train Loss: 0.6588, Val Acc: 0.6765\n",
      "Epoch[480/793], Train Loss: 0.6533, Val Acc: 0.6681\n",
      "Epoch[520/793], Train Loss: 0.6588, Val Acc: 0.6653\n",
      "Epoch[560/793], Train Loss: 0.6546, Val Acc: 0.6765\n",
      "Epoch[600/793], Train Loss: 0.6546, Val Acc: 0.6737\n",
      "Epoch[640/793], Train Loss: 0.6475, Val Acc: 0.6723\n",
      "Epoch[680/793], Train Loss: 0.6505, Val Acc: 0.6737\n",
      "Epoch[720/793], Train Loss: 0.6496, Val Acc: 0.6723\n",
      "Epoch[760/793], Train Loss: 0.6507, Val Acc: 0.6723\n",
      "\n",
      "Final Test Accuracy: 0.6737\n",
      "\n",
      "Classification Report:\n",
      "              precision    recall  f1-score   support\n",
      "\n",
      "           0       0.66      0.74      0.69       208\n",
      "           1       0.62      0.35      0.45       187\n",
      "           2       0.70      0.82      0.76       316\n",
      "\n",
      "    accuracy                           0.67       711\n",
      "   macro avg       0.66      0.64      0.63       711\n",
      "weighted avg       0.67      0.67      0.66       711\n",
      "\n"
     ]
    },
    {
     "data": {
      "text/html": [],
      "text/plain": [
       "<IPython.core.display.HTML object>"
      ]
     },
     "metadata": {},
     "output_type": "display_data"
    },
    {
     "data": {
      "text/html": [
       "<br>    <style><br>        .wandb-row {<br>            display: flex;<br>            flex-direction: row;<br>            flex-wrap: wrap;<br>            justify-content: flex-start;<br>            width: 100%;<br>        }<br>        .wandb-col {<br>            display: flex;<br>            flex-direction: column;<br>            flex-basis: 100%;<br>            flex: 1;<br>            padding: 10px;<br>        }<br>    </style><br><div class=\"wandb-row\"><div class=\"wandb-col\"><h3>Run history:</h3><br/><table class=\"wandb\"><tr><td>epoch</td><td>▁▁▁▁▁▂▂▂▂▂▃▃▃▃▃▄▄▄▄▄▄▄▄▄▅▆▆▆▆▆▇▇▇▇▇█████</td></tr><tr><td>train_accuracy</td><td>▁▇▇▇████████████████████████████████████</td></tr><tr><td>train_loss</td><td>█▆▆▄▄▃▃▃▃▂▃▂▂▂▂▂▂▂▂▂▁▂▁▁▁▁▁▁▁▁▁▂▁▁▁▁▁▁▁▁</td></tr><tr><td>val_accuracy</td><td>▁▅▆▇▆▇▆▇▆▆▇▆▇▇▇█▇▇▇▇▇▇▇▇██▇▇█▇▇█▇█▇███▇▇</td></tr><tr><td>val_loss</td><td>█▇▃▂▂▁▁▁▁▁▁▁▁▁▁▁▁▁▁▁▁▁▁▁▁▁▁▁▁▁▁▁▁▁▁▁▁▁▁▁</td></tr></table><br/></div><div class=\"wandb-col\"><h3>Run summary:</h3><br/><table class=\"wandb\"><tr><td>epoch</td><td>792</td></tr><tr><td>train_accuracy</td><td>0.70683</td></tr><tr><td>train_loss</td><td>0.6495</td></tr><tr><td>val_accuracy</td><td>0.6737</td></tr><tr><td>val_loss</td><td>0.73194</td></tr></table><br/></div></div>"
      ],
      "text/plain": [
       "<IPython.core.display.HTML object>"
      ]
     },
     "metadata": {},
     "output_type": "display_data"
    },
    {
     "data": {
      "text/html": [
       " View run <strong style=\"color:#cdcd00\">wise-sweep-13</strong> at: <a href='https://wandb.ai/adey004azeez-hiipower-academy/football-ml-prediction/runs/joyksy7e' target=\"_blank\">https://wandb.ai/adey004azeez-hiipower-academy/football-ml-prediction/runs/joyksy7e</a><br> View project at: <a href='https://wandb.ai/adey004azeez-hiipower-academy/football-ml-prediction' target=\"_blank\">https://wandb.ai/adey004azeez-hiipower-academy/football-ml-prediction</a><br>Synced 5 W&B file(s), 0 media file(s), 0 artifact file(s) and 0 other file(s)"
      ],
      "text/plain": [
       "<IPython.core.display.HTML object>"
      ]
     },
     "metadata": {},
     "output_type": "display_data"
    },
    {
     "data": {
      "text/html": [
       "Find logs at: <code>.\\wandb\\run-20251006_003730-joyksy7e\\logs</code>"
      ],
      "text/plain": [
       "<IPython.core.display.HTML object>"
      ]
     },
     "metadata": {},
     "output_type": "display_data"
    },
    {
     "name": "stderr",
     "output_type": "stream",
     "text": [
      "wandb: Sweep Agent: Waiting for job.\n",
      "wandb: Job received.\n",
      "wandb: Agent Starting Run: v08y6gtj with config:\n",
      "wandb: \tdropout_prob: 0.3824813765621866\n",
      "wandb: \thidden_size: 32\n",
      "wandb: \tlearning_rate: 0.017794397809203194\n",
      "wandb: \tnum_epochs: 622\n"
     ]
    },
    {
     "data": {
      "text/html": [],
      "text/plain": [
       "<IPython.core.display.HTML object>"
      ]
     },
     "metadata": {},
     "output_type": "display_data"
    },
    {
     "data": {
      "text/html": [
       "Tracking run with wandb version 0.22.0"
      ],
      "text/plain": [
       "<IPython.core.display.HTML object>"
      ]
     },
     "metadata": {},
     "output_type": "display_data"
    },
    {
     "data": {
      "text/html": [
       "Run data is saved locally in <code>C:\\Users\\USER\\wandb\\run-20251006_003755-v08y6gtj</code>"
      ],
      "text/plain": [
       "<IPython.core.display.HTML object>"
      ]
     },
     "metadata": {},
     "output_type": "display_data"
    },
    {
     "data": {
      "text/html": [
       "Syncing run <strong><a href='https://wandb.ai/adey004azeez-hiipower-academy/football-ml-prediction/runs/v08y6gtj' target=\"_blank\">dark-sweep-14</a></strong> to <a href='https://wandb.ai/adey004azeez-hiipower-academy/football-ml-prediction' target=\"_blank\">Weights & Biases</a> (<a href='https://wandb.me/developer-guide' target=\"_blank\">docs</a>)<br>Sweep page: <a href='https://wandb.ai/adey004azeez-hiipower-academy/football-ml-prediction/sweeps/hi0ndynh' target=\"_blank\">https://wandb.ai/adey004azeez-hiipower-academy/football-ml-prediction/sweeps/hi0ndynh</a>"
      ],
      "text/plain": [
       "<IPython.core.display.HTML object>"
      ]
     },
     "metadata": {},
     "output_type": "display_data"
    },
    {
     "data": {
      "text/html": [
       " View project at <a href='https://wandb.ai/adey004azeez-hiipower-academy/football-ml-prediction' target=\"_blank\">https://wandb.ai/adey004azeez-hiipower-academy/football-ml-prediction</a>"
      ],
      "text/plain": [
       "<IPython.core.display.HTML object>"
      ]
     },
     "metadata": {},
     "output_type": "display_data"
    },
    {
     "data": {
      "text/html": [
       " View sweep at <a href='https://wandb.ai/adey004azeez-hiipower-academy/football-ml-prediction/sweeps/hi0ndynh' target=\"_blank\">https://wandb.ai/adey004azeez-hiipower-academy/football-ml-prediction/sweeps/hi0ndynh</a>"
      ],
      "text/plain": [
       "<IPython.core.display.HTML object>"
      ]
     },
     "metadata": {},
     "output_type": "display_data"
    },
    {
     "data": {
      "text/html": [
       " View run at <a href='https://wandb.ai/adey004azeez-hiipower-academy/football-ml-prediction/runs/v08y6gtj' target=\"_blank\">https://wandb.ai/adey004azeez-hiipower-academy/football-ml-prediction/runs/v08y6gtj</a>"
      ],
      "text/plain": [
       "<IPython.core.display.HTML object>"
      ]
     },
     "metadata": {},
     "output_type": "display_data"
    },
    {
     "name": "stdout",
     "output_type": "stream",
     "text": [
      "Epoch[40/622], Train Loss: 0.7719, Val Acc: 0.6428\n",
      "Epoch[80/622], Train Loss: 0.7360, Val Acc: 0.6596\n",
      "Epoch[120/622], Train Loss: 0.7092, Val Acc: 0.6667\n",
      "Epoch[160/622], Train Loss: 0.6973, Val Acc: 0.6653\n",
      "Epoch[200/622], Train Loss: 0.6915, Val Acc: 0.6554\n",
      "Epoch[240/622], Train Loss: 0.6855, Val Acc: 0.6582\n",
      "Epoch[280/622], Train Loss: 0.6834, Val Acc: 0.6512\n",
      "Epoch[320/622], Train Loss: 0.6810, Val Acc: 0.6624\n",
      "Epoch[360/622], Train Loss: 0.6811, Val Acc: 0.6610\n",
      "Epoch[400/622], Train Loss: 0.6714, Val Acc: 0.6568\n",
      "Epoch[440/622], Train Loss: 0.6728, Val Acc: 0.6610\n",
      "Epoch[480/622], Train Loss: 0.6666, Val Acc: 0.6667\n",
      "Epoch[520/622], Train Loss: 0.6675, Val Acc: 0.6596\n",
      "Epoch[560/622], Train Loss: 0.6683, Val Acc: 0.6667\n",
      "Epoch[600/622], Train Loss: 0.6708, Val Acc: 0.6709\n",
      "\n",
      "Final Test Accuracy: 0.6596\n",
      "\n",
      "Classification Report:\n",
      "              precision    recall  f1-score   support\n",
      "\n",
      "           0       0.64      0.72      0.68       208\n",
      "           1       0.61      0.30      0.41       187\n",
      "           2       0.68      0.83      0.75       316\n",
      "\n",
      "    accuracy                           0.66       711\n",
      "   macro avg       0.65      0.62      0.61       711\n",
      "weighted avg       0.65      0.66      0.64       711\n",
      "\n"
     ]
    },
    {
     "data": {
      "text/html": [],
      "text/plain": [
       "<IPython.core.display.HTML object>"
      ]
     },
     "metadata": {},
     "output_type": "display_data"
    },
    {
     "data": {
      "text/html": [
       "<br>    <style><br>        .wandb-row {<br>            display: flex;<br>            flex-direction: row;<br>            flex-wrap: wrap;<br>            justify-content: flex-start;<br>            width: 100%;<br>        }<br>        .wandb-col {<br>            display: flex;<br>            flex-direction: column;<br>            flex-basis: 100%;<br>            flex: 1;<br>            padding: 10px;<br>        }<br>    </style><br><div class=\"wandb-row\"><div class=\"wandb-col\"><h3>Run history:</h3><br/><table class=\"wandb\"><tr><td>epoch</td><td>▁▁▁▁▂▂▂▂▂▂▃▃▃▃▄▄▄▄▅▅▅▅▅▅▅▅▆▆▆▆▇▇▇▇▇█████</td></tr><tr><td>train_accuracy</td><td>▁▇▇▇▇███████████████████████████████████</td></tr><tr><td>train_loss</td><td>█▅▅▃▃▂▂▂▃▂▂▂▂▂▂▂▂▂▂▂▂▂▁▂▂▁▁▁▁▂▁▁▁▁▁▁▁▁▁▁</td></tr><tr><td>val_accuracy</td><td>▁▆▇▇▇██▇██▇▇██▇▇▇██▇█▇▇▇▇▇▇▇▇▇█▇▇▇▇██▇▇▇</td></tr><tr><td>val_loss</td><td>██▇▆▅▄▄▄▄▃▂▂▂▁▂▂▁▁▁▂▃▂▂▃▃▃▂▃▃▃▄▄▃▃▃▄▄▄▄▃</td></tr></table><br/></div><div class=\"wandb-col\"><h3>Run summary:</h3><br/><table class=\"wandb\"><tr><td>epoch</td><td>621</td></tr><tr><td>train_accuracy</td><td>0.69886</td></tr><tr><td>train_loss</td><td>0.66979</td></tr><tr><td>val_accuracy</td><td>0.65963</td></tr><tr><td>val_loss</td><td>0.74447</td></tr></table><br/></div></div>"
      ],
      "text/plain": [
       "<IPython.core.display.HTML object>"
      ]
     },
     "metadata": {},
     "output_type": "display_data"
    },
    {
     "data": {
      "text/html": [
       " View run <strong style=\"color:#cdcd00\">dark-sweep-14</strong> at: <a href='https://wandb.ai/adey004azeez-hiipower-academy/football-ml-prediction/runs/v08y6gtj' target=\"_blank\">https://wandb.ai/adey004azeez-hiipower-academy/football-ml-prediction/runs/v08y6gtj</a><br> View project at: <a href='https://wandb.ai/adey004azeez-hiipower-academy/football-ml-prediction' target=\"_blank\">https://wandb.ai/adey004azeez-hiipower-academy/football-ml-prediction</a><br>Synced 5 W&B file(s), 0 media file(s), 0 artifact file(s) and 0 other file(s)"
      ],
      "text/plain": [
       "<IPython.core.display.HTML object>"
      ]
     },
     "metadata": {},
     "output_type": "display_data"
    },
    {
     "data": {
      "text/html": [
       "Find logs at: <code>.\\wandb\\run-20251006_003755-v08y6gtj\\logs</code>"
      ],
      "text/plain": [
       "<IPython.core.display.HTML object>"
      ]
     },
     "metadata": {},
     "output_type": "display_data"
    },
    {
     "name": "stderr",
     "output_type": "stream",
     "text": [
      "wandb: Agent Starting Run: ojzl6det with config:\n",
      "wandb: \tdropout_prob: 0.20676071635912896\n",
      "wandb: \thidden_size: 28\n",
      "wandb: \tlearning_rate: 0.014174325770612192\n",
      "wandb: \tnum_epochs: 800\n"
     ]
    },
    {
     "data": {
      "text/html": [],
      "text/plain": [
       "<IPython.core.display.HTML object>"
      ]
     },
     "metadata": {},
     "output_type": "display_data"
    },
    {
     "data": {
      "text/html": [
       "Tracking run with wandb version 0.22.0"
      ],
      "text/plain": [
       "<IPython.core.display.HTML object>"
      ]
     },
     "metadata": {},
     "output_type": "display_data"
    },
    {
     "data": {
      "text/html": [
       "Run data is saved locally in <code>C:\\Users\\USER\\wandb\\run-20251006_003812-ojzl6det</code>"
      ],
      "text/plain": [
       "<IPython.core.display.HTML object>"
      ]
     },
     "metadata": {},
     "output_type": "display_data"
    },
    {
     "data": {
      "text/html": [
       "Syncing run <strong><a href='https://wandb.ai/adey004azeez-hiipower-academy/football-ml-prediction/runs/ojzl6det' target=\"_blank\">decent-sweep-15</a></strong> to <a href='https://wandb.ai/adey004azeez-hiipower-academy/football-ml-prediction' target=\"_blank\">Weights & Biases</a> (<a href='https://wandb.me/developer-guide' target=\"_blank\">docs</a>)<br>Sweep page: <a href='https://wandb.ai/adey004azeez-hiipower-academy/football-ml-prediction/sweeps/hi0ndynh' target=\"_blank\">https://wandb.ai/adey004azeez-hiipower-academy/football-ml-prediction/sweeps/hi0ndynh</a>"
      ],
      "text/plain": [
       "<IPython.core.display.HTML object>"
      ]
     },
     "metadata": {},
     "output_type": "display_data"
    },
    {
     "data": {
      "text/html": [
       " View project at <a href='https://wandb.ai/adey004azeez-hiipower-academy/football-ml-prediction' target=\"_blank\">https://wandb.ai/adey004azeez-hiipower-academy/football-ml-prediction</a>"
      ],
      "text/plain": [
       "<IPython.core.display.HTML object>"
      ]
     },
     "metadata": {},
     "output_type": "display_data"
    },
    {
     "data": {
      "text/html": [
       " View sweep at <a href='https://wandb.ai/adey004azeez-hiipower-academy/football-ml-prediction/sweeps/hi0ndynh' target=\"_blank\">https://wandb.ai/adey004azeez-hiipower-academy/football-ml-prediction/sweeps/hi0ndynh</a>"
      ],
      "text/plain": [
       "<IPython.core.display.HTML object>"
      ]
     },
     "metadata": {},
     "output_type": "display_data"
    },
    {
     "data": {
      "text/html": [
       " View run at <a href='https://wandb.ai/adey004azeez-hiipower-academy/football-ml-prediction/runs/ojzl6det' target=\"_blank\">https://wandb.ai/adey004azeez-hiipower-academy/football-ml-prediction/runs/ojzl6det</a>"
      ],
      "text/plain": [
       "<IPython.core.display.HTML object>"
      ]
     },
     "metadata": {},
     "output_type": "display_data"
    },
    {
     "name": "stdout",
     "output_type": "stream",
     "text": [
      "Epoch[40/800], Train Loss: 0.7692, Val Acc: 0.6568\n",
      "Epoch[80/800], Train Loss: 0.7235, Val Acc: 0.6610\n",
      "Epoch[120/800], Train Loss: 0.7043, Val Acc: 0.6667\n",
      "Epoch[160/800], Train Loss: 0.6961, Val Acc: 0.6681\n",
      "Epoch[200/800], Train Loss: 0.6849, Val Acc: 0.6695\n",
      "Epoch[240/800], Train Loss: 0.6774, Val Acc: 0.6737\n",
      "Epoch[280/800], Train Loss: 0.6703, Val Acc: 0.6807\n",
      "Epoch[320/800], Train Loss: 0.6671, Val Acc: 0.6779\n",
      "Epoch[360/800], Train Loss: 0.6623, Val Acc: 0.6807\n",
      "Epoch[400/800], Train Loss: 0.6671, Val Acc: 0.6737\n",
      "Epoch[440/800], Train Loss: 0.6583, Val Acc: 0.6821\n",
      "Epoch[480/800], Train Loss: 0.6527, Val Acc: 0.6779\n",
      "Epoch[520/800], Train Loss: 0.6505, Val Acc: 0.6779\n",
      "Epoch[560/800], Train Loss: 0.6499, Val Acc: 0.6765\n",
      "Epoch[600/800], Train Loss: 0.6464, Val Acc: 0.6751\n",
      "Epoch[640/800], Train Loss: 0.6421, Val Acc: 0.6779\n",
      "Epoch[680/800], Train Loss: 0.6468, Val Acc: 0.6737\n",
      "Epoch[720/800], Train Loss: 0.6453, Val Acc: 0.6793\n",
      "Epoch[760/800], Train Loss: 0.6476, Val Acc: 0.6765\n",
      "Epoch[800/800], Train Loss: 0.6461, Val Acc: 0.6779\n",
      "\n",
      "Final Test Accuracy: 0.6779\n",
      "\n",
      "Classification Report:\n",
      "              precision    recall  f1-score   support\n",
      "\n",
      "           0       0.66      0.76      0.70       208\n",
      "           1       0.64      0.37      0.47       187\n",
      "           2       0.71      0.80      0.75       316\n",
      "\n",
      "    accuracy                           0.68       711\n",
      "   macro avg       0.67      0.65      0.64       711\n",
      "weighted avg       0.67      0.68      0.66       711\n",
      "\n"
     ]
    },
    {
     "data": {
      "text/html": [],
      "text/plain": [
       "<IPython.core.display.HTML object>"
      ]
     },
     "metadata": {},
     "output_type": "display_data"
    },
    {
     "data": {
      "text/html": [
       "<br>    <style><br>        .wandb-row {<br>            display: flex;<br>            flex-direction: row;<br>            flex-wrap: wrap;<br>            justify-content: flex-start;<br>            width: 100%;<br>        }<br>        .wandb-col {<br>            display: flex;<br>            flex-direction: column;<br>            flex-basis: 100%;<br>            flex: 1;<br>            padding: 10px;<br>        }<br>    </style><br><div class=\"wandb-row\"><div class=\"wandb-col\"><h3>Run history:</h3><br/><table class=\"wandb\"><tr><td>epoch</td><td>▁▁▁▁▂▂▂▂▃▃▃▃▃▃▄▄▄▄▄▅▅▅▅▅▅▅▅▅▅▆▆▆▆▆▇▇▇▇██</td></tr><tr><td>train_accuracy</td><td>▁▂▃▄▅▅▆▆▆▆▆▇▇▇▇▇▇▇▇▇████▇█▇▇██▇▇▆███▇▇██</td></tr><tr><td>train_loss</td><td>█▆▄▃▃▃▂▂▂▂▂▂▂▂▂▂▂▂▂▂▂▁▂▁▁▁▁▁▁▁▁▁▁▁▁▁▁▁▁▁</td></tr><tr><td>val_accuracy</td><td>▁▅▅▅▅▆▅▆▆▆▆▇▇▇▇▇▇▇▇▇▇▇▆▇███▇▇▇▇▇▇▇▇▇▇▇▇▇</td></tr><tr><td>val_loss</td><td>█▆▅▃▃▃▃▂▂▂▂▁▂▁▁▁▁▁▁▁▁▂▁▁▂▁▂▂▂▂▂▂▂▃▃▃▃▃▂▃</td></tr></table><br/></div><div class=\"wandb-col\"><h3>Run summary:</h3><br/><table class=\"wandb\"><tr><td>epoch</td><td>799</td></tr><tr><td>train_accuracy</td><td>0.70917</td></tr><tr><td>train_loss</td><td>0.64609</td></tr><tr><td>val_accuracy</td><td>0.67792</td></tr><tr><td>val_loss</td><td>0.75082</td></tr></table><br/></div></div>"
      ],
      "text/plain": [
       "<IPython.core.display.HTML object>"
      ]
     },
     "metadata": {},
     "output_type": "display_data"
    },
    {
     "data": {
      "text/html": [
       " View run <strong style=\"color:#cdcd00\">decent-sweep-15</strong> at: <a href='https://wandb.ai/adey004azeez-hiipower-academy/football-ml-prediction/runs/ojzl6det' target=\"_blank\">https://wandb.ai/adey004azeez-hiipower-academy/football-ml-prediction/runs/ojzl6det</a><br> View project at: <a href='https://wandb.ai/adey004azeez-hiipower-academy/football-ml-prediction' target=\"_blank\">https://wandb.ai/adey004azeez-hiipower-academy/football-ml-prediction</a><br>Synced 5 W&B file(s), 0 media file(s), 0 artifact file(s) and 0 other file(s)"
      ],
      "text/plain": [
       "<IPython.core.display.HTML object>"
      ]
     },
     "metadata": {},
     "output_type": "display_data"
    },
    {
     "data": {
      "text/html": [
       "Find logs at: <code>.\\wandb\\run-20251006_003812-ojzl6det\\logs</code>"
      ],
      "text/plain": [
       "<IPython.core.display.HTML object>"
      ]
     },
     "metadata": {},
     "output_type": "display_data"
    },
    {
     "name": "stderr",
     "output_type": "stream",
     "text": [
      "wandb: Agent Starting Run: mc5urnmh with config:\n",
      "wandb: \tdropout_prob: 0.3003595871285255\n",
      "wandb: \thidden_size: 28\n",
      "wandb: \tlearning_rate: 0.018706269583599534\n",
      "wandb: \tnum_epochs: 644\n"
     ]
    },
    {
     "data": {
      "text/html": [],
      "text/plain": [
       "<IPython.core.display.HTML object>"
      ]
     },
     "metadata": {},
     "output_type": "display_data"
    },
    {
     "data": {
      "text/html": [
       "Tracking run with wandb version 0.22.0"
      ],
      "text/plain": [
       "<IPython.core.display.HTML object>"
      ]
     },
     "metadata": {},
     "output_type": "display_data"
    },
    {
     "data": {
      "text/html": [
       "Run data is saved locally in <code>C:\\Users\\USER\\wandb\\run-20251006_003828-mc5urnmh</code>"
      ],
      "text/plain": [
       "<IPython.core.display.HTML object>"
      ]
     },
     "metadata": {},
     "output_type": "display_data"
    },
    {
     "data": {
      "text/html": [
       "Syncing run <strong><a href='https://wandb.ai/adey004azeez-hiipower-academy/football-ml-prediction/runs/mc5urnmh' target=\"_blank\">peachy-sweep-16</a></strong> to <a href='https://wandb.ai/adey004azeez-hiipower-academy/football-ml-prediction' target=\"_blank\">Weights & Biases</a> (<a href='https://wandb.me/developer-guide' target=\"_blank\">docs</a>)<br>Sweep page: <a href='https://wandb.ai/adey004azeez-hiipower-academy/football-ml-prediction/sweeps/hi0ndynh' target=\"_blank\">https://wandb.ai/adey004azeez-hiipower-academy/football-ml-prediction/sweeps/hi0ndynh</a>"
      ],
      "text/plain": [
       "<IPython.core.display.HTML object>"
      ]
     },
     "metadata": {},
     "output_type": "display_data"
    },
    {
     "data": {
      "text/html": [
       " View project at <a href='https://wandb.ai/adey004azeez-hiipower-academy/football-ml-prediction' target=\"_blank\">https://wandb.ai/adey004azeez-hiipower-academy/football-ml-prediction</a>"
      ],
      "text/plain": [
       "<IPython.core.display.HTML object>"
      ]
     },
     "metadata": {},
     "output_type": "display_data"
    },
    {
     "data": {
      "text/html": [
       " View sweep at <a href='https://wandb.ai/adey004azeez-hiipower-academy/football-ml-prediction/sweeps/hi0ndynh' target=\"_blank\">https://wandb.ai/adey004azeez-hiipower-academy/football-ml-prediction/sweeps/hi0ndynh</a>"
      ],
      "text/plain": [
       "<IPython.core.display.HTML object>"
      ]
     },
     "metadata": {},
     "output_type": "display_data"
    },
    {
     "data": {
      "text/html": [
       " View run at <a href='https://wandb.ai/adey004azeez-hiipower-academy/football-ml-prediction/runs/mc5urnmh' target=\"_blank\">https://wandb.ai/adey004azeez-hiipower-academy/football-ml-prediction/runs/mc5urnmh</a>"
      ],
      "text/plain": [
       "<IPython.core.display.HTML object>"
      ]
     },
     "metadata": {},
     "output_type": "display_data"
    },
    {
     "name": "stdout",
     "output_type": "stream",
     "text": [
      "Epoch[40/644], Train Loss: 0.7668, Val Acc: 0.6484\n",
      "Epoch[80/644], Train Loss: 0.7344, Val Acc: 0.6610\n",
      "Epoch[120/644], Train Loss: 0.7113, Val Acc: 0.6582\n",
      "Epoch[160/644], Train Loss: 0.6957, Val Acc: 0.6484\n",
      "Epoch[200/644], Train Loss: 0.6886, Val Acc: 0.6540\n",
      "Epoch[240/644], Train Loss: 0.6827, Val Acc: 0.6498\n",
      "Epoch[280/644], Train Loss: 0.6786, Val Acc: 0.6639\n",
      "Epoch[320/644], Train Loss: 0.6786, Val Acc: 0.6582\n",
      "Epoch[360/644], Train Loss: 0.6723, Val Acc: 0.6624\n",
      "Epoch[400/644], Train Loss: 0.6684, Val Acc: 0.6681\n",
      "Epoch[440/644], Train Loss: 0.6693, Val Acc: 0.6737\n",
      "Epoch[480/644], Train Loss: 0.6669, Val Acc: 0.6751\n",
      "Epoch[520/644], Train Loss: 0.6649, Val Acc: 0.6737\n",
      "Epoch[560/644], Train Loss: 0.6646, Val Acc: 0.6793\n",
      "Epoch[600/644], Train Loss: 0.6660, Val Acc: 0.6779\n",
      "Epoch[640/644], Train Loss: 0.6626, Val Acc: 0.6681\n",
      "\n",
      "Final Test Accuracy: 0.6737\n",
      "\n",
      "Classification Report:\n",
      "              precision    recall  f1-score   support\n",
      "\n",
      "           0       0.65      0.75      0.70       208\n",
      "           1       0.63      0.33      0.44       187\n",
      "           2       0.70      0.83      0.76       316\n",
      "\n",
      "    accuracy                           0.67       711\n",
      "   macro avg       0.66      0.64      0.63       711\n",
      "weighted avg       0.67      0.67      0.65       711\n",
      "\n"
     ]
    },
    {
     "data": {
      "text/html": [],
      "text/plain": [
       "<IPython.core.display.HTML object>"
      ]
     },
     "metadata": {},
     "output_type": "display_data"
    },
    {
     "data": {
      "text/html": [
       "<br>    <style><br>        .wandb-row {<br>            display: flex;<br>            flex-direction: row;<br>            flex-wrap: wrap;<br>            justify-content: flex-start;<br>            width: 100%;<br>        }<br>        .wandb-col {<br>            display: flex;<br>            flex-direction: column;<br>            flex-basis: 100%;<br>            flex: 1;<br>            padding: 10px;<br>        }<br>    </style><br><div class=\"wandb-row\"><div class=\"wandb-col\"><h3>Run history:</h3><br/><table class=\"wandb\"><tr><td>epoch</td><td>▁▁▁▁▁▂▂▂▂▂▃▃▃▃▃▃▃▄▄▄▄▄▄▅▅▅▅▅▆▆▆▆▇▇▇▇▇▇██</td></tr><tr><td>train_accuracy</td><td>▁▃▄▄▄▅▆▆▇▆▆▇▇▇▇▇▇▇█▇▇█▇███▇▇▇▇▇██▇█████▇</td></tr><tr><td>train_loss</td><td>█▇▅▅▄▄▄▃▃▃▃▃▃▃▃▂▂▂▂▂▂▂▂▂▂▁▂▂▂▁▁▁▁▂▁▁▁▁▁▂</td></tr><tr><td>val_accuracy</td><td>▁▃▄▄▄▅▆▆▆▅▄▄▆▅▅▅▆▆▅▆▅▆▆▆▆▆▇▇▇▇▇█▇▇██▇█▇▇</td></tr><tr><td>val_loss</td><td>█▆▅▃▃▂▂▂▂▂▂▂▂▂▁▁▁▁▁▁▁▁▁▁▁▁▁▁▁▁▁▁▁▁▁▁▁▁▁▁</td></tr></table><br/></div><div class=\"wandb-col\"><h3>Run summary:</h3><br/><table class=\"wandb\"><tr><td>epoch</td><td>643</td></tr><tr><td>train_accuracy</td><td>0.70699</td></tr><tr><td>train_loss</td><td>0.66192</td></tr><tr><td>val_accuracy</td><td>0.6737</td></tr><tr><td>val_loss</td><td>0.74435</td></tr></table><br/></div></div>"
      ],
      "text/plain": [
       "<IPython.core.display.HTML object>"
      ]
     },
     "metadata": {},
     "output_type": "display_data"
    },
    {
     "data": {
      "text/html": [
       " View run <strong style=\"color:#cdcd00\">peachy-sweep-16</strong> at: <a href='https://wandb.ai/adey004azeez-hiipower-academy/football-ml-prediction/runs/mc5urnmh' target=\"_blank\">https://wandb.ai/adey004azeez-hiipower-academy/football-ml-prediction/runs/mc5urnmh</a><br> View project at: <a href='https://wandb.ai/adey004azeez-hiipower-academy/football-ml-prediction' target=\"_blank\">https://wandb.ai/adey004azeez-hiipower-academy/football-ml-prediction</a><br>Synced 5 W&B file(s), 0 media file(s), 0 artifact file(s) and 0 other file(s)"
      ],
      "text/plain": [
       "<IPython.core.display.HTML object>"
      ]
     },
     "metadata": {},
     "output_type": "display_data"
    },
    {
     "data": {
      "text/html": [
       "Find logs at: <code>.\\wandb\\run-20251006_003828-mc5urnmh\\logs</code>"
      ],
      "text/plain": [
       "<IPython.core.display.HTML object>"
      ]
     },
     "metadata": {},
     "output_type": "display_data"
    },
    {
     "name": "stderr",
     "output_type": "stream",
     "text": [
      "wandb: Agent Starting Run: 0gddjl9b with config:\n",
      "wandb: \tdropout_prob: 0.32969289551273506\n",
      "wandb: \thidden_size: 32\n",
      "wandb: \tlearning_rate: 0.016453872312706355\n",
      "wandb: \tnum_epochs: 573\n"
     ]
    },
    {
     "data": {
      "text/html": [],
      "text/plain": [
       "<IPython.core.display.HTML object>"
      ]
     },
     "metadata": {},
     "output_type": "display_data"
    },
    {
     "data": {
      "text/html": [
       "Tracking run with wandb version 0.22.0"
      ],
      "text/plain": [
       "<IPython.core.display.HTML object>"
      ]
     },
     "metadata": {},
     "output_type": "display_data"
    },
    {
     "data": {
      "text/html": [
       "Run data is saved locally in <code>C:\\Users\\USER\\wandb\\run-20251006_003844-0gddjl9b</code>"
      ],
      "text/plain": [
       "<IPython.core.display.HTML object>"
      ]
     },
     "metadata": {},
     "output_type": "display_data"
    },
    {
     "data": {
      "text/html": [
       "Syncing run <strong><a href='https://wandb.ai/adey004azeez-hiipower-academy/football-ml-prediction/runs/0gddjl9b' target=\"_blank\">ethereal-sweep-17</a></strong> to <a href='https://wandb.ai/adey004azeez-hiipower-academy/football-ml-prediction' target=\"_blank\">Weights & Biases</a> (<a href='https://wandb.me/developer-guide' target=\"_blank\">docs</a>)<br>Sweep page: <a href='https://wandb.ai/adey004azeez-hiipower-academy/football-ml-prediction/sweeps/hi0ndynh' target=\"_blank\">https://wandb.ai/adey004azeez-hiipower-academy/football-ml-prediction/sweeps/hi0ndynh</a>"
      ],
      "text/plain": [
       "<IPython.core.display.HTML object>"
      ]
     },
     "metadata": {},
     "output_type": "display_data"
    },
    {
     "data": {
      "text/html": [
       " View project at <a href='https://wandb.ai/adey004azeez-hiipower-academy/football-ml-prediction' target=\"_blank\">https://wandb.ai/adey004azeez-hiipower-academy/football-ml-prediction</a>"
      ],
      "text/plain": [
       "<IPython.core.display.HTML object>"
      ]
     },
     "metadata": {},
     "output_type": "display_data"
    },
    {
     "data": {
      "text/html": [
       " View sweep at <a href='https://wandb.ai/adey004azeez-hiipower-academy/football-ml-prediction/sweeps/hi0ndynh' target=\"_blank\">https://wandb.ai/adey004azeez-hiipower-academy/football-ml-prediction/sweeps/hi0ndynh</a>"
      ],
      "text/plain": [
       "<IPython.core.display.HTML object>"
      ]
     },
     "metadata": {},
     "output_type": "display_data"
    },
    {
     "data": {
      "text/html": [
       " View run at <a href='https://wandb.ai/adey004azeez-hiipower-academy/football-ml-prediction/runs/0gddjl9b' target=\"_blank\">https://wandb.ai/adey004azeez-hiipower-academy/football-ml-prediction/runs/0gddjl9b</a>"
      ],
      "text/plain": [
       "<IPython.core.display.HTML object>"
      ]
     },
     "metadata": {},
     "output_type": "display_data"
    },
    {
     "name": "stdout",
     "output_type": "stream",
     "text": [
      "Epoch[40/573], Train Loss: 0.7694, Val Acc: 0.6484\n",
      "Epoch[80/573], Train Loss: 0.7252, Val Acc: 0.6554\n",
      "Epoch[120/573], Train Loss: 0.6980, Val Acc: 0.6681\n",
      "Epoch[160/573], Train Loss: 0.6958, Val Acc: 0.6709\n",
      "Epoch[200/573], Train Loss: 0.6808, Val Acc: 0.6653\n",
      "Epoch[240/573], Train Loss: 0.6792, Val Acc: 0.6737\n",
      "Epoch[280/573], Train Loss: 0.6734, Val Acc: 0.6779\n",
      "Epoch[320/573], Train Loss: 0.6711, Val Acc: 0.6737\n",
      "Epoch[360/573], Train Loss: 0.6703, Val Acc: 0.6779\n",
      "Epoch[400/573], Train Loss: 0.6672, Val Acc: 0.6737\n",
      "Epoch[440/573], Train Loss: 0.6570, Val Acc: 0.6737\n",
      "Epoch[480/573], Train Loss: 0.6653, Val Acc: 0.6779\n",
      "Epoch[520/573], Train Loss: 0.6604, Val Acc: 0.6737\n",
      "Epoch[560/573], Train Loss: 0.6559, Val Acc: 0.6751\n",
      "\n",
      "Final Test Accuracy: 0.6821\n",
      "\n",
      "Classification Report:\n",
      "              precision    recall  f1-score   support\n",
      "\n",
      "           0       0.66      0.74      0.70       208\n",
      "           1       0.64      0.36      0.46       187\n",
      "           2       0.71      0.84      0.77       316\n",
      "\n",
      "    accuracy                           0.68       711\n",
      "   macro avg       0.67      0.64      0.64       711\n",
      "weighted avg       0.68      0.68      0.67       711\n",
      "\n"
     ]
    },
    {
     "data": {
      "text/html": [],
      "text/plain": [
       "<IPython.core.display.HTML object>"
      ]
     },
     "metadata": {},
     "output_type": "display_data"
    },
    {
     "data": {
      "text/html": [
       "<br>    <style><br>        .wandb-row {<br>            display: flex;<br>            flex-direction: row;<br>            flex-wrap: wrap;<br>            justify-content: flex-start;<br>            width: 100%;<br>        }<br>        .wandb-col {<br>            display: flex;<br>            flex-direction: column;<br>            flex-basis: 100%;<br>            flex: 1;<br>            padding: 10px;<br>        }<br>    </style><br><div class=\"wandb-row\"><div class=\"wandb-col\"><h3>Run history:</h3><br/><table class=\"wandb\"><tr><td>epoch</td><td>▁▁▁▂▂▂▂▂▃▃▃▃▃▃▃▃▃▄▄▄▄▅▅▅▅▅▅▅▆▆▆▇▇▇▇█████</td></tr><tr><td>train_accuracy</td><td>▁▃▅▆▇▇▇▇▇█████▇███▇▇████████▇███████████</td></tr><tr><td>train_loss</td><td>█▆▃▃▃▂▂▂▂▂▂▂▁▁▁▁▁▁▁▁▁▁▁▁▁▁▁▁▁▁▁▁▁▁▁▁▁▁▁▁</td></tr><tr><td>val_accuracy</td><td>▁▃▅▆▆▆▆▆█▇▇▇█▇██▇▇▇██████▇████▇█████▇█▇▇</td></tr><tr><td>val_loss</td><td>█▅▅▃▃▂▂▂▂▂▂▂▂▂▁▁▁▁▁▁▁▁▁▁▁▁▁▁▁▁▁▁▂▂▂▂▂▂▂▂</td></tr></table><br/></div><div class=\"wandb-col\"><h3>Run summary:</h3><br/><table class=\"wandb\"><tr><td>epoch</td><td>572</td></tr><tr><td>train_accuracy</td><td>0.70464</td></tr><tr><td>train_loss</td><td>0.65525</td></tr><tr><td>val_accuracy</td><td>0.68214</td></tr><tr><td>val_loss</td><td>0.73469</td></tr></table><br/></div></div>"
      ],
      "text/plain": [
       "<IPython.core.display.HTML object>"
      ]
     },
     "metadata": {},
     "output_type": "display_data"
    },
    {
     "data": {
      "text/html": [
       " View run <strong style=\"color:#cdcd00\">ethereal-sweep-17</strong> at: <a href='https://wandb.ai/adey004azeez-hiipower-academy/football-ml-prediction/runs/0gddjl9b' target=\"_blank\">https://wandb.ai/adey004azeez-hiipower-academy/football-ml-prediction/runs/0gddjl9b</a><br> View project at: <a href='https://wandb.ai/adey004azeez-hiipower-academy/football-ml-prediction' target=\"_blank\">https://wandb.ai/adey004azeez-hiipower-academy/football-ml-prediction</a><br>Synced 5 W&B file(s), 0 media file(s), 0 artifact file(s) and 0 other file(s)"
      ],
      "text/plain": [
       "<IPython.core.display.HTML object>"
      ]
     },
     "metadata": {},
     "output_type": "display_data"
    },
    {
     "data": {
      "text/html": [
       "Find logs at: <code>.\\wandb\\run-20251006_003844-0gddjl9b\\logs</code>"
      ],
      "text/plain": [
       "<IPython.core.display.HTML object>"
      ]
     },
     "metadata": {},
     "output_type": "display_data"
    },
    {
     "name": "stderr",
     "output_type": "stream",
     "text": [
      "wandb: Agent Starting Run: iotthr2f with config:\n",
      "wandb: \tdropout_prob: 0.3990275865911879\n",
      "wandb: \thidden_size: 56\n",
      "wandb: \tlearning_rate: 0.01584929588242299\n",
      "wandb: \tnum_epochs: 729\n"
     ]
    },
    {
     "data": {
      "text/html": [],
      "text/plain": [
       "<IPython.core.display.HTML object>"
      ]
     },
     "metadata": {},
     "output_type": "display_data"
    },
    {
     "data": {
      "text/html": [
       "Tracking run with wandb version 0.22.0"
      ],
      "text/plain": [
       "<IPython.core.display.HTML object>"
      ]
     },
     "metadata": {},
     "output_type": "display_data"
    },
    {
     "data": {
      "text/html": [
       "Run data is saved locally in <code>C:\\Users\\USER\\wandb\\run-20251006_003900-iotthr2f</code>"
      ],
      "text/plain": [
       "<IPython.core.display.HTML object>"
      ]
     },
     "metadata": {},
     "output_type": "display_data"
    },
    {
     "data": {
      "text/html": [
       "Syncing run <strong><a href='https://wandb.ai/adey004azeez-hiipower-academy/football-ml-prediction/runs/iotthr2f' target=\"_blank\">confused-sweep-18</a></strong> to <a href='https://wandb.ai/adey004azeez-hiipower-academy/football-ml-prediction' target=\"_blank\">Weights & Biases</a> (<a href='https://wandb.me/developer-guide' target=\"_blank\">docs</a>)<br>Sweep page: <a href='https://wandb.ai/adey004azeez-hiipower-academy/football-ml-prediction/sweeps/hi0ndynh' target=\"_blank\">https://wandb.ai/adey004azeez-hiipower-academy/football-ml-prediction/sweeps/hi0ndynh</a>"
      ],
      "text/plain": [
       "<IPython.core.display.HTML object>"
      ]
     },
     "metadata": {},
     "output_type": "display_data"
    },
    {
     "data": {
      "text/html": [
       " View project at <a href='https://wandb.ai/adey004azeez-hiipower-academy/football-ml-prediction' target=\"_blank\">https://wandb.ai/adey004azeez-hiipower-academy/football-ml-prediction</a>"
      ],
      "text/plain": [
       "<IPython.core.display.HTML object>"
      ]
     },
     "metadata": {},
     "output_type": "display_data"
    },
    {
     "data": {
      "text/html": [
       " View sweep at <a href='https://wandb.ai/adey004azeez-hiipower-academy/football-ml-prediction/sweeps/hi0ndynh' target=\"_blank\">https://wandb.ai/adey004azeez-hiipower-academy/football-ml-prediction/sweeps/hi0ndynh</a>"
      ],
      "text/plain": [
       "<IPython.core.display.HTML object>"
      ]
     },
     "metadata": {},
     "output_type": "display_data"
    },
    {
     "data": {
      "text/html": [
       " View run at <a href='https://wandb.ai/adey004azeez-hiipower-academy/football-ml-prediction/runs/iotthr2f' target=\"_blank\">https://wandb.ai/adey004azeez-hiipower-academy/football-ml-prediction/runs/iotthr2f</a>"
      ],
      "text/plain": [
       "<IPython.core.display.HTML object>"
      ]
     },
     "metadata": {},
     "output_type": "display_data"
    },
    {
     "name": "stdout",
     "output_type": "stream",
     "text": [
      "Epoch[40/729], Train Loss: 0.7550, Val Acc: 0.6540\n",
      "Epoch[80/729], Train Loss: 0.7179, Val Acc: 0.6554\n",
      "Epoch[120/729], Train Loss: 0.6908, Val Acc: 0.6610\n",
      "Epoch[160/729], Train Loss: 0.6836, Val Acc: 0.6737\n",
      "Epoch[200/729], Train Loss: 0.6732, Val Acc: 0.6639\n",
      "Epoch[240/729], Train Loss: 0.6721, Val Acc: 0.6639\n",
      "Epoch[280/729], Train Loss: 0.6639, Val Acc: 0.6653\n",
      "Epoch[320/729], Train Loss: 0.6575, Val Acc: 0.6568\n",
      "Epoch[360/729], Train Loss: 0.6561, Val Acc: 0.6596\n",
      "Epoch[400/729], Train Loss: 0.6546, Val Acc: 0.6582\n",
      "Epoch[440/729], Train Loss: 0.6464, Val Acc: 0.6709\n",
      "Epoch[480/729], Train Loss: 0.6498, Val Acc: 0.6709\n",
      "Epoch[520/729], Train Loss: 0.6471, Val Acc: 0.6723\n",
      "Epoch[560/729], Train Loss: 0.6427, Val Acc: 0.6765\n",
      "Epoch[600/729], Train Loss: 0.6396, Val Acc: 0.6695\n",
      "Epoch[640/729], Train Loss: 0.6401, Val Acc: 0.6695\n",
      "Epoch[680/729], Train Loss: 0.6439, Val Acc: 0.6737\n",
      "Epoch[720/729], Train Loss: 0.6361, Val Acc: 0.6737\n",
      "\n",
      "Final Test Accuracy: 0.6695\n",
      "\n",
      "Classification Report:\n",
      "              precision    recall  f1-score   support\n",
      "\n",
      "           0       0.65      0.74      0.69       208\n",
      "           1       0.63      0.34      0.44       187\n",
      "           2       0.69      0.82      0.75       316\n",
      "\n",
      "    accuracy                           0.67       711\n",
      "   macro avg       0.66      0.63      0.63       711\n",
      "weighted avg       0.66      0.67      0.65       711\n",
      "\n"
     ]
    },
    {
     "data": {
      "text/html": [],
      "text/plain": [
       "<IPython.core.display.HTML object>"
      ]
     },
     "metadata": {},
     "output_type": "display_data"
    },
    {
     "data": {
      "text/html": [
       "<br>    <style><br>        .wandb-row {<br>            display: flex;<br>            flex-direction: row;<br>            flex-wrap: wrap;<br>            justify-content: flex-start;<br>            width: 100%;<br>        }<br>        .wandb-col {<br>            display: flex;<br>            flex-direction: column;<br>            flex-basis: 100%;<br>            flex: 1;<br>            padding: 10px;<br>        }<br>    </style><br><div class=\"wandb-row\"><div class=\"wandb-col\"><h3>Run history:</h3><br/><table class=\"wandb\"><tr><td>epoch</td><td>▁▁▁▁▁▂▂▃▃▃▃▃▃▃▃▄▄▄▄▄▅▅▅▅▅▆▆▆▆▆▆▆▆▆▇▇▇▇██</td></tr><tr><td>train_accuracy</td><td>▁▂▃▅▆▆▆▆▆▇▆▇▇▇▇▇▇▇▇▇█▇▇▇▇█▇▇▇▇█▇▇▇█▇██▇█</td></tr><tr><td>train_loss</td><td>█▅▄▄▄▃▃▂▂▂▂▂▂▂▂▂▂▂▂▂▁▁▁▁▂▁▁▁▁▁▁▁▁▁▁▁▁▁▁▁</td></tr><tr><td>val_accuracy</td><td>▁▃▄▅▅▇▆▆▆▆▇▇▇▆▇▇█▇█▇▇▇▇▇▇▇██▇▇▇██▇▇█▇██▇</td></tr><tr><td>val_loss</td><td>██▇▅▅▃▂▂▂▂▂▂▁▁▁▁▁▁▁▁▂▂▁▂▂▂▁▂▂▂▂▂▂▃▂▂▂▂▂▂</td></tr></table><br/></div><div class=\"wandb-col\"><h3>Run summary:</h3><br/><table class=\"wandb\"><tr><td>epoch</td><td>728</td></tr><tr><td>train_accuracy</td><td>0.7148</td></tr><tr><td>train_loss</td><td>0.63656</td></tr><tr><td>val_accuracy</td><td>0.66948</td></tr><tr><td>val_loss</td><td>0.73945</td></tr></table><br/></div></div>"
      ],
      "text/plain": [
       "<IPython.core.display.HTML object>"
      ]
     },
     "metadata": {},
     "output_type": "display_data"
    },
    {
     "data": {
      "text/html": [
       " View run <strong style=\"color:#cdcd00\">confused-sweep-18</strong> at: <a href='https://wandb.ai/adey004azeez-hiipower-academy/football-ml-prediction/runs/iotthr2f' target=\"_blank\">https://wandb.ai/adey004azeez-hiipower-academy/football-ml-prediction/runs/iotthr2f</a><br> View project at: <a href='https://wandb.ai/adey004azeez-hiipower-academy/football-ml-prediction' target=\"_blank\">https://wandb.ai/adey004azeez-hiipower-academy/football-ml-prediction</a><br>Synced 5 W&B file(s), 0 media file(s), 0 artifact file(s) and 0 other file(s)"
      ],
      "text/plain": [
       "<IPython.core.display.HTML object>"
      ]
     },
     "metadata": {},
     "output_type": "display_data"
    },
    {
     "data": {
      "text/html": [
       "Find logs at: <code>.\\wandb\\run-20251006_003900-iotthr2f\\logs</code>"
      ],
      "text/plain": [
       "<IPython.core.display.HTML object>"
      ]
     },
     "metadata": {},
     "output_type": "display_data"
    },
    {
     "name": "stderr",
     "output_type": "stream",
     "text": [
      "wandb: Agent Starting Run: csdwaj0r with config:\n",
      "wandb: \tdropout_prob: 0.2990915270103377\n",
      "wandb: \thidden_size: 56\n",
      "wandb: \tlearning_rate: 0.010305422408193652\n",
      "wandb: \tnum_epochs: 734\n"
     ]
    },
    {
     "data": {
      "text/html": [],
      "text/plain": [
       "<IPython.core.display.HTML object>"
      ]
     },
     "metadata": {},
     "output_type": "display_data"
    },
    {
     "data": {
      "text/html": [
       "Tracking run with wandb version 0.22.0"
      ],
      "text/plain": [
       "<IPython.core.display.HTML object>"
      ]
     },
     "metadata": {},
     "output_type": "display_data"
    },
    {
     "data": {
      "text/html": [
       "Run data is saved locally in <code>C:\\Users\\USER\\wandb\\run-20251006_003922-csdwaj0r</code>"
      ],
      "text/plain": [
       "<IPython.core.display.HTML object>"
      ]
     },
     "metadata": {},
     "output_type": "display_data"
    },
    {
     "data": {
      "text/html": [
       "Syncing run <strong><a href='https://wandb.ai/adey004azeez-hiipower-academy/football-ml-prediction/runs/csdwaj0r' target=\"_blank\">jumping-sweep-19</a></strong> to <a href='https://wandb.ai/adey004azeez-hiipower-academy/football-ml-prediction' target=\"_blank\">Weights & Biases</a> (<a href='https://wandb.me/developer-guide' target=\"_blank\">docs</a>)<br>Sweep page: <a href='https://wandb.ai/adey004azeez-hiipower-academy/football-ml-prediction/sweeps/hi0ndynh' target=\"_blank\">https://wandb.ai/adey004azeez-hiipower-academy/football-ml-prediction/sweeps/hi0ndynh</a>"
      ],
      "text/plain": [
       "<IPython.core.display.HTML object>"
      ]
     },
     "metadata": {},
     "output_type": "display_data"
    },
    {
     "data": {
      "text/html": [
       " View project at <a href='https://wandb.ai/adey004azeez-hiipower-academy/football-ml-prediction' target=\"_blank\">https://wandb.ai/adey004azeez-hiipower-academy/football-ml-prediction</a>"
      ],
      "text/plain": [
       "<IPython.core.display.HTML object>"
      ]
     },
     "metadata": {},
     "output_type": "display_data"
    },
    {
     "data": {
      "text/html": [
       " View sweep at <a href='https://wandb.ai/adey004azeez-hiipower-academy/football-ml-prediction/sweeps/hi0ndynh' target=\"_blank\">https://wandb.ai/adey004azeez-hiipower-academy/football-ml-prediction/sweeps/hi0ndynh</a>"
      ],
      "text/plain": [
       "<IPython.core.display.HTML object>"
      ]
     },
     "metadata": {},
     "output_type": "display_data"
    },
    {
     "data": {
      "text/html": [
       " View run at <a href='https://wandb.ai/adey004azeez-hiipower-academy/football-ml-prediction/runs/csdwaj0r' target=\"_blank\">https://wandb.ai/adey004azeez-hiipower-academy/football-ml-prediction/runs/csdwaj0r</a>"
      ],
      "text/plain": [
       "<IPython.core.display.HTML object>"
      ]
     },
     "metadata": {},
     "output_type": "display_data"
    },
    {
     "name": "stdout",
     "output_type": "stream",
     "text": [
      "Epoch[40/734], Train Loss: 0.7595, Val Acc: 0.6582\n",
      "Epoch[80/734], Train Loss: 0.7208, Val Acc: 0.6610\n",
      "Epoch[120/734], Train Loss: 0.6966, Val Acc: 0.6667\n",
      "Epoch[160/734], Train Loss: 0.6780, Val Acc: 0.6624\n",
      "Epoch[200/734], Train Loss: 0.6714, Val Acc: 0.6653\n",
      "Epoch[240/734], Train Loss: 0.6639, Val Acc: 0.6667\n",
      "Epoch[280/734], Train Loss: 0.6622, Val Acc: 0.6709\n",
      "Epoch[320/734], Train Loss: 0.6509, Val Acc: 0.6751\n",
      "Epoch[360/734], Train Loss: 0.6507, Val Acc: 0.6779\n",
      "Epoch[400/734], Train Loss: 0.6401, Val Acc: 0.6751\n",
      "Epoch[440/734], Train Loss: 0.6380, Val Acc: 0.6864\n",
      "Epoch[480/734], Train Loss: 0.6428, Val Acc: 0.6737\n",
      "Epoch[520/734], Train Loss: 0.6389, Val Acc: 0.6723\n",
      "Epoch[560/734], Train Loss: 0.6328, Val Acc: 0.6779\n",
      "Epoch[600/734], Train Loss: 0.6359, Val Acc: 0.6723\n",
      "Epoch[640/734], Train Loss: 0.6354, Val Acc: 0.6751\n",
      "Epoch[680/734], Train Loss: 0.6313, Val Acc: 0.6723\n",
      "Epoch[720/734], Train Loss: 0.6316, Val Acc: 0.6737\n",
      "\n",
      "Final Test Accuracy: 0.6765\n",
      "\n",
      "Classification Report:\n",
      "              precision    recall  f1-score   support\n",
      "\n",
      "           0       0.67      0.73      0.70       208\n",
      "           1       0.61      0.39      0.48       187\n",
      "           2       0.70      0.81      0.75       316\n",
      "\n",
      "    accuracy                           0.68       711\n",
      "   macro avg       0.66      0.64      0.64       711\n",
      "weighted avg       0.67      0.68      0.66       711\n",
      "\n"
     ]
    },
    {
     "data": {
      "text/html": [],
      "text/plain": [
       "<IPython.core.display.HTML object>"
      ]
     },
     "metadata": {},
     "output_type": "display_data"
    },
    {
     "data": {
      "text/html": [
       "<br>    <style><br>        .wandb-row {<br>            display: flex;<br>            flex-direction: row;<br>            flex-wrap: wrap;<br>            justify-content: flex-start;<br>            width: 100%;<br>        }<br>        .wandb-col {<br>            display: flex;<br>            flex-direction: column;<br>            flex-basis: 100%;<br>            flex: 1;<br>            padding: 10px;<br>        }<br>    </style><br><div class=\"wandb-row\"><div class=\"wandb-col\"><h3>Run history:</h3><br/><table class=\"wandb\"><tr><td>epoch</td><td>▁▁▁▁▂▃▃▄▄▄▄▄▄▅▅▅▅▅▆▆▆▆▆▆▆▆▆▆▆▇▇▇▇███████</td></tr><tr><td>train_accuracy</td><td>▁▂▄▆▆▇▇▇▇▇▇▇▇▇▇▇██████████▇█████████████</td></tr><tr><td>train_loss</td><td>█▄▃▃▃▃▂▂▂▂▂▂▂▂▂▂▂▁▁▁▁▁▁▁▁▁▁▁▁▁▁▁▁▁▁▁▁▁▁▁</td></tr><tr><td>val_accuracy</td><td>▁▄▄▄▅▅▆▅▅▆▆▆▆▆▇▇▇▇█▆▇█▇▇█▇▇▇▇▇▇▆▇█▇▇▇▇▇▇</td></tr><tr><td>val_loss</td><td>█▇▅▅▄▃▃▂▂▂▂▂▂▁▁▂▁▂▂▁▂▁▂▂▂▂▂▂▂▂▂▂▂▂▂▂▂▂▂▂</td></tr></table><br/></div><div class=\"wandb-col\"><h3>Run summary:</h3><br/><table class=\"wandb\"><tr><td>epoch</td><td>733</td></tr><tr><td>train_accuracy</td><td>0.71542</td></tr><tr><td>train_loss</td><td>0.63414</td></tr><tr><td>val_accuracy</td><td>0.67651</td></tr><tr><td>val_loss</td><td>0.73715</td></tr></table><br/></div></div>"
      ],
      "text/plain": [
       "<IPython.core.display.HTML object>"
      ]
     },
     "metadata": {},
     "output_type": "display_data"
    },
    {
     "data": {
      "text/html": [
       " View run <strong style=\"color:#cdcd00\">jumping-sweep-19</strong> at: <a href='https://wandb.ai/adey004azeez-hiipower-academy/football-ml-prediction/runs/csdwaj0r' target=\"_blank\">https://wandb.ai/adey004azeez-hiipower-academy/football-ml-prediction/runs/csdwaj0r</a><br> View project at: <a href='https://wandb.ai/adey004azeez-hiipower-academy/football-ml-prediction' target=\"_blank\">https://wandb.ai/adey004azeez-hiipower-academy/football-ml-prediction</a><br>Synced 5 W&B file(s), 0 media file(s), 0 artifact file(s) and 0 other file(s)"
      ],
      "text/plain": [
       "<IPython.core.display.HTML object>"
      ]
     },
     "metadata": {},
     "output_type": "display_data"
    },
    {
     "data": {
      "text/html": [
       "Find logs at: <code>.\\wandb\\run-20251006_003922-csdwaj0r\\logs</code>"
      ],
      "text/plain": [
       "<IPython.core.display.HTML object>"
      ]
     },
     "metadata": {},
     "output_type": "display_data"
    },
    {
     "name": "stderr",
     "output_type": "stream",
     "text": [
      "wandb: Agent Starting Run: prgvn2h0 with config:\n",
      "wandb: \tdropout_prob: 0.22772211312627844\n",
      "wandb: \thidden_size: 42\n",
      "wandb: \tlearning_rate: 0.016007667998442374\n",
      "wandb: \tnum_epochs: 692\n"
     ]
    },
    {
     "data": {
      "text/html": [],
      "text/plain": [
       "<IPython.core.display.HTML object>"
      ]
     },
     "metadata": {},
     "output_type": "display_data"
    },
    {
     "data": {
      "text/html": [
       "Tracking run with wandb version 0.22.0"
      ],
      "text/plain": [
       "<IPython.core.display.HTML object>"
      ]
     },
     "metadata": {},
     "output_type": "display_data"
    },
    {
     "data": {
      "text/html": [
       "Run data is saved locally in <code>C:\\Users\\USER\\wandb\\run-20251006_003943-prgvn2h0</code>"
      ],
      "text/plain": [
       "<IPython.core.display.HTML object>"
      ]
     },
     "metadata": {},
     "output_type": "display_data"
    },
    {
     "data": {
      "text/html": [
       "Syncing run <strong><a href='https://wandb.ai/adey004azeez-hiipower-academy/football-ml-prediction/runs/prgvn2h0' target=\"_blank\">fancy-sweep-20</a></strong> to <a href='https://wandb.ai/adey004azeez-hiipower-academy/football-ml-prediction' target=\"_blank\">Weights & Biases</a> (<a href='https://wandb.me/developer-guide' target=\"_blank\">docs</a>)<br>Sweep page: <a href='https://wandb.ai/adey004azeez-hiipower-academy/football-ml-prediction/sweeps/hi0ndynh' target=\"_blank\">https://wandb.ai/adey004azeez-hiipower-academy/football-ml-prediction/sweeps/hi0ndynh</a>"
      ],
      "text/plain": [
       "<IPython.core.display.HTML object>"
      ]
     },
     "metadata": {},
     "output_type": "display_data"
    },
    {
     "data": {
      "text/html": [
       " View project at <a href='https://wandb.ai/adey004azeez-hiipower-academy/football-ml-prediction' target=\"_blank\">https://wandb.ai/adey004azeez-hiipower-academy/football-ml-prediction</a>"
      ],
      "text/plain": [
       "<IPython.core.display.HTML object>"
      ]
     },
     "metadata": {},
     "output_type": "display_data"
    },
    {
     "data": {
      "text/html": [
       " View sweep at <a href='https://wandb.ai/adey004azeez-hiipower-academy/football-ml-prediction/sweeps/hi0ndynh' target=\"_blank\">https://wandb.ai/adey004azeez-hiipower-academy/football-ml-prediction/sweeps/hi0ndynh</a>"
      ],
      "text/plain": [
       "<IPython.core.display.HTML object>"
      ]
     },
     "metadata": {},
     "output_type": "display_data"
    },
    {
     "data": {
      "text/html": [
       " View run at <a href='https://wandb.ai/adey004azeez-hiipower-academy/football-ml-prediction/runs/prgvn2h0' target=\"_blank\">https://wandb.ai/adey004azeez-hiipower-academy/football-ml-prediction/runs/prgvn2h0</a>"
      ],
      "text/plain": [
       "<IPython.core.display.HTML object>"
      ]
     },
     "metadata": {},
     "output_type": "display_data"
    },
    {
     "name": "stdout",
     "output_type": "stream",
     "text": [
      "Epoch[40/692], Train Loss: 0.7560, Val Acc: 0.6540\n",
      "Epoch[80/692], Train Loss: 0.7058, Val Acc: 0.6793\n",
      "Epoch[120/692], Train Loss: 0.6881, Val Acc: 0.6709\n",
      "Epoch[160/692], Train Loss: 0.6750, Val Acc: 0.6723\n",
      "Epoch[200/692], Train Loss: 0.6653, Val Acc: 0.6723\n",
      "Epoch[240/692], Train Loss: 0.6588, Val Acc: 0.6723\n",
      "Epoch[280/692], Train Loss: 0.6546, Val Acc: 0.6723\n",
      "Epoch[320/692], Train Loss: 0.6498, Val Acc: 0.6639\n",
      "Epoch[360/692], Train Loss: 0.6397, Val Acc: 0.6723\n",
      "Epoch[400/692], Train Loss: 0.6384, Val Acc: 0.6737\n",
      "Epoch[440/692], Train Loss: 0.6413, Val Acc: 0.6723\n",
      "Epoch[480/692], Train Loss: 0.6334, Val Acc: 0.6681\n",
      "Epoch[520/692], Train Loss: 0.6318, Val Acc: 0.6681\n",
      "Epoch[560/692], Train Loss: 0.6289, Val Acc: 0.6667\n",
      "Epoch[600/692], Train Loss: 0.6288, Val Acc: 0.6653\n",
      "Epoch[640/692], Train Loss: 0.6275, Val Acc: 0.6695\n",
      "Epoch[680/692], Train Loss: 0.6287, Val Acc: 0.6624\n",
      "\n",
      "Final Test Accuracy: 0.6695\n",
      "\n",
      "Classification Report:\n",
      "              precision    recall  f1-score   support\n",
      "\n",
      "           0       0.65      0.74      0.69       208\n",
      "           1       0.61      0.40      0.48       187\n",
      "           2       0.71      0.79      0.75       316\n",
      "\n",
      "    accuracy                           0.67       711\n",
      "   macro avg       0.65      0.64      0.64       711\n",
      "weighted avg       0.66      0.67      0.66       711\n",
      "\n"
     ]
    },
    {
     "data": {
      "text/html": [],
      "text/plain": [
       "<IPython.core.display.HTML object>"
      ]
     },
     "metadata": {},
     "output_type": "display_data"
    },
    {
     "data": {
      "text/html": [
       "<br>    <style><br>        .wandb-row {<br>            display: flex;<br>            flex-direction: row;<br>            flex-wrap: wrap;<br>            justify-content: flex-start;<br>            width: 100%;<br>        }<br>        .wandb-col {<br>            display: flex;<br>            flex-direction: column;<br>            flex-basis: 100%;<br>            flex: 1;<br>            padding: 10px;<br>        }<br>    </style><br><div class=\"wandb-row\"><div class=\"wandb-col\"><h3>Run history:</h3><br/><table class=\"wandb\"><tr><td>epoch</td><td>▁▁▂▂▂▂▂▃▃▃▃▃▃▃▃▄▄▄▄▄▄▅▅▅▅▅▅▅▅▅▆▆▇▇▇▇████</td></tr><tr><td>train_accuracy</td><td>▁▁▄▄▅▅▅▆▅▆▇▇▇▇▇▇▇▇▇▇▇▇▇▇███▇█▇██▇████▇██</td></tr><tr><td>train_loss</td><td>█▇▄▄▄▃▄▃▃▃▃▃▃▃▃▂▂▂▂▂▂▂▂▂▂▂▂▁▁▁▁▁▁▁▁▁▁▁▁▁</td></tr><tr><td>val_accuracy</td><td>▁▃▅▇▇▇▇▇█▇███▇▇███▇██████▇██▇██▇█▇█▇███▇</td></tr><tr><td>val_loss</td><td>█▅▃▃▂▁▁▂▂▂▁▁▁▁▁▁▁▁▁▁▁▁▁▁▁▁▁▁▁▂▂▂▂▂▂▂▂▂▂▂</td></tr></table><br/></div><div class=\"wandb-col\"><h3>Run summary:</h3><br/><table class=\"wandb\"><tr><td>epoch</td><td>691</td></tr><tr><td>train_accuracy</td><td>0.71917</td></tr><tr><td>train_loss</td><td>0.63279</td></tr><tr><td>val_accuracy</td><td>0.66948</td></tr><tr><td>val_loss</td><td>0.75196</td></tr></table><br/></div></div>"
      ],
      "text/plain": [
       "<IPython.core.display.HTML object>"
      ]
     },
     "metadata": {},
     "output_type": "display_data"
    },
    {
     "data": {
      "text/html": [
       " View run <strong style=\"color:#cdcd00\">fancy-sweep-20</strong> at: <a href='https://wandb.ai/adey004azeez-hiipower-academy/football-ml-prediction/runs/prgvn2h0' target=\"_blank\">https://wandb.ai/adey004azeez-hiipower-academy/football-ml-prediction/runs/prgvn2h0</a><br> View project at: <a href='https://wandb.ai/adey004azeez-hiipower-academy/football-ml-prediction' target=\"_blank\">https://wandb.ai/adey004azeez-hiipower-academy/football-ml-prediction</a><br>Synced 5 W&B file(s), 0 media file(s), 0 artifact file(s) and 0 other file(s)"
      ],
      "text/plain": [
       "<IPython.core.display.HTML object>"
      ]
     },
     "metadata": {},
     "output_type": "display_data"
    },
    {
     "data": {
      "text/html": [
       "Find logs at: <code>.\\wandb\\run-20251006_003943-prgvn2h0\\logs</code>"
      ],
      "text/plain": [
       "<IPython.core.display.HTML object>"
      ]
     },
     "metadata": {},
     "output_type": "display_data"
    },
    {
     "name": "stdout",
     "output_type": "stream",
     "text": [
      "\n",
      "Sweep completed! Check your wandb dashboard for results.\n"
     ]
    }
   ],
   "source": [
    "\n",
    "# Define model\n",
    "class FootballML(nn.Module):\n",
    "    def __init__(self, input_size, hidden_size, output_dim, dropout_prob=0.3):\n",
    "        super().__init__()\n",
    "        self.fc1 = nn.Linear(input_size, hidden_size)\n",
    "        self.dropout = nn.Dropout(dropout_prob)\n",
    "        self.fc2 = nn.Linear(hidden_size, output_dim)\n",
    "\n",
    "    def forward(self, x):\n",
    "        x = torch.relu(self.fc1(x))\n",
    "        x = self.dropout(x)\n",
    "        output = self.fc2(x)\n",
    "        return output\n",
    "\n",
    "# Training function for sweep\n",
    "def train_model(config=None):\n",
    "    with wandb.init(config=config):\n",
    "        config = wandb.config\n",
    "        \n",
    "        # Initialize model with sweep parameters\n",
    "        model = FootballML(\n",
    "            input_size=16,\n",
    "            hidden_size=config.hidden_size,\n",
    "            output_dim=3,\n",
    "            dropout_prob=config.dropout_prob\n",
    "        )\n",
    "        \n",
    "        criterion = nn.CrossEntropyLoss()\n",
    "        optimizer = optim.Adam(model.parameters(), lr=config.learning_rate)\n",
    "        \n",
    "        # Training loop\n",
    "        for epoch in range(config.num_epochs):\n",
    "            model.train()\n",
    "            outputs = model(X_train_tensor)\n",
    "            loss = criterion(outputs, y_train_tensor)\n",
    "            \n",
    "            optimizer.zero_grad()\n",
    "            loss.backward()\n",
    "            optimizer.step()\n",
    "            \n",
    "            # Calculate training accuracy\n",
    "            _, train_preds = torch.max(outputs, 1)\n",
    "            train_acc = (train_preds == y_train_tensor).float().mean()\n",
    "            \n",
    "            # Validation\n",
    "            model.eval()\n",
    "            with torch.no_grad():\n",
    "                val_outputs = model(X_test_tensor)\n",
    "                val_loss = criterion(val_outputs, y_test_tensor)\n",
    "                _, val_preds = torch.max(val_outputs, 1)\n",
    "                val_acc = (val_preds == y_test_tensor).float().mean()\n",
    "            \n",
    "            # Log metrics to wandb\n",
    "            wandb.log({\n",
    "                \"epoch\": epoch,\n",
    "                \"train_loss\": loss.item(),\n",
    "                \"train_accuracy\": train_acc.item(),\n",
    "                \"val_loss\": val_loss.item(),\n",
    "                \"val_accuracy\": val_acc.item()\n",
    "            })\n",
    "            \n",
    "            if (epoch + 1) % 40 == 0:\n",
    "                print(f\"Epoch[{epoch+1}/{config.num_epochs}], Train Loss: {loss.item():.4f}, Val Acc: {val_acc.item():.4f}\")\n",
    "        \n",
    "        # Final evaluation\n",
    "        model.eval()\n",
    "        with torch.no_grad():\n",
    "            final_outputs = model(X_test_tensor)\n",
    "            _, final_preds = torch.max(final_outputs, 1)\n",
    "            final_acc = accuracy_score(y_test_tensor.numpy(), final_preds.numpy())\n",
    "        \n",
    "        print(f\"\\nFinal Test Accuracy: {final_acc:.4f}\")\n",
    "        print(\"\\nClassification Report:\")\n",
    "        print(classification_report(y_test_tensor.numpy(), final_preds.numpy()))\n",
    "        \n",
    "        # Save best model\n",
    "        #torch.save(model.state_dict(), f\"model_sweep_{wandb.run.id}.pth\")\n",
    "        #wandb.save(f\"model_sweep_{wandb.run.id}.pth\")\n",
    "\n",
    "# Define sweep configuration\n",
    "sweep_config = {\n",
    "    'method': 'bayes',  # Bayesian optimization\n",
    "    'metric': {\n",
    "        'name': 'val_accuracy',\n",
    "        'goal': 'maximize'\n",
    "    },\n",
    "    'parameters': {\n",
    "        'hidden_size': {\n",
    "            'values': [28, 32, 42, 56]\n",
    "        },\n",
    "        'dropout_prob': {\n",
    "            'min': 0.2,\n",
    "            'max': 0.4\n",
    "        },\n",
    "        'learning_rate': {\n",
    "            'min': 0.01,\n",
    "            'max': 0.02,\n",
    "            'distribution': 'log_uniform_values'\n",
    "        },\n",
    "        'num_epochs': {\n",
    "            'min': 500,\n",
    "            'max': 1000\n",
    "        }\n",
    "    }\n",
    "}\n",
    "\n",
    "# Initialize sweep\n",
    "sweep_id = wandb.sweep(sweep_config, project=\"football-ml-prediction\")\n",
    "\n",
    "# Run sweep with 20 runs\n",
    "wandb.agent(sweep_id, train_model, count=20)\n",
    "\n",
    "print(\"\\nSweep completed! Check your wandb dashboard for results.\")"
   ]
  },
  {
   "cell_type": "code",
   "execution_count": null,
   "id": "8f85ad6b-0211-4081-94c9-0a57c1e666b9",
   "metadata": {},
   "outputs": [],
   "source": []
  },
  {
   "cell_type": "code",
   "execution_count": null,
   "id": "e826908c-dc66-4459-84e2-bc56c6f0cf4c",
   "metadata": {},
   "outputs": [],
   "source": []
  },
  {
   "cell_type": "code",
   "execution_count": null,
   "id": "5c8d7411-b38c-4a81-b93a-2654ae96b384",
   "metadata": {},
   "outputs": [],
   "source": []
  },
  {
   "cell_type": "code",
   "execution_count": null,
   "id": "7f0175ee-fd2d-483a-9a05-e9e20b5c65f0",
   "metadata": {},
   "outputs": [],
   "source": []
  },
  {
   "cell_type": "code",
   "execution_count": null,
   "id": "655d31b0-7ed2-43a5-a3ef-43d0ff10f1c4",
   "metadata": {},
   "outputs": [],
   "source": []
  },
  {
   "cell_type": "code",
   "execution_count": null,
   "id": "235e97b6-c885-4476-a76c-41e75b60ce08",
   "metadata": {},
   "outputs": [],
   "source": []
  },
  {
   "cell_type": "code",
   "execution_count": null,
   "id": "a7ee2200-e6be-4588-88b4-cc9724270610",
   "metadata": {},
   "outputs": [],
   "source": []
  },
  {
   "cell_type": "code",
   "execution_count": null,
   "id": "06277960-d869-4f13-abed-ac5332cd461b",
   "metadata": {},
   "outputs": [],
   "source": []
  },
  {
   "cell_type": "code",
   "execution_count": null,
   "id": "83859ab2-1b10-4480-9f21-c757c46a93aa",
   "metadata": {},
   "outputs": [],
   "source": []
  },
  {
   "cell_type": "code",
   "execution_count": null,
   "id": "1c036569-7b2c-4cfa-9bbc-dac1d4a98a93",
   "metadata": {},
   "outputs": [],
   "source": []
  }
 ],
 "metadata": {
  "kernelspec": {
   "display_name": "Python 3 (ipykernel)",
   "language": "python",
   "name": "python3"
  },
  "language_info": {
   "codemirror_mode": {
    "name": "ipython",
    "version": 3
   },
   "file_extension": ".py",
   "mimetype": "text/x-python",
   "name": "python",
   "nbconvert_exporter": "python",
   "pygments_lexer": "ipython3",
   "version": "3.11.5"
  }
 },
 "nbformat": 4,
 "nbformat_minor": 5
}
