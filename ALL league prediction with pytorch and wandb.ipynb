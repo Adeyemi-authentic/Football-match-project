{
 "cells": [
  {
   "cell_type": "code",
   "execution_count": 1,
   "id": "29d6cc2b-e6e8-41ff-bafa-f64fbf014c32",
   "metadata": {},
   "outputs": [],
   "source": [
    "import pandas as pd\n",
    "import mysql.connector\n",
    "import numpy as np\n",
    "import torch\n",
    "import torch.nn as nn\n",
    "import torch.optim as optim\n",
    "from sklearn.model_selection import train_test_split\n",
    "from sklearn.preprocessing import StandardScaler\n",
    "from sklearn.metrics import classification_report, accuracy_score\n",
    "import wandb"
   ]
  },
  {
   "cell_type": "code",
   "execution_count": 2,
   "id": "94e13dab-9207-4cd1-9e73-25688e9f9ded",
   "metadata": {},
   "outputs": [
    {
     "name": "stderr",
     "output_type": "stream",
     "text": [
      "C:\\Users\\USER\\AppData\\Local\\Temp\\ipykernel_9732\\28585634.py:7: UserWarning: pandas only supports SQLAlchemy connectable (engine/connection) or database string URI or sqlite3 DBAPI2 connection. Other DBAPI2 objects are not tested. Please consider using SQLAlchemy.\n",
      "  df = pd.read_sql(query, conn)\n"
     ]
    }
   ],
   "source": [
    "# Connect to MySQL and load data\n",
    "#using my sql credentials \n",
    "from config import get_db_connection\n",
    "conn = get_db_connection()\n",
    "\n",
    "query = \"SELECT * FROM Matches_data;\"\n",
    "df = pd.read_sql(query, conn)\n",
    "conn.close()"
   ]
  },
  {
   "cell_type": "code",
   "execution_count": 3,
   "id": "adffe2cd-a318-4f26-9283-25e31742ef27",
   "metadata": {},
   "outputs": [],
   "source": [
    "# Prepare data\n",
    "data = df.copy()\n",
    "X = data.drop(['id','home_score', 'away_score', 'Result', 'matchday', 'date', \n",
    "               'home_points', 'away_points','GG', 'Cumulative_Home_Matches',\n",
    "               'Cumulative_Away_Matches', 'home_wins', 'home_draws', 'home_losses', \n",
    "               'away_wins', 'away_draws','away_losses','home_goal_ratio', 'away_goal_ratio'], axis=1)\n",
    "y = data['Result']\n",
    "\n",
    "# Scale features\n",
    "sc = StandardScaler()\n",
    "X = sc.fit_transform(X)"
   ]
  },
  {
   "cell_type": "code",
   "execution_count": 4,
   "id": "a01cb59f-af4c-42db-b76b-ae15ce1182aa",
   "metadata": {},
   "outputs": [],
   "source": [
    "X_train, X_test, y_train, y_test = train_test_split(X, y, test_size=0.1, random_state=42)\n",
    "\n",
    "# Convert to tensors\n",
    "X_train_tensor = torch.FloatTensor(X_train)\n",
    "y_train_tensor = torch.LongTensor(y_train.to_numpy())\n",
    "X_test_tensor = torch.FloatTensor(X_test)\n",
    "y_test_tensor = torch.LongTensor(y_test.to_numpy())"
   ]
  },
  {
   "cell_type": "code",
   "execution_count": 5,
   "id": "0147a6e0-2d73-47ff-bd11-c87e63bc3df3",
   "metadata": {},
   "outputs": [
    {
     "name": "stdout",
     "output_type": "stream",
     "text": [
      "Create sweep with ID: zsvmpjcl\n",
      "Sweep URL: https://wandb.ai/adey004azeez-hiipower-academy/football-ml-prediction/sweeps/zsvmpjcl\n",
      "Starting hyperparameter sweep...\n",
      "Make sure you have defined: X_train_tensor, y_train_tensor, X_test_tensor, y_test_tensor\n",
      "And optionally: feature_names (for feature importance)\n"
     ]
    },
    {
     "name": "stderr",
     "output_type": "stream",
     "text": [
      "wandb: Agent Starting Run: y41j4kh1 with config:\n",
      "wandb: \tdropout_prob: 0.25800957418454573\n",
      "wandb: \thidden_size: 32\n",
      "wandb: \tlearning_rate: 0.013329184338373358\n",
      "wandb: \tnum_epochs: 750\n",
      "wandb: Currently logged in as: adey004azeez (adey004azeez-hiipower-academy) to https://api.wandb.ai. Use `wandb login --relogin` to force relogin\n"
     ]
    },
    {
     "data": {
      "text/html": [],
      "text/plain": [
       "<IPython.core.display.HTML object>"
      ]
     },
     "metadata": {},
     "output_type": "display_data"
    },
    {
     "data": {
      "text/html": [
       "Tracking run with wandb version 0.22.0"
      ],
      "text/plain": [
       "<IPython.core.display.HTML object>"
      ]
     },
     "metadata": {},
     "output_type": "display_data"
    },
    {
     "data": {
      "text/html": [
       "Run data is saved locally in <code>C:\\Users\\USER\\PycharmProjects\\deply\\wandb\\run-20251007_195741-y41j4kh1</code>"
      ],
      "text/plain": [
       "<IPython.core.display.HTML object>"
      ]
     },
     "metadata": {},
     "output_type": "display_data"
    },
    {
     "data": {
      "text/html": [
       "Syncing run <strong><a href='https://wandb.ai/adey004azeez-hiipower-academy/football-ml-prediction/runs/y41j4kh1' target=\"_blank\">Match-outcome</a></strong> to <a href='https://wandb.ai/adey004azeez-hiipower-academy/football-ml-prediction' target=\"_blank\">Weights & Biases</a> (<a href='https://wandb.me/developer-guide' target=\"_blank\">docs</a>)<br>Sweep page: <a href='https://wandb.ai/adey004azeez-hiipower-academy/football-ml-prediction/sweeps/zsvmpjcl' target=\"_blank\">https://wandb.ai/adey004azeez-hiipower-academy/football-ml-prediction/sweeps/zsvmpjcl</a>"
      ],
      "text/plain": [
       "<IPython.core.display.HTML object>"
      ]
     },
     "metadata": {},
     "output_type": "display_data"
    },
    {
     "data": {
      "text/html": [
       " View project at <a href='https://wandb.ai/adey004azeez-hiipower-academy/football-ml-prediction' target=\"_blank\">https://wandb.ai/adey004azeez-hiipower-academy/football-ml-prediction</a>"
      ],
      "text/plain": [
       "<IPython.core.display.HTML object>"
      ]
     },
     "metadata": {},
     "output_type": "display_data"
    },
    {
     "data": {
      "text/html": [
       " View sweep at <a href='https://wandb.ai/adey004azeez-hiipower-academy/football-ml-prediction/sweeps/zsvmpjcl' target=\"_blank\">https://wandb.ai/adey004azeez-hiipower-academy/football-ml-prediction/sweeps/zsvmpjcl</a>"
      ],
      "text/plain": [
       "<IPython.core.display.HTML object>"
      ]
     },
     "metadata": {},
     "output_type": "display_data"
    },
    {
     "data": {
      "text/html": [
       " View run at <a href='https://wandb.ai/adey004azeez-hiipower-academy/football-ml-prediction/runs/y41j4kh1' target=\"_blank\">https://wandb.ai/adey004azeez-hiipower-academy/football-ml-prediction/runs/y41j4kh1</a>"
      ],
      "text/plain": [
       "<IPython.core.display.HTML object>"
      ]
     },
     "metadata": {},
     "output_type": "display_data"
    },
    {
     "name": "stdout",
     "output_type": "stream",
     "text": [
      "Epoch[40/750], Train Loss: 0.8006, Val Acc: 0.6414\n",
      "Epoch[80/750], Train Loss: 0.7567, Val Acc: 0.6540\n",
      "Epoch[120/750], Train Loss: 0.7314, Val Acc: 0.6639\n",
      "Epoch[160/750], Train Loss: 0.7240, Val Acc: 0.6540\n",
      "Epoch[200/750], Train Loss: 0.7095, Val Acc: 0.6681\n",
      "Epoch[240/750], Train Loss: 0.7024, Val Acc: 0.6709\n",
      "Epoch[280/750], Train Loss: 0.6973, Val Acc: 0.6681\n",
      "Epoch[320/750], Train Loss: 0.6896, Val Acc: 0.6709\n",
      "Epoch[360/750], Train Loss: 0.6826, Val Acc: 0.6723\n",
      "Epoch[400/750], Train Loss: 0.6843, Val Acc: 0.6793\n",
      "Epoch[440/750], Train Loss: 0.6820, Val Acc: 0.6779\n",
      "Epoch[480/750], Train Loss: 0.6794, Val Acc: 0.6779\n",
      "Epoch[520/750], Train Loss: 0.6774, Val Acc: 0.6892\n",
      "Epoch[560/750], Train Loss: 0.6785, Val Acc: 0.6864\n",
      "Epoch[600/750], Train Loss: 0.6729, Val Acc: 0.6751\n",
      "Epoch[640/750], Train Loss: 0.6722, Val Acc: 0.6821\n",
      "Epoch[680/750], Train Loss: 0.6708, Val Acc: 0.6793\n",
      "Epoch[720/750], Train Loss: 0.6752, Val Acc: 0.6779\n",
      "\n",
      "Final Test Accuracy: 0.6807\n",
      "\n",
      "Classification Report:\n",
      "              precision    recall  f1-score   support\n",
      "\n",
      "           0       0.66      0.75      0.70       208\n",
      "           1       0.56      0.53      0.55       187\n",
      "           2       0.77      0.72      0.74       316\n",
      "\n",
      "    accuracy                           0.68       711\n",
      "   macro avg       0.66      0.67      0.66       711\n",
      "weighted avg       0.68      0.68      0.68       711\n",
      "\n",
      "Feature importance computation failed: name 'feature_names' is not defined\n"
     ]
    },
    {
     "data": {
      "text/html": [],
      "text/plain": [
       "<IPython.core.display.HTML object>"
      ]
     },
     "metadata": {},
     "output_type": "display_data"
    },
    {
     "data": {
      "text/html": [
       "<br>    <style><br>        .wandb-row {<br>            display: flex;<br>            flex-direction: row;<br>            flex-wrap: wrap;<br>            justify-content: flex-start;<br>            width: 100%;<br>        }<br>        .wandb-col {<br>            display: flex;<br>            flex-direction: column;<br>            flex-basis: 100%;<br>            flex: 1;<br>            padding: 10px;<br>        }<br>    </style><br><div class=\"wandb-row\"><div class=\"wandb-col\"><h3>Run history:</h3><br/><table class=\"wandb\"><tr><td>best_val_accuracy</td><td>▁▂▂▄▅▅▅▅▆▆▆▇▇▇▇▇▇▇▇▇▇▇▇▇▇███████████████</td></tr><tr><td>epoch</td><td>▁▁▁▁▂▂▂▂▂▃▃▃▃▃▃▄▄▄▄▄▄▄▅▅▅▆▆▆▆▆▆▇▇▇▇▇▇▇██</td></tr><tr><td>final/Away Win_f1</td><td>▁</td></tr><tr><td>final/Away Win_precision</td><td>▁</td></tr><tr><td>final/Away Win_recall</td><td>▁</td></tr><tr><td>final/Away Win_support</td><td>▁</td></tr><tr><td>final/Draw_f1</td><td>▁</td></tr><tr><td>final/Draw_precision</td><td>▁</td></tr><tr><td>final/Draw_recall</td><td>▁</td></tr><tr><td>final/Draw_support</td><td>▁</td></tr><tr><td>+12</td><td>...</td></tr></table><br/></div><div class=\"wandb-col\"><h3>Run summary:</h3><br/><table class=\"wandb\"><tr><td>best_val_accuracy</td><td>0.69198</td></tr><tr><td>epoch</td><td>749</td></tr><tr><td>final/Away Win_f1</td><td>0.69977</td></tr><tr><td>final/Away Win_precision</td><td>0.65957</td></tr><tr><td>final/Away Win_recall</td><td>0.74519</td></tr><tr><td>final/Away Win_support</td><td>208</td></tr><tr><td>final/Draw_f1</td><td>0.54945</td></tr><tr><td>final/Draw_precision</td><td>0.56497</td></tr><tr><td>final/Draw_recall</td><td>0.53476</td></tr><tr><td>final/Draw_support</td><td>187</td></tr><tr><td>+12</td><td>...</td></tr></table><br/></div></div>"
      ],
      "text/plain": [
       "<IPython.core.display.HTML object>"
      ]
     },
     "metadata": {},
     "output_type": "display_data"
    },
    {
     "data": {
      "text/html": [
       " View run <strong style=\"color:#cdcd00\">Match-outcome</strong> at: <a href='https://wandb.ai/adey004azeez-hiipower-academy/football-ml-prediction/runs/y41j4kh1' target=\"_blank\">https://wandb.ai/adey004azeez-hiipower-academy/football-ml-prediction/runs/y41j4kh1</a><br> View project at: <a href='https://wandb.ai/adey004azeez-hiipower-academy/football-ml-prediction' target=\"_blank\">https://wandb.ai/adey004azeez-hiipower-academy/football-ml-prediction</a><br>Synced 5 W&B file(s), 1 media file(s), 2 artifact file(s) and 0 other file(s)"
      ],
      "text/plain": [
       "<IPython.core.display.HTML object>"
      ]
     },
     "metadata": {},
     "output_type": "display_data"
    },
    {
     "data": {
      "text/html": [
       "Find logs at: <code>.\\wandb\\run-20251007_195741-y41j4kh1\\logs</code>"
      ],
      "text/plain": [
       "<IPython.core.display.HTML object>"
      ]
     },
     "metadata": {},
     "output_type": "display_data"
    },
    {
     "name": "stderr",
     "output_type": "stream",
     "text": [
      "wandb: Sweep Agent: Waiting for job.\n",
      "wandb: Job received.\n",
      "wandb: Agent Starting Run: hkga30yc with config:\n",
      "wandb: \tdropout_prob: 0.2524295707261669\n",
      "wandb: \thidden_size: 42\n",
      "wandb: \tlearning_rate: 0.014334287366967033\n",
      "wandb: \tnum_epochs: 750\n"
     ]
    },
    {
     "data": {
      "text/html": [],
      "text/plain": [
       "<IPython.core.display.HTML object>"
      ]
     },
     "metadata": {},
     "output_type": "display_data"
    },
    {
     "data": {
      "text/html": [
       "Tracking run with wandb version 0.22.0"
      ],
      "text/plain": [
       "<IPython.core.display.HTML object>"
      ]
     },
     "metadata": {},
     "output_type": "display_data"
    },
    {
     "data": {
      "text/html": [
       "Run data is saved locally in <code>C:\\Users\\USER\\PycharmProjects\\deply\\wandb\\run-20251007_195812-hkga30yc</code>"
      ],
      "text/plain": [
       "<IPython.core.display.HTML object>"
      ]
     },
     "metadata": {},
     "output_type": "display_data"
    },
    {
     "data": {
      "text/html": [
       "Syncing run <strong><a href='https://wandb.ai/adey004azeez-hiipower-academy/football-ml-prediction/runs/hkga30yc' target=\"_blank\">Match-outcome</a></strong> to <a href='https://wandb.ai/adey004azeez-hiipower-academy/football-ml-prediction' target=\"_blank\">Weights & Biases</a> (<a href='https://wandb.me/developer-guide' target=\"_blank\">docs</a>)<br>Sweep page: <a href='https://wandb.ai/adey004azeez-hiipower-academy/football-ml-prediction/sweeps/zsvmpjcl' target=\"_blank\">https://wandb.ai/adey004azeez-hiipower-academy/football-ml-prediction/sweeps/zsvmpjcl</a>"
      ],
      "text/plain": [
       "<IPython.core.display.HTML object>"
      ]
     },
     "metadata": {},
     "output_type": "display_data"
    },
    {
     "data": {
      "text/html": [
       " View project at <a href='https://wandb.ai/adey004azeez-hiipower-academy/football-ml-prediction' target=\"_blank\">https://wandb.ai/adey004azeez-hiipower-academy/football-ml-prediction</a>"
      ],
      "text/plain": [
       "<IPython.core.display.HTML object>"
      ]
     },
     "metadata": {},
     "output_type": "display_data"
    },
    {
     "data": {
      "text/html": [
       " View sweep at <a href='https://wandb.ai/adey004azeez-hiipower-academy/football-ml-prediction/sweeps/zsvmpjcl' target=\"_blank\">https://wandb.ai/adey004azeez-hiipower-academy/football-ml-prediction/sweeps/zsvmpjcl</a>"
      ],
      "text/plain": [
       "<IPython.core.display.HTML object>"
      ]
     },
     "metadata": {},
     "output_type": "display_data"
    },
    {
     "data": {
      "text/html": [
       " View run at <a href='https://wandb.ai/adey004azeez-hiipower-academy/football-ml-prediction/runs/hkga30yc' target=\"_blank\">https://wandb.ai/adey004azeez-hiipower-academy/football-ml-prediction/runs/hkga30yc</a>"
      ],
      "text/plain": [
       "<IPython.core.display.HTML object>"
      ]
     },
     "metadata": {},
     "output_type": "display_data"
    },
    {
     "name": "stdout",
     "output_type": "stream",
     "text": [
      "Epoch[40/750], Train Loss: 0.7865, Val Acc: 0.6428\n",
      "Epoch[80/750], Train Loss: 0.7436, Val Acc: 0.6709\n",
      "Epoch[120/750], Train Loss: 0.7193, Val Acc: 0.6695\n",
      "Epoch[160/750], Train Loss: 0.7065, Val Acc: 0.6582\n",
      "Epoch[200/750], Train Loss: 0.6975, Val Acc: 0.6624\n",
      "Epoch[240/750], Train Loss: 0.6891, Val Acc: 0.6639\n",
      "Epoch[280/750], Train Loss: 0.6835, Val Acc: 0.6695\n",
      "Epoch[320/750], Train Loss: 0.6775, Val Acc: 0.6681\n",
      "Epoch[360/750], Train Loss: 0.6746, Val Acc: 0.6596\n",
      "Epoch[400/750], Train Loss: 0.6694, Val Acc: 0.6554\n",
      "Epoch[440/750], Train Loss: 0.6708, Val Acc: 0.6610\n",
      "Epoch[480/750], Train Loss: 0.6634, Val Acc: 0.6624\n",
      "Epoch[520/750], Train Loss: 0.6588, Val Acc: 0.6639\n",
      "Epoch[560/750], Train Loss: 0.6675, Val Acc: 0.6512\n",
      "Epoch[600/750], Train Loss: 0.6595, Val Acc: 0.6610\n",
      "Epoch[640/750], Train Loss: 0.6565, Val Acc: 0.6695\n",
      "Epoch[680/750], Train Loss: 0.6520, Val Acc: 0.6737\n",
      "Epoch[720/750], Train Loss: 0.6519, Val Acc: 0.6610\n",
      "\n",
      "Final Test Accuracy: 0.6681\n",
      "\n",
      "Classification Report:\n",
      "              precision    recall  f1-score   support\n",
      "\n",
      "           0       0.66      0.72      0.69       208\n",
      "           1       0.52      0.55      0.54       187\n",
      "           2       0.77      0.70      0.74       316\n",
      "\n",
      "    accuracy                           0.67       711\n",
      "   macro avg       0.65      0.66      0.65       711\n",
      "weighted avg       0.67      0.67      0.67       711\n",
      "\n",
      "Feature importance computation failed: name 'feature_names' is not defined\n"
     ]
    },
    {
     "data": {
      "text/html": [],
      "text/plain": [
       "<IPython.core.display.HTML object>"
      ]
     },
     "metadata": {},
     "output_type": "display_data"
    },
    {
     "data": {
      "text/html": [
       "<br>    <style><br>        .wandb-row {<br>            display: flex;<br>            flex-direction: row;<br>            flex-wrap: wrap;<br>            justify-content: flex-start;<br>            width: 100%;<br>        }<br>        .wandb-col {<br>            display: flex;<br>            flex-direction: column;<br>            flex-basis: 100%;<br>            flex: 1;<br>            padding: 10px;<br>        }<br>    </style><br><div class=\"wandb-row\"><div class=\"wandb-col\"><h3>Run history:</h3><br/><table class=\"wandb\"><tr><td>best_val_accuracy</td><td>▁▅▅▅▆▇▇█████████████████████████████████</td></tr><tr><td>epoch</td><td>▁▁▁▁▁▁▂▂▃▃▃▃▃▃▃▃▃▄▄▄▄▄▄▄▄▅▅▅▆▆▆▇▇▇▇▇▇███</td></tr><tr><td>final/Away Win_f1</td><td>▁</td></tr><tr><td>final/Away Win_precision</td><td>▁</td></tr><tr><td>final/Away Win_recall</td><td>▁</td></tr><tr><td>final/Away Win_support</td><td>▁</td></tr><tr><td>final/Draw_f1</td><td>▁</td></tr><tr><td>final/Draw_precision</td><td>▁</td></tr><tr><td>final/Draw_recall</td><td>▁</td></tr><tr><td>final/Draw_support</td><td>▁</td></tr><tr><td>+12</td><td>...</td></tr></table><br/></div><div class=\"wandb-col\"><h3>Run summary:</h3><br/><table class=\"wandb\"><tr><td>best_val_accuracy</td><td>0.68214</td></tr><tr><td>epoch</td><td>749</td></tr><tr><td>final/Away Win_f1</td><td>0.69124</td></tr><tr><td>final/Away Win_precision</td><td>0.66372</td></tr><tr><td>final/Away Win_recall</td><td>0.72115</td></tr><tr><td>final/Away Win_support</td><td>208</td></tr><tr><td>final/Draw_f1</td><td>0.53646</td></tr><tr><td>final/Draw_precision</td><td>0.52284</td></tr><tr><td>final/Draw_recall</td><td>0.5508</td></tr><tr><td>final/Draw_support</td><td>187</td></tr><tr><td>+12</td><td>...</td></tr></table><br/></div></div>"
      ],
      "text/plain": [
       "<IPython.core.display.HTML object>"
      ]
     },
     "metadata": {},
     "output_type": "display_data"
    },
    {
     "data": {
      "text/html": [
       " View run <strong style=\"color:#cdcd00\">Match-outcome</strong> at: <a href='https://wandb.ai/adey004azeez-hiipower-academy/football-ml-prediction/runs/hkga30yc' target=\"_blank\">https://wandb.ai/adey004azeez-hiipower-academy/football-ml-prediction/runs/hkga30yc</a><br> View project at: <a href='https://wandb.ai/adey004azeez-hiipower-academy/football-ml-prediction' target=\"_blank\">https://wandb.ai/adey004azeez-hiipower-academy/football-ml-prediction</a><br>Synced 5 W&B file(s), 1 media file(s), 2 artifact file(s) and 0 other file(s)"
      ],
      "text/plain": [
       "<IPython.core.display.HTML object>"
      ]
     },
     "metadata": {},
     "output_type": "display_data"
    },
    {
     "data": {
      "text/html": [
       "Find logs at: <code>.\\wandb\\run-20251007_195812-hkga30yc\\logs</code>"
      ],
      "text/plain": [
       "<IPython.core.display.HTML object>"
      ]
     },
     "metadata": {},
     "output_type": "display_data"
    },
    {
     "name": "stderr",
     "output_type": "stream",
     "text": [
      "wandb: Agent Starting Run: x82pxgo9 with config:\n",
      "wandb: \tdropout_prob: 0.3937799691231843\n",
      "wandb: \thidden_size: 56\n",
      "wandb: \tlearning_rate: 0.013857616610858893\n",
      "wandb: \tnum_epochs: 500\n"
     ]
    },
    {
     "data": {
      "text/html": [],
      "text/plain": [
       "<IPython.core.display.HTML object>"
      ]
     },
     "metadata": {},
     "output_type": "display_data"
    },
    {
     "data": {
      "text/html": [
       "Tracking run with wandb version 0.22.0"
      ],
      "text/plain": [
       "<IPython.core.display.HTML object>"
      ]
     },
     "metadata": {},
     "output_type": "display_data"
    },
    {
     "data": {
      "text/html": [
       "Run data is saved locally in <code>C:\\Users\\USER\\PycharmProjects\\deply\\wandb\\run-20251007_195835-x82pxgo9</code>"
      ],
      "text/plain": [
       "<IPython.core.display.HTML object>"
      ]
     },
     "metadata": {},
     "output_type": "display_data"
    },
    {
     "data": {
      "text/html": [
       "Syncing run <strong><a href='https://wandb.ai/adey004azeez-hiipower-academy/football-ml-prediction/runs/x82pxgo9' target=\"_blank\">Match-outcome</a></strong> to <a href='https://wandb.ai/adey004azeez-hiipower-academy/football-ml-prediction' target=\"_blank\">Weights & Biases</a> (<a href='https://wandb.me/developer-guide' target=\"_blank\">docs</a>)<br>Sweep page: <a href='https://wandb.ai/adey004azeez-hiipower-academy/football-ml-prediction/sweeps/zsvmpjcl' target=\"_blank\">https://wandb.ai/adey004azeez-hiipower-academy/football-ml-prediction/sweeps/zsvmpjcl</a>"
      ],
      "text/plain": [
       "<IPython.core.display.HTML object>"
      ]
     },
     "metadata": {},
     "output_type": "display_data"
    },
    {
     "data": {
      "text/html": [
       " View project at <a href='https://wandb.ai/adey004azeez-hiipower-academy/football-ml-prediction' target=\"_blank\">https://wandb.ai/adey004azeez-hiipower-academy/football-ml-prediction</a>"
      ],
      "text/plain": [
       "<IPython.core.display.HTML object>"
      ]
     },
     "metadata": {},
     "output_type": "display_data"
    },
    {
     "data": {
      "text/html": [
       " View sweep at <a href='https://wandb.ai/adey004azeez-hiipower-academy/football-ml-prediction/sweeps/zsvmpjcl' target=\"_blank\">https://wandb.ai/adey004azeez-hiipower-academy/football-ml-prediction/sweeps/zsvmpjcl</a>"
      ],
      "text/plain": [
       "<IPython.core.display.HTML object>"
      ]
     },
     "metadata": {},
     "output_type": "display_data"
    },
    {
     "data": {
      "text/html": [
       " View run at <a href='https://wandb.ai/adey004azeez-hiipower-academy/football-ml-prediction/runs/x82pxgo9' target=\"_blank\">https://wandb.ai/adey004azeez-hiipower-academy/football-ml-prediction/runs/x82pxgo9</a>"
      ],
      "text/plain": [
       "<IPython.core.display.HTML object>"
      ]
     },
     "metadata": {},
     "output_type": "display_data"
    },
    {
     "name": "stdout",
     "output_type": "stream",
     "text": [
      "Epoch[40/500], Train Loss: 0.7954, Val Acc: 0.6414\n",
      "Epoch[80/500], Train Loss: 0.7441, Val Acc: 0.6653\n",
      "Epoch[120/500], Train Loss: 0.7220, Val Acc: 0.6624\n",
      "Epoch[160/500], Train Loss: 0.7121, Val Acc: 0.6737\n",
      "Epoch[200/500], Train Loss: 0.6997, Val Acc: 0.6751\n",
      "Epoch[240/500], Train Loss: 0.6929, Val Acc: 0.6765\n",
      "Epoch[280/500], Train Loss: 0.6878, Val Acc: 0.6709\n",
      "Epoch[320/500], Train Loss: 0.6891, Val Acc: 0.6807\n",
      "Epoch[360/500], Train Loss: 0.6776, Val Acc: 0.6821\n",
      "Epoch[400/500], Train Loss: 0.6821, Val Acc: 0.6779\n",
      "Epoch[440/500], Train Loss: 0.6661, Val Acc: 0.6751\n",
      "Epoch[480/500], Train Loss: 0.6758, Val Acc: 0.6807\n",
      "\n",
      "Final Test Accuracy: 0.6751\n",
      "\n",
      "Classification Report:\n",
      "              precision    recall  f1-score   support\n",
      "\n",
      "           0       0.66      0.77      0.71       208\n",
      "           1       0.53      0.52      0.53       187\n",
      "           2       0.78      0.70      0.74       316\n",
      "\n",
      "    accuracy                           0.68       711\n",
      "   macro avg       0.66      0.67      0.66       711\n",
      "weighted avg       0.68      0.68      0.68       711\n",
      "\n",
      "Feature importance computation failed: name 'feature_names' is not defined\n"
     ]
    },
    {
     "data": {
      "text/html": [],
      "text/plain": [
       "<IPython.core.display.HTML object>"
      ]
     },
     "metadata": {},
     "output_type": "display_data"
    },
    {
     "data": {
      "text/html": [
       "<br>    <style><br>        .wandb-row {<br>            display: flex;<br>            flex-direction: row;<br>            flex-wrap: wrap;<br>            justify-content: flex-start;<br>            width: 100%;<br>        }<br>        .wandb-col {<br>            display: flex;<br>            flex-direction: column;<br>            flex-basis: 100%;<br>            flex: 1;<br>            padding: 10px;<br>        }<br>    </style><br><div class=\"wandb-row\"><div class=\"wandb-col\"><h3>Run history:</h3><br/><table class=\"wandb\"><tr><td>best_val_accuracy</td><td>▁▃▄▄▄▆▆▆▆▆▆▆▆▆▆█████████████████████████</td></tr><tr><td>epoch</td><td>▁▁▁▁▁▂▂▂▂▃▃▃▃▃▄▄▄▄▄▄▄▅▅▅▅▅▆▆▆▆▇▇▇▇▇▇▇▇▇█</td></tr><tr><td>final/Away Win_f1</td><td>▁</td></tr><tr><td>final/Away Win_precision</td><td>▁</td></tr><tr><td>final/Away Win_recall</td><td>▁</td></tr><tr><td>final/Away Win_support</td><td>▁</td></tr><tr><td>final/Draw_f1</td><td>▁</td></tr><tr><td>final/Draw_precision</td><td>▁</td></tr><tr><td>final/Draw_recall</td><td>▁</td></tr><tr><td>final/Draw_support</td><td>▁</td></tr><tr><td>+12</td><td>...</td></tr></table><br/></div><div class=\"wandb-col\"><h3>Run summary:</h3><br/><table class=\"wandb\"><tr><td>best_val_accuracy</td><td>0.68917</td></tr><tr><td>epoch</td><td>499</td></tr><tr><td>final/Away Win_f1</td><td>0.70796</td></tr><tr><td>final/Away Win_precision</td><td>0.65574</td></tr><tr><td>final/Away Win_recall</td><td>0.76923</td></tr><tr><td>final/Away Win_support</td><td>208</td></tr><tr><td>final/Draw_f1</td><td>0.5283</td></tr><tr><td>final/Draw_precision</td><td>0.53261</td></tr><tr><td>final/Draw_recall</td><td>0.52406</td></tr><tr><td>final/Draw_support</td><td>187</td></tr><tr><td>+12</td><td>...</td></tr></table><br/></div></div>"
      ],
      "text/plain": [
       "<IPython.core.display.HTML object>"
      ]
     },
     "metadata": {},
     "output_type": "display_data"
    },
    {
     "data": {
      "text/html": [
       " View run <strong style=\"color:#cdcd00\">Match-outcome</strong> at: <a href='https://wandb.ai/adey004azeez-hiipower-academy/football-ml-prediction/runs/x82pxgo9' target=\"_blank\">https://wandb.ai/adey004azeez-hiipower-academy/football-ml-prediction/runs/x82pxgo9</a><br> View project at: <a href='https://wandb.ai/adey004azeez-hiipower-academy/football-ml-prediction' target=\"_blank\">https://wandb.ai/adey004azeez-hiipower-academy/football-ml-prediction</a><br>Synced 5 W&B file(s), 1 media file(s), 2 artifact file(s) and 0 other file(s)"
      ],
      "text/plain": [
       "<IPython.core.display.HTML object>"
      ]
     },
     "metadata": {},
     "output_type": "display_data"
    },
    {
     "data": {
      "text/html": [
       "Find logs at: <code>.\\wandb\\run-20251007_195835-x82pxgo9\\logs</code>"
      ],
      "text/plain": [
       "<IPython.core.display.HTML object>"
      ]
     },
     "metadata": {},
     "output_type": "display_data"
    },
    {
     "name": "stderr",
     "output_type": "stream",
     "text": [
      "wandb: Agent Starting Run: 3jw5g7ho with config:\n",
      "wandb: \tdropout_prob: 0.3794121901348084\n",
      "wandb: \thidden_size: 42\n",
      "wandb: \tlearning_rate: 0.01926929325728629\n",
      "wandb: \tnum_epochs: 500\n"
     ]
    },
    {
     "data": {
      "text/html": [],
      "text/plain": [
       "<IPython.core.display.HTML object>"
      ]
     },
     "metadata": {},
     "output_type": "display_data"
    },
    {
     "data": {
      "text/html": [
       "Tracking run with wandb version 0.22.0"
      ],
      "text/plain": [
       "<IPython.core.display.HTML object>"
      ]
     },
     "metadata": {},
     "output_type": "display_data"
    },
    {
     "data": {
      "text/html": [
       "Run data is saved locally in <code>C:\\Users\\USER\\PycharmProjects\\deply\\wandb\\run-20251007_195902-3jw5g7ho</code>"
      ],
      "text/plain": [
       "<IPython.core.display.HTML object>"
      ]
     },
     "metadata": {},
     "output_type": "display_data"
    },
    {
     "data": {
      "text/html": [
       "Syncing run <strong><a href='https://wandb.ai/adey004azeez-hiipower-academy/football-ml-prediction/runs/3jw5g7ho' target=\"_blank\">Match-outcome</a></strong> to <a href='https://wandb.ai/adey004azeez-hiipower-academy/football-ml-prediction' target=\"_blank\">Weights & Biases</a> (<a href='https://wandb.me/developer-guide' target=\"_blank\">docs</a>)<br>Sweep page: <a href='https://wandb.ai/adey004azeez-hiipower-academy/football-ml-prediction/sweeps/zsvmpjcl' target=\"_blank\">https://wandb.ai/adey004azeez-hiipower-academy/football-ml-prediction/sweeps/zsvmpjcl</a>"
      ],
      "text/plain": [
       "<IPython.core.display.HTML object>"
      ]
     },
     "metadata": {},
     "output_type": "display_data"
    },
    {
     "data": {
      "text/html": [
       " View project at <a href='https://wandb.ai/adey004azeez-hiipower-academy/football-ml-prediction' target=\"_blank\">https://wandb.ai/adey004azeez-hiipower-academy/football-ml-prediction</a>"
      ],
      "text/plain": [
       "<IPython.core.display.HTML object>"
      ]
     },
     "metadata": {},
     "output_type": "display_data"
    },
    {
     "data": {
      "text/html": [
       " View sweep at <a href='https://wandb.ai/adey004azeez-hiipower-academy/football-ml-prediction/sweeps/zsvmpjcl' target=\"_blank\">https://wandb.ai/adey004azeez-hiipower-academy/football-ml-prediction/sweeps/zsvmpjcl</a>"
      ],
      "text/plain": [
       "<IPython.core.display.HTML object>"
      ]
     },
     "metadata": {},
     "output_type": "display_data"
    },
    {
     "data": {
      "text/html": [
       " View run at <a href='https://wandb.ai/adey004azeez-hiipower-academy/football-ml-prediction/runs/3jw5g7ho' target=\"_blank\">https://wandb.ai/adey004azeez-hiipower-academy/football-ml-prediction/runs/3jw5g7ho</a>"
      ],
      "text/plain": [
       "<IPython.core.display.HTML object>"
      ]
     },
     "metadata": {},
     "output_type": "display_data"
    },
    {
     "name": "stdout",
     "output_type": "stream",
     "text": [
      "Epoch[40/500], Train Loss: 0.7829, Val Acc: 0.6582\n",
      "Epoch[80/500], Train Loss: 0.7384, Val Acc: 0.6667\n",
      "Epoch[120/500], Train Loss: 0.7233, Val Acc: 0.6624\n",
      "Epoch[160/500], Train Loss: 0.7112, Val Acc: 0.6610\n",
      "Epoch[200/500], Train Loss: 0.7058, Val Acc: 0.6709\n",
      "Epoch[240/500], Train Loss: 0.6994, Val Acc: 0.6624\n",
      "Epoch[280/500], Train Loss: 0.6989, Val Acc: 0.6667\n",
      "Epoch[320/500], Train Loss: 0.6895, Val Acc: 0.6695\n",
      "Epoch[360/500], Train Loss: 0.6837, Val Acc: 0.6681\n",
      "Epoch[400/500], Train Loss: 0.6819, Val Acc: 0.6723\n",
      "Epoch[440/500], Train Loss: 0.6848, Val Acc: 0.6709\n",
      "Epoch[480/500], Train Loss: 0.6806, Val Acc: 0.6737\n",
      "\n",
      "Final Test Accuracy: 0.6709\n",
      "\n",
      "Classification Report:\n",
      "              precision    recall  f1-score   support\n",
      "\n",
      "           0       0.67      0.75      0.70       208\n",
      "           1       0.54      0.52      0.53       187\n",
      "           2       0.76      0.71      0.73       316\n",
      "\n",
      "    accuracy                           0.67       711\n",
      "   macro avg       0.65      0.66      0.65       711\n",
      "weighted avg       0.67      0.67      0.67       711\n",
      "\n",
      "Feature importance computation failed: name 'feature_names' is not defined\n"
     ]
    },
    {
     "data": {
      "text/html": [],
      "text/plain": [
       "<IPython.core.display.HTML object>"
      ]
     },
     "metadata": {},
     "output_type": "display_data"
    },
    {
     "data": {
      "text/html": [
       "<br>    <style><br>        .wandb-row {<br>            display: flex;<br>            flex-direction: row;<br>            flex-wrap: wrap;<br>            justify-content: flex-start;<br>            width: 100%;<br>        }<br>        .wandb-col {<br>            display: flex;<br>            flex-direction: column;<br>            flex-basis: 100%;<br>            flex: 1;<br>            padding: 10px;<br>        }<br>    </style><br><div class=\"wandb-row\"><div class=\"wandb-col\"><h3>Run history:</h3><br/><table class=\"wandb\"><tr><td>best_val_accuracy</td><td>▁▁▄▅▅▅▇▇▇▇▇▇▇▇▇▇▇▇▇▇▇▇██████████████████</td></tr><tr><td>epoch</td><td>▁▁▁▁▂▂▂▂▂▂▃▃▃▃▄▄▄▄▄▄▄▅▅▅▅▅▆▆▆▆▆▆▇▇▇▇████</td></tr><tr><td>final/Away Win_f1</td><td>▁</td></tr><tr><td>final/Away Win_precision</td><td>▁</td></tr><tr><td>final/Away Win_recall</td><td>▁</td></tr><tr><td>final/Away Win_support</td><td>▁</td></tr><tr><td>final/Draw_f1</td><td>▁</td></tr><tr><td>final/Draw_precision</td><td>▁</td></tr><tr><td>final/Draw_recall</td><td>▁</td></tr><tr><td>final/Draw_support</td><td>▁</td></tr><tr><td>+12</td><td>...</td></tr></table><br/></div><div class=\"wandb-col\"><h3>Run summary:</h3><br/><table class=\"wandb\"><tr><td>best_val_accuracy</td><td>0.68636</td></tr><tr><td>epoch</td><td>499</td></tr><tr><td>final/Away Win_f1</td><td>0.70295</td></tr><tr><td>final/Away Win_precision</td><td>0.66524</td></tr><tr><td>final/Away Win_recall</td><td>0.74519</td></tr><tr><td>final/Away Win_support</td><td>208</td></tr><tr><td>final/Draw_f1</td><td>0.52861</td></tr><tr><td>final/Draw_precision</td><td>0.53889</td></tr><tr><td>final/Draw_recall</td><td>0.51872</td></tr><tr><td>final/Draw_support</td><td>187</td></tr><tr><td>+12</td><td>...</td></tr></table><br/></div></div>"
      ],
      "text/plain": [
       "<IPython.core.display.HTML object>"
      ]
     },
     "metadata": {},
     "output_type": "display_data"
    },
    {
     "data": {
      "text/html": [
       " View run <strong style=\"color:#cdcd00\">Match-outcome</strong> at: <a href='https://wandb.ai/adey004azeez-hiipower-academy/football-ml-prediction/runs/3jw5g7ho' target=\"_blank\">https://wandb.ai/adey004azeez-hiipower-academy/football-ml-prediction/runs/3jw5g7ho</a><br> View project at: <a href='https://wandb.ai/adey004azeez-hiipower-academy/football-ml-prediction' target=\"_blank\">https://wandb.ai/adey004azeez-hiipower-academy/football-ml-prediction</a><br>Synced 5 W&B file(s), 1 media file(s), 2 artifact file(s) and 0 other file(s)"
      ],
      "text/plain": [
       "<IPython.core.display.HTML object>"
      ]
     },
     "metadata": {},
     "output_type": "display_data"
    },
    {
     "data": {
      "text/html": [
       "Find logs at: <code>.\\wandb\\run-20251007_195902-3jw5g7ho\\logs</code>"
      ],
      "text/plain": [
       "<IPython.core.display.HTML object>"
      ]
     },
     "metadata": {},
     "output_type": "display_data"
    },
    {
     "name": "stderr",
     "output_type": "stream",
     "text": [
      "wandb: Agent Starting Run: tft0f8tg with config:\n",
      "wandb: \tdropout_prob: 0.33686330556105504\n",
      "wandb: \thidden_size: 56\n",
      "wandb: \tlearning_rate: 0.00985505115694874\n",
      "wandb: \tnum_epochs: 750\n"
     ]
    },
    {
     "data": {
      "text/html": [],
      "text/plain": [
       "<IPython.core.display.HTML object>"
      ]
     },
     "metadata": {},
     "output_type": "display_data"
    },
    {
     "data": {
      "text/html": [
       "Tracking run with wandb version 0.22.0"
      ],
      "text/plain": [
       "<IPython.core.display.HTML object>"
      ]
     },
     "metadata": {},
     "output_type": "display_data"
    },
    {
     "data": {
      "text/html": [
       "Run data is saved locally in <code>C:\\Users\\USER\\PycharmProjects\\deply\\wandb\\run-20251007_195924-tft0f8tg</code>"
      ],
      "text/plain": [
       "<IPython.core.display.HTML object>"
      ]
     },
     "metadata": {},
     "output_type": "display_data"
    },
    {
     "data": {
      "text/html": [
       "Syncing run <strong><a href='https://wandb.ai/adey004azeez-hiipower-academy/football-ml-prediction/runs/tft0f8tg' target=\"_blank\">Match-outcome</a></strong> to <a href='https://wandb.ai/adey004azeez-hiipower-academy/football-ml-prediction' target=\"_blank\">Weights & Biases</a> (<a href='https://wandb.me/developer-guide' target=\"_blank\">docs</a>)<br>Sweep page: <a href='https://wandb.ai/adey004azeez-hiipower-academy/football-ml-prediction/sweeps/zsvmpjcl' target=\"_blank\">https://wandb.ai/adey004azeez-hiipower-academy/football-ml-prediction/sweeps/zsvmpjcl</a>"
      ],
      "text/plain": [
       "<IPython.core.display.HTML object>"
      ]
     },
     "metadata": {},
     "output_type": "display_data"
    },
    {
     "data": {
      "text/html": [
       " View project at <a href='https://wandb.ai/adey004azeez-hiipower-academy/football-ml-prediction' target=\"_blank\">https://wandb.ai/adey004azeez-hiipower-academy/football-ml-prediction</a>"
      ],
      "text/plain": [
       "<IPython.core.display.HTML object>"
      ]
     },
     "metadata": {},
     "output_type": "display_data"
    },
    {
     "data": {
      "text/html": [
       " View sweep at <a href='https://wandb.ai/adey004azeez-hiipower-academy/football-ml-prediction/sweeps/zsvmpjcl' target=\"_blank\">https://wandb.ai/adey004azeez-hiipower-academy/football-ml-prediction/sweeps/zsvmpjcl</a>"
      ],
      "text/plain": [
       "<IPython.core.display.HTML object>"
      ]
     },
     "metadata": {},
     "output_type": "display_data"
    },
    {
     "data": {
      "text/html": [
       " View run at <a href='https://wandb.ai/adey004azeez-hiipower-academy/football-ml-prediction/runs/tft0f8tg' target=\"_blank\">https://wandb.ai/adey004azeez-hiipower-academy/football-ml-prediction/runs/tft0f8tg</a>"
      ],
      "text/plain": [
       "<IPython.core.display.HTML object>"
      ]
     },
     "metadata": {},
     "output_type": "display_data"
    },
    {
     "name": "stdout",
     "output_type": "stream",
     "text": [
      "Epoch[40/750], Train Loss: 0.7924, Val Acc: 0.6512\n",
      "Epoch[80/750], Train Loss: 0.7472, Val Acc: 0.6624\n",
      "Epoch[120/750], Train Loss: 0.7228, Val Acc: 0.6554\n",
      "Epoch[160/750], Train Loss: 0.7080, Val Acc: 0.6610\n",
      "Epoch[200/750], Train Loss: 0.6978, Val Acc: 0.6512\n",
      "Epoch[240/750], Train Loss: 0.6902, Val Acc: 0.6639\n",
      "Epoch[280/750], Train Loss: 0.6855, Val Acc: 0.6681\n",
      "Epoch[320/750], Train Loss: 0.6794, Val Acc: 0.6737\n",
      "Epoch[360/750], Train Loss: 0.6779, Val Acc: 0.6695\n",
      "Epoch[400/750], Train Loss: 0.6767, Val Acc: 0.6695\n",
      "Epoch[440/750], Train Loss: 0.6744, Val Acc: 0.6723\n",
      "Epoch[480/750], Train Loss: 0.6698, Val Acc: 0.6751\n",
      "Epoch[520/750], Train Loss: 0.6672, Val Acc: 0.6723\n",
      "Epoch[560/750], Train Loss: 0.6648, Val Acc: 0.6681\n",
      "Epoch[600/750], Train Loss: 0.6559, Val Acc: 0.6765\n",
      "Epoch[640/750], Train Loss: 0.6642, Val Acc: 0.6751\n",
      "Epoch[680/750], Train Loss: 0.6590, Val Acc: 0.6709\n",
      "Epoch[720/750], Train Loss: 0.6589, Val Acc: 0.6695\n",
      "\n",
      "Final Test Accuracy: 0.6821\n",
      "\n",
      "Classification Report:\n",
      "              precision    recall  f1-score   support\n",
      "\n",
      "           0       0.67      0.75      0.71       208\n",
      "           1       0.56      0.53      0.54       187\n",
      "           2       0.76      0.72      0.74       316\n",
      "\n",
      "    accuracy                           0.68       711\n",
      "   macro avg       0.66      0.67      0.67       711\n",
      "weighted avg       0.68      0.68      0.68       711\n",
      "\n",
      "Feature importance computation failed: name 'feature_names' is not defined\n"
     ]
    },
    {
     "data": {
      "text/html": [],
      "text/plain": [
       "<IPython.core.display.HTML object>"
      ]
     },
     "metadata": {},
     "output_type": "display_data"
    },
    {
     "data": {
      "text/html": [
       "<br>    <style><br>        .wandb-row {<br>            display: flex;<br>            flex-direction: row;<br>            flex-wrap: wrap;<br>            justify-content: flex-start;<br>            width: 100%;<br>        }<br>        .wandb-col {<br>            display: flex;<br>            flex-direction: column;<br>            flex-basis: 100%;<br>            flex: 1;<br>            padding: 10px;<br>        }<br>    </style><br><div class=\"wandb-row\"><div class=\"wandb-col\"><h3>Run history:</h3><br/><table class=\"wandb\"><tr><td>best_val_accuracy</td><td>▁▂▄▅▇▇▇▇▇▇▇▇▇▇▇▇▇▇▇▇████████████████████</td></tr><tr><td>epoch</td><td>▁▁▁▁▁▂▂▂▂▂▃▃▃▃▄▄▄▄▄▄▄▄▄▅▅▅▅▅▆▆▆▆▆▆▇▇▇▇██</td></tr><tr><td>final/Away Win_f1</td><td>▁</td></tr><tr><td>final/Away Win_precision</td><td>▁</td></tr><tr><td>final/Away Win_recall</td><td>▁</td></tr><tr><td>final/Away Win_support</td><td>▁</td></tr><tr><td>final/Draw_f1</td><td>▁</td></tr><tr><td>final/Draw_precision</td><td>▁</td></tr><tr><td>final/Draw_recall</td><td>▁</td></tr><tr><td>final/Draw_support</td><td>▁</td></tr><tr><td>+12</td><td>...</td></tr></table><br/></div><div class=\"wandb-col\"><h3>Run summary:</h3><br/><table class=\"wandb\"><tr><td>best_val_accuracy</td><td>0.68495</td></tr><tr><td>epoch</td><td>749</td></tr><tr><td>final/Away Win_f1</td><td>0.71202</td></tr><tr><td>final/Away Win_precision</td><td>0.67382</td></tr><tr><td>final/Away Win_recall</td><td>0.75481</td></tr><tr><td>final/Away Win_support</td><td>208</td></tr><tr><td>final/Draw_f1</td><td>0.54396</td></tr><tr><td>final/Draw_precision</td><td>0.55932</td></tr><tr><td>final/Draw_recall</td><td>0.52941</td></tr><tr><td>final/Draw_support</td><td>187</td></tr><tr><td>+12</td><td>...</td></tr></table><br/></div></div>"
      ],
      "text/plain": [
       "<IPython.core.display.HTML object>"
      ]
     },
     "metadata": {},
     "output_type": "display_data"
    },
    {
     "data": {
      "text/html": [
       " View run <strong style=\"color:#cdcd00\">Match-outcome</strong> at: <a href='https://wandb.ai/adey004azeez-hiipower-academy/football-ml-prediction/runs/tft0f8tg' target=\"_blank\">https://wandb.ai/adey004azeez-hiipower-academy/football-ml-prediction/runs/tft0f8tg</a><br> View project at: <a href='https://wandb.ai/adey004azeez-hiipower-academy/football-ml-prediction' target=\"_blank\">https://wandb.ai/adey004azeez-hiipower-academy/football-ml-prediction</a><br>Synced 5 W&B file(s), 1 media file(s), 2 artifact file(s) and 0 other file(s)"
      ],
      "text/plain": [
       "<IPython.core.display.HTML object>"
      ]
     },
     "metadata": {},
     "output_type": "display_data"
    },
    {
     "data": {
      "text/html": [
       "Find logs at: <code>.\\wandb\\run-20251007_195924-tft0f8tg\\logs</code>"
      ],
      "text/plain": [
       "<IPython.core.display.HTML object>"
      ]
     },
     "metadata": {},
     "output_type": "display_data"
    },
    {
     "name": "stderr",
     "output_type": "stream",
     "text": [
      "wandb: Agent Starting Run: 5tuljcpw with config:\n",
      "wandb: \tdropout_prob: 0.23376680136262817\n",
      "wandb: \thidden_size: 32\n",
      "wandb: \tlearning_rate: 0.01218780548693143\n",
      "wandb: \tnum_epochs: 750\n"
     ]
    },
    {
     "data": {
      "text/html": [],
      "text/plain": [
       "<IPython.core.display.HTML object>"
      ]
     },
     "metadata": {},
     "output_type": "display_data"
    },
    {
     "data": {
      "text/html": [
       "Tracking run with wandb version 0.22.0"
      ],
      "text/plain": [
       "<IPython.core.display.HTML object>"
      ]
     },
     "metadata": {},
     "output_type": "display_data"
    },
    {
     "data": {
      "text/html": [
       "Run data is saved locally in <code>C:\\Users\\USER\\PycharmProjects\\deply\\wandb\\run-20251007_195956-5tuljcpw</code>"
      ],
      "text/plain": [
       "<IPython.core.display.HTML object>"
      ]
     },
     "metadata": {},
     "output_type": "display_data"
    },
    {
     "data": {
      "text/html": [
       "Syncing run <strong><a href='https://wandb.ai/adey004azeez-hiipower-academy/football-ml-prediction/runs/5tuljcpw' target=\"_blank\">Match-outcome</a></strong> to <a href='https://wandb.ai/adey004azeez-hiipower-academy/football-ml-prediction' target=\"_blank\">Weights & Biases</a> (<a href='https://wandb.me/developer-guide' target=\"_blank\">docs</a>)<br>Sweep page: <a href='https://wandb.ai/adey004azeez-hiipower-academy/football-ml-prediction/sweeps/zsvmpjcl' target=\"_blank\">https://wandb.ai/adey004azeez-hiipower-academy/football-ml-prediction/sweeps/zsvmpjcl</a>"
      ],
      "text/plain": [
       "<IPython.core.display.HTML object>"
      ]
     },
     "metadata": {},
     "output_type": "display_data"
    },
    {
     "data": {
      "text/html": [
       " View project at <a href='https://wandb.ai/adey004azeez-hiipower-academy/football-ml-prediction' target=\"_blank\">https://wandb.ai/adey004azeez-hiipower-academy/football-ml-prediction</a>"
      ],
      "text/plain": [
       "<IPython.core.display.HTML object>"
      ]
     },
     "metadata": {},
     "output_type": "display_data"
    },
    {
     "data": {
      "text/html": [
       " View sweep at <a href='https://wandb.ai/adey004azeez-hiipower-academy/football-ml-prediction/sweeps/zsvmpjcl' target=\"_blank\">https://wandb.ai/adey004azeez-hiipower-academy/football-ml-prediction/sweeps/zsvmpjcl</a>"
      ],
      "text/plain": [
       "<IPython.core.display.HTML object>"
      ]
     },
     "metadata": {},
     "output_type": "display_data"
    },
    {
     "data": {
      "text/html": [
       " View run at <a href='https://wandb.ai/adey004azeez-hiipower-academy/football-ml-prediction/runs/5tuljcpw' target=\"_blank\">https://wandb.ai/adey004azeez-hiipower-academy/football-ml-prediction/runs/5tuljcpw</a>"
      ],
      "text/plain": [
       "<IPython.core.display.HTML object>"
      ]
     },
     "metadata": {},
     "output_type": "display_data"
    },
    {
     "name": "stdout",
     "output_type": "stream",
     "text": [
      "Epoch[40/750], Train Loss: 0.8047, Val Acc: 0.6414\n",
      "Epoch[80/750], Train Loss: 0.7589, Val Acc: 0.6582\n",
      "Epoch[120/750], Train Loss: 0.7369, Val Acc: 0.6596\n",
      "Epoch[160/750], Train Loss: 0.7214, Val Acc: 0.6681\n",
      "Epoch[200/750], Train Loss: 0.7118, Val Acc: 0.6681\n",
      "Epoch[240/750], Train Loss: 0.7030, Val Acc: 0.6653\n",
      "Epoch[280/750], Train Loss: 0.6991, Val Acc: 0.6667\n",
      "Epoch[320/750], Train Loss: 0.6920, Val Acc: 0.6695\n",
      "Epoch[360/750], Train Loss: 0.6900, Val Acc: 0.6723\n",
      "Epoch[400/750], Train Loss: 0.6859, Val Acc: 0.6751\n",
      "Epoch[440/750], Train Loss: 0.6806, Val Acc: 0.6709\n",
      "Epoch[480/750], Train Loss: 0.6805, Val Acc: 0.6737\n",
      "Epoch[520/750], Train Loss: 0.6803, Val Acc: 0.6765\n",
      "Epoch[560/750], Train Loss: 0.6776, Val Acc: 0.6667\n",
      "Epoch[600/750], Train Loss: 0.6775, Val Acc: 0.6765\n",
      "Epoch[640/750], Train Loss: 0.6778, Val Acc: 0.6779\n",
      "Epoch[680/750], Train Loss: 0.6729, Val Acc: 0.6723\n",
      "Epoch[720/750], Train Loss: 0.6703, Val Acc: 0.6709\n",
      "\n",
      "Final Test Accuracy: 0.6751\n",
      "\n",
      "Classification Report:\n",
      "              precision    recall  f1-score   support\n",
      "\n",
      "           0       0.68      0.75      0.71       208\n",
      "           1       0.54      0.53      0.53       187\n",
      "           2       0.76      0.71      0.74       316\n",
      "\n",
      "    accuracy                           0.68       711\n",
      "   macro avg       0.66      0.66      0.66       711\n",
      "weighted avg       0.68      0.68      0.68       711\n",
      "\n",
      "Feature importance computation failed: name 'feature_names' is not defined\n"
     ]
    },
    {
     "data": {
      "text/html": [],
      "text/plain": [
       "<IPython.core.display.HTML object>"
      ]
     },
     "metadata": {},
     "output_type": "display_data"
    },
    {
     "data": {
      "text/html": [
       "<br>    <style><br>        .wandb-row {<br>            display: flex;<br>            flex-direction: row;<br>            flex-wrap: wrap;<br>            justify-content: flex-start;<br>            width: 100%;<br>        }<br>        .wandb-col {<br>            display: flex;<br>            flex-direction: column;<br>            flex-basis: 100%;<br>            flex: 1;<br>            padding: 10px;<br>        }<br>    </style><br><div class=\"wandb-row\"><div class=\"wandb-col\"><h3>Run history:</h3><br/><table class=\"wandb\"><tr><td>best_val_accuracy</td><td>▁▂▅▇▇▇▇▇▇███████████████████████████████</td></tr><tr><td>epoch</td><td>▁▁▁▁▁▂▂▂▂▂▃▃▃▄▄▄▄▄▄▄▅▅▅▅▅▆▆▆▆▆▆▆▆▇▇▇▇███</td></tr><tr><td>final/Away Win_f1</td><td>▁</td></tr><tr><td>final/Away Win_precision</td><td>▁</td></tr><tr><td>final/Away Win_recall</td><td>▁</td></tr><tr><td>final/Away Win_support</td><td>▁</td></tr><tr><td>final/Draw_f1</td><td>▁</td></tr><tr><td>final/Draw_precision</td><td>▁</td></tr><tr><td>final/Draw_recall</td><td>▁</td></tr><tr><td>final/Draw_support</td><td>▁</td></tr><tr><td>+12</td><td>...</td></tr></table><br/></div><div class=\"wandb-col\"><h3>Run summary:</h3><br/><table class=\"wandb\"><tr><td>best_val_accuracy</td><td>0.68214</td></tr><tr><td>epoch</td><td>749</td></tr><tr><td>final/Away Win_f1</td><td>0.71071</td></tr><tr><td>final/Away Win_precision</td><td>0.67532</td></tr><tr><td>final/Away Win_recall</td><td>0.75</td></tr><tr><td>final/Away Win_support</td><td>208</td></tr><tr><td>final/Draw_f1</td><td>0.53226</td></tr><tr><td>final/Draw_precision</td><td>0.53514</td></tr><tr><td>final/Draw_recall</td><td>0.52941</td></tr><tr><td>final/Draw_support</td><td>187</td></tr><tr><td>+12</td><td>...</td></tr></table><br/></div></div>"
      ],
      "text/plain": [
       "<IPython.core.display.HTML object>"
      ]
     },
     "metadata": {},
     "output_type": "display_data"
    },
    {
     "data": {
      "text/html": [
       " View run <strong style=\"color:#cdcd00\">Match-outcome</strong> at: <a href='https://wandb.ai/adey004azeez-hiipower-academy/football-ml-prediction/runs/5tuljcpw' target=\"_blank\">https://wandb.ai/adey004azeez-hiipower-academy/football-ml-prediction/runs/5tuljcpw</a><br> View project at: <a href='https://wandb.ai/adey004azeez-hiipower-academy/football-ml-prediction' target=\"_blank\">https://wandb.ai/adey004azeez-hiipower-academy/football-ml-prediction</a><br>Synced 5 W&B file(s), 1 media file(s), 2 artifact file(s) and 0 other file(s)"
      ],
      "text/plain": [
       "<IPython.core.display.HTML object>"
      ]
     },
     "metadata": {},
     "output_type": "display_data"
    },
    {
     "data": {
      "text/html": [
       "Find logs at: <code>.\\wandb\\run-20251007_195956-5tuljcpw\\logs</code>"
      ],
      "text/plain": [
       "<IPython.core.display.HTML object>"
      ]
     },
     "metadata": {},
     "output_type": "display_data"
    },
    {
     "name": "stderr",
     "output_type": "stream",
     "text": [
      "wandb: Agent Starting Run: p8ggmo17 with config:\n",
      "wandb: \tdropout_prob: 0.21978806994294992\n",
      "wandb: \thidden_size: 56\n",
      "wandb: \tlearning_rate: 0.01727645817253503\n",
      "wandb: \tnum_epochs: 750\n"
     ]
    },
    {
     "data": {
      "text/html": [],
      "text/plain": [
       "<IPython.core.display.HTML object>"
      ]
     },
     "metadata": {},
     "output_type": "display_data"
    },
    {
     "data": {
      "text/html": [
       "Tracking run with wandb version 0.22.0"
      ],
      "text/plain": [
       "<IPython.core.display.HTML object>"
      ]
     },
     "metadata": {},
     "output_type": "display_data"
    },
    {
     "data": {
      "text/html": [
       "Run data is saved locally in <code>C:\\Users\\USER\\PycharmProjects\\deply\\wandb\\run-20251007_200023-p8ggmo17</code>"
      ],
      "text/plain": [
       "<IPython.core.display.HTML object>"
      ]
     },
     "metadata": {},
     "output_type": "display_data"
    },
    {
     "data": {
      "text/html": [
       "Syncing run <strong><a href='https://wandb.ai/adey004azeez-hiipower-academy/football-ml-prediction/runs/p8ggmo17' target=\"_blank\">Match-outcome</a></strong> to <a href='https://wandb.ai/adey004azeez-hiipower-academy/football-ml-prediction' target=\"_blank\">Weights & Biases</a> (<a href='https://wandb.me/developer-guide' target=\"_blank\">docs</a>)<br>Sweep page: <a href='https://wandb.ai/adey004azeez-hiipower-academy/football-ml-prediction/sweeps/zsvmpjcl' target=\"_blank\">https://wandb.ai/adey004azeez-hiipower-academy/football-ml-prediction/sweeps/zsvmpjcl</a>"
      ],
      "text/plain": [
       "<IPython.core.display.HTML object>"
      ]
     },
     "metadata": {},
     "output_type": "display_data"
    },
    {
     "data": {
      "text/html": [
       " View project at <a href='https://wandb.ai/adey004azeez-hiipower-academy/football-ml-prediction' target=\"_blank\">https://wandb.ai/adey004azeez-hiipower-academy/football-ml-prediction</a>"
      ],
      "text/plain": [
       "<IPython.core.display.HTML object>"
      ]
     },
     "metadata": {},
     "output_type": "display_data"
    },
    {
     "data": {
      "text/html": [
       " View sweep at <a href='https://wandb.ai/adey004azeez-hiipower-academy/football-ml-prediction/sweeps/zsvmpjcl' target=\"_blank\">https://wandb.ai/adey004azeez-hiipower-academy/football-ml-prediction/sweeps/zsvmpjcl</a>"
      ],
      "text/plain": [
       "<IPython.core.display.HTML object>"
      ]
     },
     "metadata": {},
     "output_type": "display_data"
    },
    {
     "data": {
      "text/html": [
       " View run at <a href='https://wandb.ai/adey004azeez-hiipower-academy/football-ml-prediction/runs/p8ggmo17' target=\"_blank\">https://wandb.ai/adey004azeez-hiipower-academy/football-ml-prediction/runs/p8ggmo17</a>"
      ],
      "text/plain": [
       "<IPython.core.display.HTML object>"
      ]
     },
     "metadata": {},
     "output_type": "display_data"
    },
    {
     "name": "stdout",
     "output_type": "stream",
     "text": [
      "Epoch[40/750], Train Loss: 0.7590, Val Acc: 0.6568\n",
      "Epoch[80/750], Train Loss: 0.7184, Val Acc: 0.6498\n",
      "Epoch[120/750], Train Loss: 0.6913, Val Acc: 0.6568\n",
      "Epoch[160/750], Train Loss: 0.6747, Val Acc: 0.6667\n",
      "Epoch[200/750], Train Loss: 0.6652, Val Acc: 0.6737\n",
      "Epoch[240/750], Train Loss: 0.6597, Val Acc: 0.6681\n",
      "Epoch[280/750], Train Loss: 0.6550, Val Acc: 0.6596\n",
      "Epoch[320/750], Train Loss: 0.6484, Val Acc: 0.6695\n",
      "Epoch[360/750], Train Loss: 0.6391, Val Acc: 0.6639\n",
      "Epoch[400/750], Train Loss: 0.6394, Val Acc: 0.6709\n",
      "Epoch[440/750], Train Loss: 0.6402, Val Acc: 0.6610\n",
      "Epoch[480/750], Train Loss: 0.6369, Val Acc: 0.6667\n",
      "Epoch[520/750], Train Loss: 0.6340, Val Acc: 0.6695\n",
      "Epoch[560/750], Train Loss: 0.6269, Val Acc: 0.6709\n",
      "Epoch[600/750], Train Loss: 0.6258, Val Acc: 0.6765\n",
      "Epoch[640/750], Train Loss: 0.6269, Val Acc: 0.6695\n",
      "Epoch[680/750], Train Loss: 0.6244, Val Acc: 0.6751\n",
      "Epoch[720/750], Train Loss: 0.6290, Val Acc: 0.6751\n",
      "\n",
      "Final Test Accuracy: 0.6695\n",
      "\n",
      "Classification Report:\n",
      "              precision    recall  f1-score   support\n",
      "\n",
      "           0       0.68      0.71      0.70       208\n",
      "           1       0.52      0.56      0.54       187\n",
      "           2       0.76      0.71      0.73       316\n",
      "\n",
      "    accuracy                           0.67       711\n",
      "   macro avg       0.65      0.66      0.66       711\n",
      "weighted avg       0.67      0.67      0.67       711\n",
      "\n",
      "Feature importance computation failed: name 'feature_names' is not defined\n"
     ]
    },
    {
     "data": {
      "text/html": [],
      "text/plain": [
       "<IPython.core.display.HTML object>"
      ]
     },
     "metadata": {},
     "output_type": "display_data"
    },
    {
     "data": {
      "text/html": [
       "<br>    <style><br>        .wandb-row {<br>            display: flex;<br>            flex-direction: row;<br>            flex-wrap: wrap;<br>            justify-content: flex-start;<br>            width: 100%;<br>        }<br>        .wandb-col {<br>            display: flex;<br>            flex-direction: column;<br>            flex-basis: 100%;<br>            flex: 1;<br>            padding: 10px;<br>        }<br>    </style><br><div class=\"wandb-row\"><div class=\"wandb-col\"><h3>Run history:</h3><br/><table class=\"wandb\"><tr><td>best_val_accuracy</td><td>▁▃▅▅▅▆▆▆▆▆▆▇▇▇▇▇▇▇▇▇▇▇▇▇▇▇▇█████████████</td></tr><tr><td>epoch</td><td>▁▁▁▁▁▁▁▂▂▂▂▂▂▂▂▃▃▃▄▄▄▄▄▅▅▅▆▆▆▆▆▇▇▇▇▇▇███</td></tr><tr><td>final/Away Win_f1</td><td>▁</td></tr><tr><td>final/Away Win_precision</td><td>▁</td></tr><tr><td>final/Away Win_recall</td><td>▁</td></tr><tr><td>final/Away Win_support</td><td>▁</td></tr><tr><td>final/Draw_f1</td><td>▁</td></tr><tr><td>final/Draw_precision</td><td>▁</td></tr><tr><td>final/Draw_recall</td><td>▁</td></tr><tr><td>final/Draw_support</td><td>▁</td></tr><tr><td>+12</td><td>...</td></tr></table><br/></div><div class=\"wandb-col\"><h3>Run summary:</h3><br/><table class=\"wandb\"><tr><td>best_val_accuracy</td><td>0.68495</td></tr><tr><td>epoch</td><td>749</td></tr><tr><td>final/Away Win_f1</td><td>0.69647</td></tr><tr><td>final/Away Win_precision</td><td>0.68203</td></tr><tr><td>final/Away Win_recall</td><td>0.71154</td></tr><tr><td>final/Away Win_support</td><td>208</td></tr><tr><td>final/Draw_f1</td><td>0.53886</td></tr><tr><td>final/Draw_precision</td><td>0.52261</td></tr><tr><td>final/Draw_recall</td><td>0.55615</td></tr><tr><td>final/Draw_support</td><td>187</td></tr><tr><td>+12</td><td>...</td></tr></table><br/></div></div>"
      ],
      "text/plain": [
       "<IPython.core.display.HTML object>"
      ]
     },
     "metadata": {},
     "output_type": "display_data"
    },
    {
     "data": {
      "text/html": [
       " View run <strong style=\"color:#cdcd00\">Match-outcome</strong> at: <a href='https://wandb.ai/adey004azeez-hiipower-academy/football-ml-prediction/runs/p8ggmo17' target=\"_blank\">https://wandb.ai/adey004azeez-hiipower-academy/football-ml-prediction/runs/p8ggmo17</a><br> View project at: <a href='https://wandb.ai/adey004azeez-hiipower-academy/football-ml-prediction' target=\"_blank\">https://wandb.ai/adey004azeez-hiipower-academy/football-ml-prediction</a><br>Synced 5 W&B file(s), 1 media file(s), 2 artifact file(s) and 0 other file(s)"
      ],
      "text/plain": [
       "<IPython.core.display.HTML object>"
      ]
     },
     "metadata": {},
     "output_type": "display_data"
    },
    {
     "data": {
      "text/html": [
       "Find logs at: <code>.\\wandb\\run-20251007_200023-p8ggmo17\\logs</code>"
      ],
      "text/plain": [
       "<IPython.core.display.HTML object>"
      ]
     },
     "metadata": {},
     "output_type": "display_data"
    },
    {
     "name": "stderr",
     "output_type": "stream",
     "text": [
      "wandb: Agent Starting Run: b95q6b7o with config:\n",
      "wandb: \tdropout_prob: 0.3266053852660812\n",
      "wandb: \thidden_size: 56\n",
      "wandb: \tlearning_rate: 0.010469186290631169\n",
      "wandb: \tnum_epochs: 1000\n"
     ]
    },
    {
     "data": {
      "text/html": [],
      "text/plain": [
       "<IPython.core.display.HTML object>"
      ]
     },
     "metadata": {},
     "output_type": "display_data"
    },
    {
     "data": {
      "text/html": [
       "Tracking run with wandb version 0.22.0"
      ],
      "text/plain": [
       "<IPython.core.display.HTML object>"
      ]
     },
     "metadata": {},
     "output_type": "display_data"
    },
    {
     "data": {
      "text/html": [
       "Run data is saved locally in <code>C:\\Users\\USER\\PycharmProjects\\deply\\wandb\\run-20251007_200055-b95q6b7o</code>"
      ],
      "text/plain": [
       "<IPython.core.display.HTML object>"
      ]
     },
     "metadata": {},
     "output_type": "display_data"
    },
    {
     "data": {
      "text/html": [
       "Syncing run <strong><a href='https://wandb.ai/adey004azeez-hiipower-academy/football-ml-prediction/runs/b95q6b7o' target=\"_blank\">Match-outcome</a></strong> to <a href='https://wandb.ai/adey004azeez-hiipower-academy/football-ml-prediction' target=\"_blank\">Weights & Biases</a> (<a href='https://wandb.me/developer-guide' target=\"_blank\">docs</a>)<br>Sweep page: <a href='https://wandb.ai/adey004azeez-hiipower-academy/football-ml-prediction/sweeps/zsvmpjcl' target=\"_blank\">https://wandb.ai/adey004azeez-hiipower-academy/football-ml-prediction/sweeps/zsvmpjcl</a>"
      ],
      "text/plain": [
       "<IPython.core.display.HTML object>"
      ]
     },
     "metadata": {},
     "output_type": "display_data"
    },
    {
     "data": {
      "text/html": [
       " View project at <a href='https://wandb.ai/adey004azeez-hiipower-academy/football-ml-prediction' target=\"_blank\">https://wandb.ai/adey004azeez-hiipower-academy/football-ml-prediction</a>"
      ],
      "text/plain": [
       "<IPython.core.display.HTML object>"
      ]
     },
     "metadata": {},
     "output_type": "display_data"
    },
    {
     "data": {
      "text/html": [
       " View sweep at <a href='https://wandb.ai/adey004azeez-hiipower-academy/football-ml-prediction/sweeps/zsvmpjcl' target=\"_blank\">https://wandb.ai/adey004azeez-hiipower-academy/football-ml-prediction/sweeps/zsvmpjcl</a>"
      ],
      "text/plain": [
       "<IPython.core.display.HTML object>"
      ]
     },
     "metadata": {},
     "output_type": "display_data"
    },
    {
     "data": {
      "text/html": [
       " View run at <a href='https://wandb.ai/adey004azeez-hiipower-academy/football-ml-prediction/runs/b95q6b7o' target=\"_blank\">https://wandb.ai/adey004azeez-hiipower-academy/football-ml-prediction/runs/b95q6b7o</a>"
      ],
      "text/plain": [
       "<IPython.core.display.HTML object>"
      ]
     },
     "metadata": {},
     "output_type": "display_data"
    },
    {
     "name": "stdout",
     "output_type": "stream",
     "text": [
      "Epoch[40/1000], Train Loss: 0.7960, Val Acc: 0.6498\n",
      "Epoch[80/1000], Train Loss: 0.7474, Val Acc: 0.6653\n",
      "Epoch[120/1000], Train Loss: 0.7209, Val Acc: 0.6653\n",
      "Epoch[160/1000], Train Loss: 0.7076, Val Acc: 0.6610\n",
      "Epoch[200/1000], Train Loss: 0.7016, Val Acc: 0.6582\n",
      "Epoch[240/1000], Train Loss: 0.6883, Val Acc: 0.6568\n",
      "Epoch[280/1000], Train Loss: 0.6825, Val Acc: 0.6596\n",
      "Epoch[320/1000], Train Loss: 0.6833, Val Acc: 0.6624\n",
      "Epoch[360/1000], Train Loss: 0.6756, Val Acc: 0.6639\n",
      "Epoch[400/1000], Train Loss: 0.6708, Val Acc: 0.6667\n",
      "Epoch[440/1000], Train Loss: 0.6713, Val Acc: 0.6681\n",
      "Epoch[480/1000], Train Loss: 0.6703, Val Acc: 0.6695\n",
      "Epoch[520/1000], Train Loss: 0.6671, Val Acc: 0.6709\n",
      "Epoch[560/1000], Train Loss: 0.6598, Val Acc: 0.6624\n",
      "Epoch[600/1000], Train Loss: 0.6596, Val Acc: 0.6695\n",
      "Epoch[640/1000], Train Loss: 0.6604, Val Acc: 0.6653\n",
      "Epoch[680/1000], Train Loss: 0.6533, Val Acc: 0.6765\n",
      "Epoch[720/1000], Train Loss: 0.6558, Val Acc: 0.6624\n",
      "Epoch[760/1000], Train Loss: 0.6558, Val Acc: 0.6709\n",
      "Epoch[800/1000], Train Loss: 0.6532, Val Acc: 0.6723\n",
      "Epoch[840/1000], Train Loss: 0.6515, Val Acc: 0.6695\n",
      "Epoch[880/1000], Train Loss: 0.6524, Val Acc: 0.6667\n",
      "Epoch[920/1000], Train Loss: 0.6421, Val Acc: 0.6723\n",
      "Epoch[960/1000], Train Loss: 0.6408, Val Acc: 0.6709\n",
      "Epoch[1000/1000], Train Loss: 0.6437, Val Acc: 0.6695\n",
      "\n",
      "Final Test Accuracy: 0.6695\n",
      "\n",
      "Classification Report:\n",
      "              precision    recall  f1-score   support\n",
      "\n",
      "           0       0.64      0.72      0.68       208\n",
      "           1       0.55      0.51      0.53       187\n",
      "           2       0.76      0.73      0.74       316\n",
      "\n",
      "    accuracy                           0.67       711\n",
      "   macro avg       0.65      0.65      0.65       711\n",
      "weighted avg       0.67      0.67      0.67       711\n",
      "\n",
      "Feature importance computation failed: name 'feature_names' is not defined\n"
     ]
    },
    {
     "data": {
      "text/html": [],
      "text/plain": [
       "<IPython.core.display.HTML object>"
      ]
     },
     "metadata": {},
     "output_type": "display_data"
    },
    {
     "data": {
      "text/html": [
       "<br>    <style><br>        .wandb-row {<br>            display: flex;<br>            flex-direction: row;<br>            flex-wrap: wrap;<br>            justify-content: flex-start;<br>            width: 100%;<br>        }<br>        .wandb-col {<br>            display: flex;<br>            flex-direction: column;<br>            flex-basis: 100%;<br>            flex: 1;<br>            padding: 10px;<br>        }<br>    </style><br><div class=\"wandb-row\"><div class=\"wandb-col\"><h3>Run history:</h3><br/><table class=\"wandb\"><tr><td>best_val_accuracy</td><td>▁▃▇▇▇▇▇▇▇▇▇▇▇▇▇▇▇███████████████████████</td></tr><tr><td>epoch</td><td>▁▁▁▁▂▂▂▂▂▂▂▂▂▂▂▃▃▃▄▄▄▄▄▄▅▅▅▆▆▆▆▆▆▆▆▇▇███</td></tr><tr><td>final/Away Win_f1</td><td>▁</td></tr><tr><td>final/Away Win_precision</td><td>▁</td></tr><tr><td>final/Away Win_recall</td><td>▁</td></tr><tr><td>final/Away Win_support</td><td>▁</td></tr><tr><td>final/Draw_f1</td><td>▁</td></tr><tr><td>final/Draw_precision</td><td>▁</td></tr><tr><td>final/Draw_recall</td><td>▁</td></tr><tr><td>final/Draw_support</td><td>▁</td></tr><tr><td>+12</td><td>...</td></tr></table><br/></div><div class=\"wandb-col\"><h3>Run summary:</h3><br/><table class=\"wandb\"><tr><td>best_val_accuracy</td><td>0.68214</td></tr><tr><td>epoch</td><td>999</td></tr><tr><td>final/Away Win_f1</td><td>0.67873</td></tr><tr><td>final/Away Win_precision</td><td>0.64103</td></tr><tr><td>final/Away Win_recall</td><td>0.72115</td></tr><tr><td>final/Away Win_support</td><td>208</td></tr><tr><td>final/Draw_f1</td><td>0.53186</td></tr><tr><td>final/Draw_precision</td><td>0.55172</td></tr><tr><td>final/Draw_recall</td><td>0.51337</td></tr><tr><td>final/Draw_support</td><td>187</td></tr><tr><td>+12</td><td>...</td></tr></table><br/></div></div>"
      ],
      "text/plain": [
       "<IPython.core.display.HTML object>"
      ]
     },
     "metadata": {},
     "output_type": "display_data"
    },
    {
     "data": {
      "text/html": [
       " View run <strong style=\"color:#cdcd00\">Match-outcome</strong> at: <a href='https://wandb.ai/adey004azeez-hiipower-academy/football-ml-prediction/runs/b95q6b7o' target=\"_blank\">https://wandb.ai/adey004azeez-hiipower-academy/football-ml-prediction/runs/b95q6b7o</a><br> View project at: <a href='https://wandb.ai/adey004azeez-hiipower-academy/football-ml-prediction' target=\"_blank\">https://wandb.ai/adey004azeez-hiipower-academy/football-ml-prediction</a><br>Synced 5 W&B file(s), 1 media file(s), 2 artifact file(s) and 0 other file(s)"
      ],
      "text/plain": [
       "<IPython.core.display.HTML object>"
      ]
     },
     "metadata": {},
     "output_type": "display_data"
    },
    {
     "data": {
      "text/html": [
       "Find logs at: <code>.\\wandb\\run-20251007_200055-b95q6b7o\\logs</code>"
      ],
      "text/plain": [
       "<IPython.core.display.HTML object>"
      ]
     },
     "metadata": {},
     "output_type": "display_data"
    },
    {
     "name": "stderr",
     "output_type": "stream",
     "text": [
      "wandb: Sweep Agent: Waiting for job.\n",
      "wandb: Job received.\n",
      "wandb: Agent Starting Run: 8tqd8z8y with config:\n",
      "wandb: \tdropout_prob: 0.2678870051347739\n",
      "wandb: \thidden_size: 32\n",
      "wandb: \tlearning_rate: 0.012996032087273696\n",
      "wandb: \tnum_epochs: 750\n"
     ]
    },
    {
     "data": {
      "text/html": [],
      "text/plain": [
       "<IPython.core.display.HTML object>"
      ]
     },
     "metadata": {},
     "output_type": "display_data"
    },
    {
     "data": {
      "text/html": [
       "Tracking run with wandb version 0.22.0"
      ],
      "text/plain": [
       "<IPython.core.display.HTML object>"
      ]
     },
     "metadata": {},
     "output_type": "display_data"
    },
    {
     "data": {
      "text/html": [
       "Run data is saved locally in <code>C:\\Users\\USER\\PycharmProjects\\deply\\wandb\\run-20251007_200142-8tqd8z8y</code>"
      ],
      "text/plain": [
       "<IPython.core.display.HTML object>"
      ]
     },
     "metadata": {},
     "output_type": "display_data"
    },
    {
     "data": {
      "text/html": [
       "Syncing run <strong><a href='https://wandb.ai/adey004azeez-hiipower-academy/football-ml-prediction/runs/8tqd8z8y' target=\"_blank\">Match-outcome</a></strong> to <a href='https://wandb.ai/adey004azeez-hiipower-academy/football-ml-prediction' target=\"_blank\">Weights & Biases</a> (<a href='https://wandb.me/developer-guide' target=\"_blank\">docs</a>)<br>Sweep page: <a href='https://wandb.ai/adey004azeez-hiipower-academy/football-ml-prediction/sweeps/zsvmpjcl' target=\"_blank\">https://wandb.ai/adey004azeez-hiipower-academy/football-ml-prediction/sweeps/zsvmpjcl</a>"
      ],
      "text/plain": [
       "<IPython.core.display.HTML object>"
      ]
     },
     "metadata": {},
     "output_type": "display_data"
    },
    {
     "data": {
      "text/html": [
       " View project at <a href='https://wandb.ai/adey004azeez-hiipower-academy/football-ml-prediction' target=\"_blank\">https://wandb.ai/adey004azeez-hiipower-academy/football-ml-prediction</a>"
      ],
      "text/plain": [
       "<IPython.core.display.HTML object>"
      ]
     },
     "metadata": {},
     "output_type": "display_data"
    },
    {
     "data": {
      "text/html": [
       " View sweep at <a href='https://wandb.ai/adey004azeez-hiipower-academy/football-ml-prediction/sweeps/zsvmpjcl' target=\"_blank\">https://wandb.ai/adey004azeez-hiipower-academy/football-ml-prediction/sweeps/zsvmpjcl</a>"
      ],
      "text/plain": [
       "<IPython.core.display.HTML object>"
      ]
     },
     "metadata": {},
     "output_type": "display_data"
    },
    {
     "data": {
      "text/html": [
       " View run at <a href='https://wandb.ai/adey004azeez-hiipower-academy/football-ml-prediction/runs/8tqd8z8y' target=\"_blank\">https://wandb.ai/adey004azeez-hiipower-academy/football-ml-prediction/runs/8tqd8z8y</a>"
      ],
      "text/plain": [
       "<IPython.core.display.HTML object>"
      ]
     },
     "metadata": {},
     "output_type": "display_data"
    },
    {
     "name": "stdout",
     "output_type": "stream",
     "text": [
      "Epoch[40/750], Train Loss: 0.7990, Val Acc: 0.6301\n",
      "Epoch[80/750], Train Loss: 0.7498, Val Acc: 0.6568\n",
      "Epoch[120/750], Train Loss: 0.7330, Val Acc: 0.6610\n",
      "Epoch[160/750], Train Loss: 0.7171, Val Acc: 0.6681\n",
      "Epoch[200/750], Train Loss: 0.7122, Val Acc: 0.6610\n",
      "Epoch[240/750], Train Loss: 0.7019, Val Acc: 0.6653\n",
      "Epoch[280/750], Train Loss: 0.6943, Val Acc: 0.6695\n",
      "Epoch[320/750], Train Loss: 0.6926, Val Acc: 0.6596\n",
      "Epoch[360/750], Train Loss: 0.6880, Val Acc: 0.6765\n",
      "Epoch[400/750], Train Loss: 0.6902, Val Acc: 0.6667\n",
      "Epoch[440/750], Train Loss: 0.6839, Val Acc: 0.6681\n",
      "Epoch[480/750], Train Loss: 0.6862, Val Acc: 0.6709\n",
      "Epoch[520/750], Train Loss: 0.6817, Val Acc: 0.6667\n",
      "Epoch[560/750], Train Loss: 0.6823, Val Acc: 0.6681\n",
      "Epoch[600/750], Train Loss: 0.6780, Val Acc: 0.6723\n",
      "Epoch[640/750], Train Loss: 0.6824, Val Acc: 0.6723\n",
      "Epoch[680/750], Train Loss: 0.6805, Val Acc: 0.6653\n",
      "Epoch[720/750], Train Loss: 0.6756, Val Acc: 0.6667\n",
      "\n",
      "Final Test Accuracy: 0.6709\n",
      "\n",
      "Classification Report:\n",
      "              precision    recall  f1-score   support\n",
      "\n",
      "           0       0.64      0.76      0.70       208\n",
      "           1       0.55      0.50      0.52       187\n",
      "           2       0.76      0.71      0.74       316\n",
      "\n",
      "    accuracy                           0.67       711\n",
      "   macro avg       0.65      0.66      0.65       711\n",
      "weighted avg       0.67      0.67      0.67       711\n",
      "\n",
      "Feature importance computation failed: name 'feature_names' is not defined\n"
     ]
    },
    {
     "data": {
      "text/html": [],
      "text/plain": [
       "<IPython.core.display.HTML object>"
      ]
     },
     "metadata": {},
     "output_type": "display_data"
    },
    {
     "data": {
      "text/html": [
       "<br>    <style><br>        .wandb-row {<br>            display: flex;<br>            flex-direction: row;<br>            flex-wrap: wrap;<br>            justify-content: flex-start;<br>            width: 100%;<br>        }<br>        .wandb-col {<br>            display: flex;<br>            flex-direction: column;<br>            flex-basis: 100%;<br>            flex: 1;<br>            padding: 10px;<br>        }<br>    </style><br><div class=\"wandb-row\"><div class=\"wandb-col\"><h3>Run history:</h3><br/><table class=\"wandb\"><tr><td>best_val_accuracy</td><td>▁▂▂▂▄▅▅▆▆▆▆▆▇▇▇▇▇▇▇▇▇▇▇▇▇▇██████████████</td></tr><tr><td>epoch</td><td>▁▁▁▁▂▂▂▂▂▂▃▃▃▃▃▄▄▄▄▄▄▄▄▅▅▆▆▆▆▇▇▇▇▇▇█████</td></tr><tr><td>final/Away Win_f1</td><td>▁</td></tr><tr><td>final/Away Win_precision</td><td>▁</td></tr><tr><td>final/Away Win_recall</td><td>▁</td></tr><tr><td>final/Away Win_support</td><td>▁</td></tr><tr><td>final/Draw_f1</td><td>▁</td></tr><tr><td>final/Draw_precision</td><td>▁</td></tr><tr><td>final/Draw_recall</td><td>▁</td></tr><tr><td>final/Draw_support</td><td>▁</td></tr><tr><td>+12</td><td>...</td></tr></table><br/></div><div class=\"wandb-col\"><h3>Run summary:</h3><br/><table class=\"wandb\"><tr><td>best_val_accuracy</td><td>0.68073</td></tr><tr><td>epoch</td><td>749</td></tr><tr><td>final/Away Win_f1</td><td>0.6989</td></tr><tr><td>final/Away Win_precision</td><td>0.64372</td></tr><tr><td>final/Away Win_recall</td><td>0.76442</td></tr><tr><td>final/Away Win_support</td><td>208</td></tr><tr><td>final/Draw_f1</td><td>0.52247</td></tr><tr><td>final/Draw_precision</td><td>0.5503</td></tr><tr><td>final/Draw_recall</td><td>0.49733</td></tr><tr><td>final/Draw_support</td><td>187</td></tr><tr><td>+12</td><td>...</td></tr></table><br/></div></div>"
      ],
      "text/plain": [
       "<IPython.core.display.HTML object>"
      ]
     },
     "metadata": {},
     "output_type": "display_data"
    },
    {
     "data": {
      "text/html": [
       " View run <strong style=\"color:#cdcd00\">Match-outcome</strong> at: <a href='https://wandb.ai/adey004azeez-hiipower-academy/football-ml-prediction/runs/8tqd8z8y' target=\"_blank\">https://wandb.ai/adey004azeez-hiipower-academy/football-ml-prediction/runs/8tqd8z8y</a><br> View project at: <a href='https://wandb.ai/adey004azeez-hiipower-academy/football-ml-prediction' target=\"_blank\">https://wandb.ai/adey004azeez-hiipower-academy/football-ml-prediction</a><br>Synced 5 W&B file(s), 1 media file(s), 2 artifact file(s) and 0 other file(s)"
      ],
      "text/plain": [
       "<IPython.core.display.HTML object>"
      ]
     },
     "metadata": {},
     "output_type": "display_data"
    },
    {
     "data": {
      "text/html": [
       "Find logs at: <code>.\\wandb\\run-20251007_200142-8tqd8z8y\\logs</code>"
      ],
      "text/plain": [
       "<IPython.core.display.HTML object>"
      ]
     },
     "metadata": {},
     "output_type": "display_data"
    },
    {
     "name": "stderr",
     "output_type": "stream",
     "text": [
      "wandb: Sweep Agent: Waiting for job.\n",
      "wandb: Job received.\n",
      "wandb: Agent Starting Run: 0rgbas32 with config:\n",
      "wandb: \tdropout_prob: 0.3136241096453559\n",
      "wandb: \thidden_size: 42\n",
      "wandb: \tlearning_rate: 0.015376883441364396\n",
      "wandb: \tnum_epochs: 750\n"
     ]
    },
    {
     "data": {
      "text/html": [],
      "text/plain": [
       "<IPython.core.display.HTML object>"
      ]
     },
     "metadata": {},
     "output_type": "display_data"
    },
    {
     "data": {
      "text/html": [
       "Tracking run with wandb version 0.22.0"
      ],
      "text/plain": [
       "<IPython.core.display.HTML object>"
      ]
     },
     "metadata": {},
     "output_type": "display_data"
    },
    {
     "data": {
      "text/html": [
       "Run data is saved locally in <code>C:\\Users\\USER\\PycharmProjects\\deply\\wandb\\run-20251007_200214-0rgbas32</code>"
      ],
      "text/plain": [
       "<IPython.core.display.HTML object>"
      ]
     },
     "metadata": {},
     "output_type": "display_data"
    },
    {
     "data": {
      "text/html": [
       "Syncing run <strong><a href='https://wandb.ai/adey004azeez-hiipower-academy/football-ml-prediction/runs/0rgbas32' target=\"_blank\">Match-outcome</a></strong> to <a href='https://wandb.ai/adey004azeez-hiipower-academy/football-ml-prediction' target=\"_blank\">Weights & Biases</a> (<a href='https://wandb.me/developer-guide' target=\"_blank\">docs</a>)<br>Sweep page: <a href='https://wandb.ai/adey004azeez-hiipower-academy/football-ml-prediction/sweeps/zsvmpjcl' target=\"_blank\">https://wandb.ai/adey004azeez-hiipower-academy/football-ml-prediction/sweeps/zsvmpjcl</a>"
      ],
      "text/plain": [
       "<IPython.core.display.HTML object>"
      ]
     },
     "metadata": {},
     "output_type": "display_data"
    },
    {
     "data": {
      "text/html": [
       " View project at <a href='https://wandb.ai/adey004azeez-hiipower-academy/football-ml-prediction' target=\"_blank\">https://wandb.ai/adey004azeez-hiipower-academy/football-ml-prediction</a>"
      ],
      "text/plain": [
       "<IPython.core.display.HTML object>"
      ]
     },
     "metadata": {},
     "output_type": "display_data"
    },
    {
     "data": {
      "text/html": [
       " View sweep at <a href='https://wandb.ai/adey004azeez-hiipower-academy/football-ml-prediction/sweeps/zsvmpjcl' target=\"_blank\">https://wandb.ai/adey004azeez-hiipower-academy/football-ml-prediction/sweeps/zsvmpjcl</a>"
      ],
      "text/plain": [
       "<IPython.core.display.HTML object>"
      ]
     },
     "metadata": {},
     "output_type": "display_data"
    },
    {
     "data": {
      "text/html": [
       " View run at <a href='https://wandb.ai/adey004azeez-hiipower-academy/football-ml-prediction/runs/0rgbas32' target=\"_blank\">https://wandb.ai/adey004azeez-hiipower-academy/football-ml-prediction/runs/0rgbas32</a>"
      ],
      "text/plain": [
       "<IPython.core.display.HTML object>"
      ]
     },
     "metadata": {},
     "output_type": "display_data"
    },
    {
     "name": "stdout",
     "output_type": "stream",
     "text": [
      "Epoch[40/750], Train Loss: 0.7849, Val Acc: 0.6568\n",
      "Epoch[80/750], Train Loss: 0.7431, Val Acc: 0.6582\n",
      "Epoch[120/750], Train Loss: 0.7183, Val Acc: 0.6512\n",
      "Epoch[160/750], Train Loss: 0.7121, Val Acc: 0.6568\n",
      "Epoch[200/750], Train Loss: 0.7018, Val Acc: 0.6695\n",
      "Epoch[240/750], Train Loss: 0.6952, Val Acc: 0.6639\n",
      "Epoch[280/750], Train Loss: 0.6912, Val Acc: 0.6667\n",
      "Epoch[320/750], Train Loss: 0.6812, Val Acc: 0.6653\n",
      "Epoch[360/750], Train Loss: 0.6780, Val Acc: 0.6667\n",
      "Epoch[400/750], Train Loss: 0.6757, Val Acc: 0.6709\n",
      "Epoch[440/750], Train Loss: 0.6793, Val Acc: 0.6751\n",
      "Epoch[480/750], Train Loss: 0.6694, Val Acc: 0.6723\n",
      "Epoch[520/750], Train Loss: 0.6700, Val Acc: 0.6737\n",
      "Epoch[560/750], Train Loss: 0.6749, Val Acc: 0.6709\n",
      "Epoch[600/750], Train Loss: 0.6701, Val Acc: 0.6751\n",
      "Epoch[640/750], Train Loss: 0.6731, Val Acc: 0.6709\n",
      "Epoch[680/750], Train Loss: 0.6690, Val Acc: 0.6681\n",
      "Epoch[720/750], Train Loss: 0.6669, Val Acc: 0.6737\n",
      "\n",
      "Final Test Accuracy: 0.6709\n",
      "\n",
      "Classification Report:\n",
      "              precision    recall  f1-score   support\n",
      "\n",
      "           0       0.65      0.74      0.69       208\n",
      "           1       0.54      0.50      0.52       187\n",
      "           2       0.76      0.72      0.74       316\n",
      "\n",
      "    accuracy                           0.67       711\n",
      "   macro avg       0.65      0.66      0.65       711\n",
      "weighted avg       0.67      0.67      0.67       711\n",
      "\n",
      "Feature importance computation failed: name 'feature_names' is not defined\n"
     ]
    },
    {
     "data": {
      "text/html": [],
      "text/plain": [
       "<IPython.core.display.HTML object>"
      ]
     },
     "metadata": {},
     "output_type": "display_data"
    },
    {
     "data": {
      "text/html": [
       "<br>    <style><br>        .wandb-row {<br>            display: flex;<br>            flex-direction: row;<br>            flex-wrap: wrap;<br>            justify-content: flex-start;<br>            width: 100%;<br>        }<br>        .wandb-col {<br>            display: flex;<br>            flex-direction: column;<br>            flex-basis: 100%;<br>            flex: 1;<br>            padding: 10px;<br>        }<br>    </style><br><div class=\"wandb-row\"><div class=\"wandb-col\"><h3>Run history:</h3><br/><table class=\"wandb\"><tr><td>best_val_accuracy</td><td>▁▁▄▅▅▆▆▆▆▆▆▆▆▇▇▇▇▇▇▇▇▇▇▇▇▇▇▇▇▇██████████</td></tr><tr><td>epoch</td><td>▁▁▁▁▁▂▂▂▂▂▂▂▂▃▃▄▄▄▄▄▅▅▆▆▆▆▆▆▇▇▇▇▇▇██████</td></tr><tr><td>final/Away Win_f1</td><td>▁</td></tr><tr><td>final/Away Win_precision</td><td>▁</td></tr><tr><td>final/Away Win_recall</td><td>▁</td></tr><tr><td>final/Away Win_support</td><td>▁</td></tr><tr><td>final/Draw_f1</td><td>▁</td></tr><tr><td>final/Draw_precision</td><td>▁</td></tr><tr><td>final/Draw_recall</td><td>▁</td></tr><tr><td>final/Draw_support</td><td>▁</td></tr><tr><td>+12</td><td>...</td></tr></table><br/></div><div class=\"wandb-col\"><h3>Run summary:</h3><br/><table class=\"wandb\"><tr><td>best_val_accuracy</td><td>0.68495</td></tr><tr><td>epoch</td><td>749</td></tr><tr><td>final/Away Win_f1</td><td>0.69369</td></tr><tr><td>final/Away Win_precision</td><td>0.65254</td></tr><tr><td>final/Away Win_recall</td><td>0.74038</td></tr><tr><td>final/Away Win_support</td><td>208</td></tr><tr><td>final/Draw_f1</td><td>0.51934</td></tr><tr><td>final/Draw_precision</td><td>0.53714</td></tr><tr><td>final/Draw_recall</td><td>0.50267</td></tr><tr><td>final/Draw_support</td><td>187</td></tr><tr><td>+12</td><td>...</td></tr></table><br/></div></div>"
      ],
      "text/plain": [
       "<IPython.core.display.HTML object>"
      ]
     },
     "metadata": {},
     "output_type": "display_data"
    },
    {
     "data": {
      "text/html": [
       " View run <strong style=\"color:#cdcd00\">Match-outcome</strong> at: <a href='https://wandb.ai/adey004azeez-hiipower-academy/football-ml-prediction/runs/0rgbas32' target=\"_blank\">https://wandb.ai/adey004azeez-hiipower-academy/football-ml-prediction/runs/0rgbas32</a><br> View project at: <a href='https://wandb.ai/adey004azeez-hiipower-academy/football-ml-prediction' target=\"_blank\">https://wandb.ai/adey004azeez-hiipower-academy/football-ml-prediction</a><br>Synced 5 W&B file(s), 1 media file(s), 2 artifact file(s) and 0 other file(s)"
      ],
      "text/plain": [
       "<IPython.core.display.HTML object>"
      ]
     },
     "metadata": {},
     "output_type": "display_data"
    },
    {
     "data": {
      "text/html": [
       "Find logs at: <code>.\\wandb\\run-20251007_200214-0rgbas32\\logs</code>"
      ],
      "text/plain": [
       "<IPython.core.display.HTML object>"
      ]
     },
     "metadata": {},
     "output_type": "display_data"
    },
    {
     "name": "stdout",
     "output_type": "stream",
     "text": [
      "\n",
      "Sweep configuration ready! Uncomment the wandb.agent line to start the sweep.\n"
     ]
    }
   ],
   "source": [
    "import torch\n",
    "import torch.nn as nn\n",
    "import torch.optim as optim\n",
    "from sklearn.metrics import accuracy_score, classification_report, confusion_matrix\n",
    "import wandb\n",
    "from sklearn.utils.class_weight import compute_class_weight\n",
    "\n",
    "\n",
    "\n",
    "\n",
    "# Define model\n",
    "class FootballML(nn.Module):\n",
    "    def __init__(self, input_size, hidden_size, output_dim, dropout_prob=0.3):\n",
    "        super().__init__()\n",
    "        self.fc1 = nn.Linear(input_size, hidden_size)\n",
    "        self.dropout = nn.Dropout(dropout_prob)\n",
    "        self.fc2 = nn.Linear(hidden_size, output_dim)\n",
    "\n",
    "    def forward(self, x):\n",
    "        x = torch.relu(self.fc1(x))\n",
    "        x = self.dropout(x)\n",
    "        output = self.fc2(x)\n",
    "        return output\n",
    "\n",
    "def compute_feature_importance(model, X_tensor, feature_names, device=None):\n",
    "    \"\"\"Compute feature importance using gradient-based method\"\"\"\n",
    "    model.eval()\n",
    "    if device:\n",
    "        X_tensor = X_tensor.to(device)\n",
    "    \n",
    "    X_tensor.requires_grad_(True)\n",
    "    outputs = model(X_tensor)\n",
    "    \n",
    "    # Use the output for class 1 (draw) as reference\n",
    "    score = outputs[:, 1].sum()  # Using draw class as reference\n",
    "    score.backward()\n",
    "    \n",
    "    # Get average absolute gradients\n",
    "    importance = torch.mean(torch.abs(X_tensor.grad), dim=0)\n",
    "    \n",
    "    importance_df = pd.DataFrame({\n",
    "        'Feature': feature_names,\n",
    "        'Importance': importance.cpu().detach().numpy()\n",
    "    }).sort_values('Importance', ascending=False)\n",
    "    \n",
    "    return importance_df\n",
    "\n",
    "# Training function for sweep\n",
    "def train_model(config=None):\n",
    "    with wandb.init(name=\"Match-outcome\",config=config):\n",
    "        config = wandb.config\n",
    "        \n",
    "        # Initialize model with sweep parameters\n",
    "        model = FootballML(\n",
    "            input_size=14,\n",
    "            hidden_size=config.hidden_size,\n",
    "            output_dim=3,\n",
    "            dropout_prob=config.dropout_prob\n",
    "        )\n",
    "        \n",
    "        \n",
    "\n",
    "        # Calculate class weights\n",
    "        classes = np.unique(y_train)\n",
    "        class_weights = compute_class_weight('balanced', classes=classes, y=y_train)\n",
    "        class_weights = torch.tensor(class_weights, dtype=torch.float32)\n",
    "        \n",
    "        # Move model to GPU if available\n",
    "        device = torch.device('cuda' if torch.cuda.is_available() else 'cpu')\n",
    "        model.to(device)\n",
    "        \n",
    "        # Move data to device\n",
    "        X_train_device = X_train_tensor.to(device)\n",
    "        y_train_device = y_train_tensor.to(device)\n",
    "        X_test_device = X_test_tensor.to(device)\n",
    "        y_test_device = y_test_tensor.to(device)\n",
    "        \n",
    "        criterion = nn.CrossEntropyLoss(weight=class_weights)\n",
    "        optimizer = optim.Adam(model.parameters(), lr=config.learning_rate)\n",
    "        \n",
    "        # Track best validation accuracy\n",
    "        best_val_accuracy = 0.0\n",
    "        \n",
    "        # Training loop\n",
    "        for epoch in range(config.num_epochs):\n",
    "            model.train()\n",
    "            outputs = model(X_train_device)\n",
    "            loss = criterion(outputs, y_train_device)\n",
    "            \n",
    "            optimizer.zero_grad()\n",
    "            loss.backward()\n",
    "            optimizer.step()\n",
    "            \n",
    "            # Calculate training accuracy\n",
    "            _, train_preds = torch.max(outputs, 1)\n",
    "            train_acc = (train_preds == y_train_device).float().mean()\n",
    "            \n",
    "            # Validation\n",
    "            model.eval()\n",
    "            with torch.no_grad():\n",
    "                val_outputs = model(X_test_device)\n",
    "                val_loss = criterion(val_outputs, y_test_device)\n",
    "                _, val_preds = torch.max(val_outputs, 1)\n",
    "                val_acc = (val_preds == y_test_device).float().mean()\n",
    "                \n",
    "                # Update best validation accuracy\n",
    "                if val_acc > best_val_accuracy:\n",
    "                    best_val_accuracy = val_acc.item()\n",
    "            \n",
    "            # Log metrics to wandb\n",
    "            wandb.log({\n",
    "                \"epoch\": epoch,\n",
    "                \"train_loss\": loss.item(),\n",
    "                \"train_accuracy\": train_acc.item(),\n",
    "                \"val_loss\": val_loss.item(),\n",
    "                \"val_accuracy\": val_acc.item(),\n",
    "                \"best_val_accuracy\": best_val_accuracy\n",
    "            })\n",
    "            \n",
    "            if (epoch + 1) % 40 == 0:\n",
    "                print(f\"Epoch[{epoch+1}/{config.num_epochs}], Train Loss: {loss.item():.4f}, Val Acc: {val_acc.item():.4f}\")\n",
    "        \n",
    "        # Final evaluation\n",
    "        model.eval()\n",
    "        with torch.no_grad():\n",
    "            final_outputs = model(X_test_device)\n",
    "            final_val_loss = criterion(final_outputs, y_test_device)\n",
    "            _, final_preds = torch.max(final_outputs, 1)\n",
    "            final_val_acc = (final_preds == y_test_device).float().mean()\n",
    "            \n",
    "            # Convert to numpy for sklearn metrics\n",
    "            final_targets_np = y_test_device.cpu().numpy()\n",
    "            final_preds_np = final_preds.cpu().numpy()\n",
    "            \n",
    "            final_acc = accuracy_score(final_targets_np, final_preds_np)\n",
    "        \n",
    "        print(f\"\\nFinal Test Accuracy: {final_acc:.4f}\")\n",
    "        print(\"\\nClassification Report:\")\n",
    "        print(classification_report(final_targets_np, final_preds_np))\n",
    "\n",
    "        # Classification report\n",
    "        class_names = [\"Away Win\", \"Draw\", \"Home Win\"]\n",
    "        report = classification_report(final_targets_np, final_preds_np, \n",
    "                                      target_names=class_names, output_dict=True)\n",
    "        \n",
    "        # Log final metrics\n",
    "        wandb.log({\n",
    "            \"final/val_accuracy\": final_val_acc.item(),\n",
    "            \"final/val_loss\": final_val_loss.item(),\n",
    "            \"final/best_val_accuracy\": best_val_accuracy,\n",
    "            \"final/test_accuracy\": final_acc\n",
    "        })\n",
    "        \n",
    "        # Log per-class metrics\n",
    "        for class_name in class_names:\n",
    "            if class_name in report:  # Check if class exists in report\n",
    "                wandb.log({\n",
    "                    f\"final/{class_name}_precision\": report[class_name]['precision'],\n",
    "                    f\"final/{class_name}_recall\": report[class_name]['recall'],\n",
    "                    f\"final/{class_name}_f1\": report[class_name]['f1-score'],\n",
    "                    f\"final/{class_name}_support\": report[class_name]['support']\n",
    "                })\n",
    "        \n",
    "        # Confusion matrix\n",
    "        cm = confusion_matrix(final_targets_np, final_preds_np)\n",
    "        wandb.log({\n",
    "            \"confusion_matrix\": wandb.plot.confusion_matrix(\n",
    "                probs=None,\n",
    "                y_true=final_targets_np,\n",
    "                preds=final_preds_np,\n",
    "                class_names=class_names\n",
    "            )\n",
    "        })\n",
    "        \n",
    "        # Feature importance (if feature names are available)\n",
    "        try:\n",
    "            importance_df = compute_feature_importance(\n",
    "                model, X_test_device, feature_names, device\n",
    "            )\n",
    "            \n",
    "            importance_table = wandb.Table(dataframe=importance_df.head(10))\n",
    "            wandb.log({\"feature_importance\": importance_table})\n",
    "            \n",
    "            # Bar chart for feature importance\n",
    "            importance_data = [[name, imp] for name, imp in \n",
    "                              zip(importance_df['Feature'].head(10), \n",
    "                                  importance_df['Importance'].head(10))]\n",
    "            importance_table = wandb.Table(data=importance_data, \n",
    "                                          columns=[\"Feature\", \"Importance\"])\n",
    "            wandb.log({\n",
    "                \"feature_importance_chart\": wandb.plot.bar(\n",
    "                    importance_table, \"Feature\", \"Importance\",\n",
    "                    title=\"Top 10 Feature Importances\"\n",
    "                )\n",
    "            })\n",
    "        except Exception as e:\n",
    "            print(f\"Feature importance computation failed: {e}\")\n",
    "        \n",
    "        # Save best model\n",
    "        ##model_filename = f\"model_sweep_{wandb.run.id}.pth\"\n",
    "        #torch.save(model.state_dict(), model_filename)\n",
    "        #wandb.save(model_filename)\n",
    "\n",
    "# Define sweep configuration\n",
    "sweep_config = {\n",
    "    'method': 'bayes',  # Bayesian optimization\n",
    "    'metric': {\n",
    "        'name': 'val_accuracy',\n",
    "        'goal': 'maximize'\n",
    "    },\n",
    "    'parameters': {\n",
    "        'hidden_size': {\n",
    "            'values': [28, 32, 42, 56]\n",
    "        },\n",
    "        'dropout_prob': {\n",
    "            'min': 0.2,\n",
    "            'max': 0.4\n",
    "        },\n",
    "        'learning_rate': {\n",
    "            'min': 0.008,  \n",
    "            'max': 0.02,\n",
    "            'distribution': 'log_uniform_values'\n",
    "        },\n",
    "        'num_epochs': {\n",
    "            'values': [500, 750, 1000]  # More structured choices\n",
    "        }\n",
    "    },\n",
    "    'early_terminate': {\n",
    "        'type': 'hyperband',\n",
    "        'min_iter': 100,\n",
    "        'max_iter': 1000\n",
    "    }\n",
    "}\n",
    "\n",
    "# Initialize sweep\n",
    "sweep_id = wandb.sweep(sweep_config, project=\"football-ml-prediction\")\n",
    "\n",
    "print(\"Starting hyperparameter sweep...\")\n",
    "print(\"Make sure you have defined: X_train_tensor, y_train_tensor, X_test_tensor, y_test_tensor\")\n",
    "print(\"And optionally: feature_names (for feature importance)\")\n",
    "\n",
    "# Run sweep with 20 runs\n",
    "wandb.agent(sweep_id, train_model, count=10)\n",
    "\n",
    "print(\"\\nSweep configuration ready! Uncomment the wandb.agent line to start the sweep.\")"
   ]
  },
  {
   "cell_type": "code",
   "execution_count": null,
   "id": "e826908c-dc66-4459-84e2-bc56c6f0cf4c",
   "metadata": {},
   "outputs": [],
   "source": []
  },
  {
   "cell_type": "code",
   "execution_count": null,
   "id": "5c8d7411-b38c-4a81-b93a-2654ae96b384",
   "metadata": {},
   "outputs": [],
   "source": []
  },
  {
   "cell_type": "code",
   "execution_count": null,
   "id": "7f0175ee-fd2d-483a-9a05-e9e20b5c65f0",
   "metadata": {},
   "outputs": [],
   "source": []
  },
  {
   "cell_type": "code",
   "execution_count": null,
   "id": "655d31b0-7ed2-43a5-a3ef-43d0ff10f1c4",
   "metadata": {},
   "outputs": [],
   "source": []
  },
  {
   "cell_type": "code",
   "execution_count": null,
   "id": "235e97b6-c885-4476-a76c-41e75b60ce08",
   "metadata": {},
   "outputs": [],
   "source": []
  },
  {
   "cell_type": "code",
   "execution_count": null,
   "id": "a7ee2200-e6be-4588-88b4-cc9724270610",
   "metadata": {},
   "outputs": [],
   "source": []
  },
  {
   "cell_type": "code",
   "execution_count": null,
   "id": "06277960-d869-4f13-abed-ac5332cd461b",
   "metadata": {},
   "outputs": [],
   "source": []
  },
  {
   "cell_type": "code",
   "execution_count": null,
   "id": "83859ab2-1b10-4480-9f21-c757c46a93aa",
   "metadata": {},
   "outputs": [],
   "source": []
  },
  {
   "cell_type": "code",
   "execution_count": null,
   "id": "1c036569-7b2c-4cfa-9bbc-dac1d4a98a93",
   "metadata": {},
   "outputs": [],
   "source": []
  }
 ],
 "metadata": {
  "kernelspec": {
   "display_name": "Python 3 (ipykernel)",
   "language": "python",
   "name": "python3"
  },
  "language_info": {
   "codemirror_mode": {
    "name": "ipython",
    "version": 3
   },
   "file_extension": ".py",
   "mimetype": "text/x-python",
   "name": "python",
   "nbconvert_exporter": "python",
   "pygments_lexer": "ipython3",
   "version": "3.11.5"
  }
 },
 "nbformat": 4,
 "nbformat_minor": 5
}
